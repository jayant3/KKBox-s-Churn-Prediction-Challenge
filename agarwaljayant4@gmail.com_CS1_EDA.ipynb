{
 "cells": [
  {
   "cell_type": "markdown",
   "metadata": {},
   "source": [
    "# KKBox's Churn Prediction Challenge"
   ]
  },
  {
   "cell_type": "markdown",
   "metadata": {},
   "source": [
    "This is a case study on KKBox’s Churn Prediction Challenge dataset\n",
    "from Kaggle.\n",
    "\n",
    "_KKBox is Asia’s top music streaming service with over 10 million users, featuring\n",
    "over 10 million music tracks. KKBOX offers unlimited and on-demand music with\n",
    "a single monthly subscription fee for users to stream online or download from\n",
    "their smartphones, tablets and PCs._\n",
    "\n",
    "In this case study, I build an algorithm that predicts whether a user will churn after their subscription expires.\n",
    "\n",
    "_Churn means a customer/user does not re-subscribe within 30 days after\n",
    "expiration of their subscription._\n",
    "\n",
    "Knowing that a user will probably churn and the reasons behind it, will\n",
    "help a company to improve their services and retain their customers\n",
    "as well.\n",
    "\n",
    "KKBox has provided the train and test datasets for this task. \n",
    "Below are the details of the data provided by the KKBox for this case\n",
    "study.\n",
    "\n",
    "1. Train Class Labels data (trainv2.csv file) – It contains the churn data\n",
    "for March and has two columns\n",
    "· msno – user id\n",
    "· is_churn – 1 (churn) ; 0 (re-subscribed)\n",
    "\n",
    "2. Test Class Label data (sample_submission_v2.csv file) – It contains the churn data for\n",
    "March and has two columns\n",
    "· msno – user id\n",
    "· is_churn – 1 (churn) ; 0 (re-subscribed)\n",
    "\n",
    "3. Members (members_v3.csv file) – It contains data about the users, but not\n",
    "for every user and has following columns:\n",
    "· msno\n",
    "· city\n",
    "· bd – age\n",
    "· gender\n",
    "· registered_via: registration method\n",
    "· registration_init_time: format %Y%m%d\n",
    "· expiration_date: format %Y%m%d, taken as a snapshot at which\n",
    "the member.csv is extracted. Not representing the actual churn\n",
    "behavior.\n",
    "\n",
    "4. Transactions of users (transactions_v2.csv file) – It contains transactions\n",
    "data of users \n",
    "· msno: user id\n",
    "· payment_method_id: payment method\n",
    "· payment_plan_days: length of membership plan in days\n",
    "· plan_list_price: in New Taiwan Dollar (NTD)\n",
    "· actual_amount_paid: in New Taiwan Dollar (NTD)\n",
    "· is_auto_renew\n",
    "· transaction_date: format %Y%m%d\n",
    "· membership_expire_date: format %Y%m%d\n",
    "· is_cancel: whether or not the user canceled the membership in\n",
    "this transaction.\n",
    "\n",
    "5. User logs (user_logs_v2.csv file): It contains daily user logs\n",
    "describing listening behaviours of a user.\n",
    "· msno: user id\n",
    "· date: format %Y%m%d\n",
    "· num_25: # of songs played less than 25% of the song length\n",
    "· num_50: # of songs played between 25% to 50% of the song\n",
    "length\n",
    "· num_75: # of songs played between 50% to 75% of of the song\n",
    "length\n",
    "· num_985: # of songs played between 75% to 98.5% of the song\n",
    "length\n",
    "· num_100: # of songs played over 98.5% of the song length\n",
    "· num_unq: # of unique songs played\n",
    "· total_secs: total seconds played\n"
   ]
  },
  {
   "cell_type": "markdown",
   "metadata": {},
   "source": [
    "### EDA (Exploratory Data Analysis)"
   ]
  },
  {
   "cell_type": "code",
   "execution_count": 1,
   "metadata": {},
   "outputs": [],
   "source": [
    "# import libraries\n",
    "import warnings \n",
    "warnings.filterwarnings(\"ignore\")\n",
    "import pandas as pd\n",
    "import dask.dataframe as dd\n",
    "import numpy as np\n",
    "import scipy\n",
    "import matplotlib.pyplot as plt\n",
    "import seaborn as sn\n",
    "import os\n",
    "import py7zr\n",
    "from zipfile import ZipFile\n",
    "from datetime import datetime"
   ]
  },
  {
   "cell_type": "code",
   "execution_count": 4,
   "metadata": {},
   "outputs": [],
   "source": [
    "file_name = \"kkbox-churn-prediction-challenge.zip\""
   ]
  },
  {
   "cell_type": "code",
   "execution_count": 5,
   "metadata": {
    "scrolled": true
   },
   "outputs": [
    {
     "name": "stdout",
     "output_type": "stream",
     "text": [
      "File Name                                             Modified             Size\n",
      "WSDMChurnLabeller.scala                        2019-12-12 00:08:24         7050\n",
      "members_v3.csv.7z                              2019-12-12 00:08:32    242308558\n",
      "sample_submission_v2.csv.7z                    2019-12-12 00:09:24     30666957\n",
      "sample_submission_zero.csv.7z                  2019-12-12 00:09:28     32828332\n",
      "train.csv.7z                                   2019-12-12 00:09:36     33563098\n",
      "train_v2.csv.7z                                2019-12-12 00:09:42     32818991\n",
      "transactions.csv.7z                            2019-12-12 00:09:46    707508779\n",
      "transactions_v2.csv.7z                         2019-12-12 00:11:40     48850410\n",
      "user_logs.csv.7z                               2019-12-12 00:11:46   7136060375\n",
      "user_logs_v2.csv.7z                            2019-12-12 00:33:28    685951221\n",
      "Extracting all the zipfiles now\n"
     ]
    }
   ],
   "source": [
    "with ZipFile(file_name,'r') as zipfile:\n",
    "    zipfile.printdir()  # printing all the contents of zipfile\n",
    "    \n",
    "    # extracting all the files\n",
    "    print(\"Extracting all the zipfiles now\")\n",
    "    zipfile.extractall(\"input\")  #extracting files in a folder \"input\" "
   ]
  },
  {
   "cell_type": "code",
   "execution_count": 50,
   "metadata": {},
   "outputs": [
    {
     "name": "stdout",
     "output_type": "stream",
     "text": [
      "Unzipping - user_logs_v2.csv.7z\n",
      "Unzipped  user_logs_v2.csv.7z\n",
      "==============================\n",
      "Unzipping - train.csv.7z\n",
      "Unzipped  train.csv.7z\n",
      "==============================\n",
      "Unzipping - sample_submission_zero.csv.7z\n",
      "Unzipped  sample_submission_zero.csv.7z\n",
      "==============================\n",
      "Unzipping - transactions.csv.7z\n",
      "Unzipped  transactions.csv.7z\n",
      "==============================\n",
      "Unzipping - transactions_v2.csv.7z\n",
      "Unzipped  transactions_v2.csv.7z\n",
      "==============================\n",
      "Unzipping - train_v2.csv.7z\n",
      "Unzipped  train_v2.csv.7z\n",
      "==============================\n",
      "Unzipping - members_v3.csv.7z\n",
      "Unzipped  members_v3.csv.7z\n",
      "==============================\n",
      "Unzipping - sample_submission_v2.csv.7z\n",
      "Unzipped  sample_submission_v2.csv.7z\n",
      "==============================\n",
      "Unzipping - user_logs.csv.7z\n",
      "Unzipped  user_logs.csv.7z\n",
      "==============================\n"
     ]
    }
   ],
   "source": [
    "for file in os.listdir(\"input\"):\n",
    "    if (file != \"WSDMChurnLabeller.scala\") and (file!=\".ipynb_checkpoints\"):\n",
    "        print(f\"Unzipping - {file}\")\n",
    "        archive = py7zr.SevenZipFile(f\"input/{file}\", mode='r')\n",
    "        archive.extractall(path=\"input_files\")\n",
    "        print(f\"Unzipped  {file}\")\n",
    "        print(\"=\"*30)\n",
    "        archive.close()"
   ]
  },
  {
   "cell_type": "markdown",
   "metadata": {},
   "source": [
    "### Reading Input Data"
   ]
  },
  {
   "cell_type": "code",
   "execution_count": 2,
   "metadata": {},
   "outputs": [
    {
     "name": "stdout",
     "output_type": "stream",
     "text": [
      "(970960, 2)\n"
     ]
    },
    {
     "data": {
      "text/html": [
       "<div>\n",
       "<style scoped>\n",
       "    .dataframe tbody tr th:only-of-type {\n",
       "        vertical-align: middle;\n",
       "    }\n",
       "\n",
       "    .dataframe tbody tr th {\n",
       "        vertical-align: top;\n",
       "    }\n",
       "\n",
       "    .dataframe thead th {\n",
       "        text-align: right;\n",
       "    }\n",
       "</style>\n",
       "<table border=\"1\" class=\"dataframe\">\n",
       "  <thead>\n",
       "    <tr style=\"text-align: right;\">\n",
       "      <th></th>\n",
       "      <th>msno</th>\n",
       "      <th>is_churn</th>\n",
       "    </tr>\n",
       "  </thead>\n",
       "  <tbody>\n",
       "    <tr>\n",
       "      <th>0</th>\n",
       "      <td>ugx0CjOMzazClkFzU2xasmDZaoIqOUAZPsH1q0teWCg=</td>\n",
       "      <td>1</td>\n",
       "    </tr>\n",
       "    <tr>\n",
       "      <th>1</th>\n",
       "      <td>f/NmvEzHfhINFEYZTR05prUdr+E+3+oewvweYz9cCQE=</td>\n",
       "      <td>1</td>\n",
       "    </tr>\n",
       "    <tr>\n",
       "      <th>2</th>\n",
       "      <td>zLo9f73nGGT1p21ltZC3ChiRnAVvgibMyazbCxvWPcg=</td>\n",
       "      <td>1</td>\n",
       "    </tr>\n",
       "    <tr>\n",
       "      <th>3</th>\n",
       "      <td>8iF/+8HY8lJKFrTc7iR9ZYGCG2Ecrogbc2Vy5YhsfhQ=</td>\n",
       "      <td>1</td>\n",
       "    </tr>\n",
       "    <tr>\n",
       "      <th>4</th>\n",
       "      <td>K6fja4+jmoZ5xG6BypqX80Uw/XKpMgrEMdG2edFOxnA=</td>\n",
       "      <td>1</td>\n",
       "    </tr>\n",
       "  </tbody>\n",
       "</table>\n",
       "</div>"
      ],
      "text/plain": [
       "                                           msno  is_churn\n",
       "0  ugx0CjOMzazClkFzU2xasmDZaoIqOUAZPsH1q0teWCg=         1\n",
       "1  f/NmvEzHfhINFEYZTR05prUdr+E+3+oewvweYz9cCQE=         1\n",
       "2  zLo9f73nGGT1p21ltZC3ChiRnAVvgibMyazbCxvWPcg=         1\n",
       "3  8iF/+8HY8lJKFrTc7iR9ZYGCG2Ecrogbc2Vy5YhsfhQ=         1\n",
       "4  K6fja4+jmoZ5xG6BypqX80Uw/XKpMgrEMdG2edFOxnA=         1"
      ]
     },
     "execution_count": 2,
     "metadata": {},
     "output_type": "execute_result"
    }
   ],
   "source": [
    "trainv2 = pd.read_csv(\"input_files/train_v2.csv\",dtype={'is_churn':np.int8})\n",
    "print(trainv2.shape)\n",
    "trainv2.head()"
   ]
  },
  {
   "cell_type": "code",
   "execution_count": 3,
   "metadata": {},
   "outputs": [
    {
     "name": "stdout",
     "output_type": "stream",
     "text": [
      "907471\n"
     ]
    },
    {
     "data": {
      "text/html": [
       "<div>\n",
       "<style scoped>\n",
       "    .dataframe tbody tr th:only-of-type {\n",
       "        vertical-align: middle;\n",
       "    }\n",
       "\n",
       "    .dataframe tbody tr th {\n",
       "        vertical-align: top;\n",
       "    }\n",
       "\n",
       "    .dataframe thead th {\n",
       "        text-align: right;\n",
       "    }\n",
       "</style>\n",
       "<table border=\"1\" class=\"dataframe\">\n",
       "  <thead>\n",
       "    <tr style=\"text-align: right;\">\n",
       "      <th></th>\n",
       "      <th>msno</th>\n",
       "      <th>is_churn</th>\n",
       "    </tr>\n",
       "  </thead>\n",
       "  <tbody>\n",
       "    <tr>\n",
       "      <th>0</th>\n",
       "      <td>4n+fXlyJvfQnTeKXTWT507Ll4JVYGrOC8LHCfwBmPE4=</td>\n",
       "      <td>0</td>\n",
       "    </tr>\n",
       "    <tr>\n",
       "      <th>1</th>\n",
       "      <td>aNmbC1GvFUxQyQUidCVmfbQ0YeCuwkPzEdQ0RwWyeZM=</td>\n",
       "      <td>0</td>\n",
       "    </tr>\n",
       "    <tr>\n",
       "      <th>2</th>\n",
       "      <td>rFC9eSG/tMuzpre6cwcMLZHEYM89xY02qcz7HL4//jc=</td>\n",
       "      <td>0</td>\n",
       "    </tr>\n",
       "    <tr>\n",
       "      <th>3</th>\n",
       "      <td>WZ59dLyrQcE7ft06MZ5dj40BnlYQY7PHgg/54+HaCSE=</td>\n",
       "      <td>0</td>\n",
       "    </tr>\n",
       "    <tr>\n",
       "      <th>4</th>\n",
       "      <td>aky/Iv8hMp1/V/yQHLtaVuEmmAxkB5GuasQZePJ7NU4=</td>\n",
       "      <td>0</td>\n",
       "    </tr>\n",
       "  </tbody>\n",
       "</table>\n",
       "</div>"
      ],
      "text/plain": [
       "                                           msno  is_churn\n",
       "0  4n+fXlyJvfQnTeKXTWT507Ll4JVYGrOC8LHCfwBmPE4=         0\n",
       "1  aNmbC1GvFUxQyQUidCVmfbQ0YeCuwkPzEdQ0RwWyeZM=         0\n",
       "2  rFC9eSG/tMuzpre6cwcMLZHEYM89xY02qcz7HL4//jc=         0\n",
       "3  WZ59dLyrQcE7ft06MZ5dj40BnlYQY7PHgg/54+HaCSE=         0\n",
       "4  aky/Iv8hMp1/V/yQHLtaVuEmmAxkB5GuasQZePJ7NU4=         0"
      ]
     },
     "execution_count": 3,
     "metadata": {},
     "output_type": "execute_result"
    }
   ],
   "source": [
    "\n",
    "sample_submission_v2 = pd.read_csv(\"input_files/sample_submission_v2.csv\",dtype={'is_churn':np.int8})\n",
    "print(len(sample_submission_v2))\n",
    "sample_submission_v2.head()\n"
   ]
  },
  {
   "cell_type": "code",
   "execution_count": 4,
   "metadata": {},
   "outputs": [
    {
     "name": "stdout",
     "output_type": "stream",
     "text": [
      "1431009\n"
     ]
    },
    {
     "data": {
      "text/html": [
       "<div>\n",
       "<style scoped>\n",
       "    .dataframe tbody tr th:only-of-type {\n",
       "        vertical-align: middle;\n",
       "    }\n",
       "\n",
       "    .dataframe tbody tr th {\n",
       "        vertical-align: top;\n",
       "    }\n",
       "\n",
       "    .dataframe thead th {\n",
       "        text-align: right;\n",
       "    }\n",
       "</style>\n",
       "<table border=\"1\" class=\"dataframe\">\n",
       "  <thead>\n",
       "    <tr style=\"text-align: right;\">\n",
       "      <th></th>\n",
       "      <th>msno</th>\n",
       "      <th>payment_method_id</th>\n",
       "      <th>payment_plan_days</th>\n",
       "      <th>plan_list_price</th>\n",
       "      <th>actual_amount_paid</th>\n",
       "      <th>is_auto_renew</th>\n",
       "      <th>transaction_date</th>\n",
       "      <th>membership_expire_date</th>\n",
       "      <th>is_cancel</th>\n",
       "    </tr>\n",
       "  </thead>\n",
       "  <tbody>\n",
       "    <tr>\n",
       "      <th>0</th>\n",
       "      <td>++6eU4LsQ3UQ20ILS7d99XK8WbiVgbyYL4FUgzZR134=</td>\n",
       "      <td>32</td>\n",
       "      <td>90</td>\n",
       "      <td>298</td>\n",
       "      <td>298</td>\n",
       "      <td>0</td>\n",
       "      <td>20170131</td>\n",
       "      <td>20170504</td>\n",
       "      <td>0</td>\n",
       "    </tr>\n",
       "    <tr>\n",
       "      <th>1</th>\n",
       "      <td>++lvGPJOinuin/8esghpnqdljm6NXS8m8Zwchc7gOeA=</td>\n",
       "      <td>41</td>\n",
       "      <td>30</td>\n",
       "      <td>149</td>\n",
       "      <td>149</td>\n",
       "      <td>1</td>\n",
       "      <td>20150809</td>\n",
       "      <td>20190412</td>\n",
       "      <td>0</td>\n",
       "    </tr>\n",
       "    <tr>\n",
       "      <th>2</th>\n",
       "      <td>+/GXNtXWQVfKrEDqYAzcSw2xSPYMKWNj22m+5XkVQZc=</td>\n",
       "      <td>36</td>\n",
       "      <td>30</td>\n",
       "      <td>180</td>\n",
       "      <td>180</td>\n",
       "      <td>1</td>\n",
       "      <td>20170303</td>\n",
       "      <td>20170422</td>\n",
       "      <td>0</td>\n",
       "    </tr>\n",
       "    <tr>\n",
       "      <th>3</th>\n",
       "      <td>+/w1UrZwyka4C9oNH3+Q8fUf3fD8R3EwWrx57ODIsqk=</td>\n",
       "      <td>36</td>\n",
       "      <td>30</td>\n",
       "      <td>180</td>\n",
       "      <td>180</td>\n",
       "      <td>1</td>\n",
       "      <td>20170329</td>\n",
       "      <td>20170331</td>\n",
       "      <td>1</td>\n",
       "    </tr>\n",
       "    <tr>\n",
       "      <th>4</th>\n",
       "      <td>+00PGzKTYqtnb65mPKPyeHXcZEwqiEzktpQksaaSC3c=</td>\n",
       "      <td>41</td>\n",
       "      <td>30</td>\n",
       "      <td>99</td>\n",
       "      <td>99</td>\n",
       "      <td>1</td>\n",
       "      <td>20170323</td>\n",
       "      <td>20170423</td>\n",
       "      <td>0</td>\n",
       "    </tr>\n",
       "  </tbody>\n",
       "</table>\n",
       "</div>"
      ],
      "text/plain": [
       "                                           msno  payment_method_id  \\\n",
       "0  ++6eU4LsQ3UQ20ILS7d99XK8WbiVgbyYL4FUgzZR134=                 32   \n",
       "1  ++lvGPJOinuin/8esghpnqdljm6NXS8m8Zwchc7gOeA=                 41   \n",
       "2  +/GXNtXWQVfKrEDqYAzcSw2xSPYMKWNj22m+5XkVQZc=                 36   \n",
       "3  +/w1UrZwyka4C9oNH3+Q8fUf3fD8R3EwWrx57ODIsqk=                 36   \n",
       "4  +00PGzKTYqtnb65mPKPyeHXcZEwqiEzktpQksaaSC3c=                 41   \n",
       "\n",
       "   payment_plan_days  plan_list_price  actual_amount_paid  is_auto_renew  \\\n",
       "0                 90              298                 298              0   \n",
       "1                 30              149                 149              1   \n",
       "2                 30              180                 180              1   \n",
       "3                 30              180                 180              1   \n",
       "4                 30               99                  99              1   \n",
       "\n",
       "   transaction_date  membership_expire_date  is_cancel  \n",
       "0          20170131                20170504          0  \n",
       "1          20150809                20190412          0  \n",
       "2          20170303                20170422          0  \n",
       "3          20170329                20170331          1  \n",
       "4          20170323                20170423          0  "
      ]
     },
     "execution_count": 4,
     "metadata": {},
     "output_type": "execute_result"
    }
   ],
   "source": [
    "transactions_v2 = pd.read_csv(\"input_files/transactions_v2.csv\",\n",
    "                              dtype={'payment_method_id':np.int8,'payment_plan_days':np.int16,'plan_list_price':np.int16,\n",
    "                                    'actual_amount_paid':np.int16,'is_auto_renew':np.int8,'is_cancel':np.int8})\n",
    "print(len(transactions_v2))\n",
    "transactions_v2.head()\n"
   ]
  },
  {
   "cell_type": "code",
   "execution_count": 5,
   "metadata": {
    "scrolled": true
   },
   "outputs": [
    {
     "name": "stdout",
     "output_type": "stream",
     "text": [
      "(6769473, 6)\n"
     ]
    },
    {
     "data": {
      "text/html": [
       "<div>\n",
       "<style scoped>\n",
       "    .dataframe tbody tr th:only-of-type {\n",
       "        vertical-align: middle;\n",
       "    }\n",
       "\n",
       "    .dataframe tbody tr th {\n",
       "        vertical-align: top;\n",
       "    }\n",
       "\n",
       "    .dataframe thead th {\n",
       "        text-align: right;\n",
       "    }\n",
       "</style>\n",
       "<table border=\"1\" class=\"dataframe\">\n",
       "  <thead>\n",
       "    <tr style=\"text-align: right;\">\n",
       "      <th></th>\n",
       "      <th>msno</th>\n",
       "      <th>city</th>\n",
       "      <th>bd</th>\n",
       "      <th>gender</th>\n",
       "      <th>registered_via</th>\n",
       "      <th>registration_init_time</th>\n",
       "    </tr>\n",
       "  </thead>\n",
       "  <tbody>\n",
       "    <tr>\n",
       "      <th>0</th>\n",
       "      <td>Rb9UwLQTrxzBVwCB6+bCcSQWZ9JiNLC9dXtM1oEsZA8=</td>\n",
       "      <td>1</td>\n",
       "      <td>0</td>\n",
       "      <td>NaN</td>\n",
       "      <td>11</td>\n",
       "      <td>20110911</td>\n",
       "    </tr>\n",
       "    <tr>\n",
       "      <th>1</th>\n",
       "      <td>+tJonkh+O1CA796Fm5X60UMOtB6POHAwPjbTRVl/EuU=</td>\n",
       "      <td>1</td>\n",
       "      <td>0</td>\n",
       "      <td>NaN</td>\n",
       "      <td>7</td>\n",
       "      <td>20110914</td>\n",
       "    </tr>\n",
       "    <tr>\n",
       "      <th>2</th>\n",
       "      <td>cV358ssn7a0f7jZOwGNWS07wCKVqxyiImJUX6xcIwKw=</td>\n",
       "      <td>1</td>\n",
       "      <td>0</td>\n",
       "      <td>NaN</td>\n",
       "      <td>11</td>\n",
       "      <td>20110915</td>\n",
       "    </tr>\n",
       "    <tr>\n",
       "      <th>3</th>\n",
       "      <td>9bzDeJP6sQodK73K5CBlJ6fgIQzPeLnRl0p5B77XP+g=</td>\n",
       "      <td>1</td>\n",
       "      <td>0</td>\n",
       "      <td>NaN</td>\n",
       "      <td>11</td>\n",
       "      <td>20110915</td>\n",
       "    </tr>\n",
       "    <tr>\n",
       "      <th>4</th>\n",
       "      <td>WFLY3s7z4EZsieHCt63XrsdtfTEmJ+2PnnKLH5GY4Tk=</td>\n",
       "      <td>6</td>\n",
       "      <td>32</td>\n",
       "      <td>female</td>\n",
       "      <td>9</td>\n",
       "      <td>20110915</td>\n",
       "    </tr>\n",
       "  </tbody>\n",
       "</table>\n",
       "</div>"
      ],
      "text/plain": [
       "                                           msno  city  bd  gender  \\\n",
       "0  Rb9UwLQTrxzBVwCB6+bCcSQWZ9JiNLC9dXtM1oEsZA8=     1   0     NaN   \n",
       "1  +tJonkh+O1CA796Fm5X60UMOtB6POHAwPjbTRVl/EuU=     1   0     NaN   \n",
       "2  cV358ssn7a0f7jZOwGNWS07wCKVqxyiImJUX6xcIwKw=     1   0     NaN   \n",
       "3  9bzDeJP6sQodK73K5CBlJ6fgIQzPeLnRl0p5B77XP+g=     1   0     NaN   \n",
       "4  WFLY3s7z4EZsieHCt63XrsdtfTEmJ+2PnnKLH5GY4Tk=     6  32  female   \n",
       "\n",
       "   registered_via  registration_init_time  \n",
       "0              11                20110911  \n",
       "1               7                20110914  \n",
       "2              11                20110915  \n",
       "3              11                20110915  \n",
       "4               9                20110915  "
      ]
     },
     "execution_count": 5,
     "metadata": {},
     "output_type": "execute_result"
    }
   ],
   "source": [
    "members = pd.read_csv(\"input_files/members_v3.csv\",\n",
    "                     dtype={'city':np.int8,'bd':np.int16,'registered_via':np.int8})\n",
    "print((members.shape))\n",
    "members.head()"
   ]
  },
  {
   "cell_type": "code",
   "execution_count": 6,
   "metadata": {},
   "outputs": [
    {
     "name": "stdout",
     "output_type": "stream",
     "text": [
      "(18396362, 9)\n"
     ]
    },
    {
     "data": {
      "text/html": [
       "<div>\n",
       "<style scoped>\n",
       "    .dataframe tbody tr th:only-of-type {\n",
       "        vertical-align: middle;\n",
       "    }\n",
       "\n",
       "    .dataframe tbody tr th {\n",
       "        vertical-align: top;\n",
       "    }\n",
       "\n",
       "    .dataframe thead th {\n",
       "        text-align: right;\n",
       "    }\n",
       "</style>\n",
       "<table border=\"1\" class=\"dataframe\">\n",
       "  <thead>\n",
       "    <tr style=\"text-align: right;\">\n",
       "      <th></th>\n",
       "      <th>msno</th>\n",
       "      <th>date</th>\n",
       "      <th>num_25</th>\n",
       "      <th>num_50</th>\n",
       "      <th>num_75</th>\n",
       "      <th>num_985</th>\n",
       "      <th>num_100</th>\n",
       "      <th>num_unq</th>\n",
       "      <th>total_secs</th>\n",
       "    </tr>\n",
       "  </thead>\n",
       "  <tbody>\n",
       "    <tr>\n",
       "      <th>0</th>\n",
       "      <td>u9E91QDTvHLq6NXjEaWv8u4QIqhrHk72kE+w31Gnhdg=</td>\n",
       "      <td>20170331</td>\n",
       "      <td>8</td>\n",
       "      <td>4</td>\n",
       "      <td>0</td>\n",
       "      <td>1</td>\n",
       "      <td>21</td>\n",
       "      <td>18</td>\n",
       "      <td>6309.273</td>\n",
       "    </tr>\n",
       "    <tr>\n",
       "      <th>1</th>\n",
       "      <td>nTeWW/eOZA/UHKdD5L7DEqKKFTjaAj3ALLPoAWsU8n0=</td>\n",
       "      <td>20170330</td>\n",
       "      <td>2</td>\n",
       "      <td>2</td>\n",
       "      <td>1</td>\n",
       "      <td>0</td>\n",
       "      <td>9</td>\n",
       "      <td>11</td>\n",
       "      <td>2390.699</td>\n",
       "    </tr>\n",
       "    <tr>\n",
       "      <th>2</th>\n",
       "      <td>2UqkWXwZbIjs03dHLU9KHJNNEvEkZVzm69f3jCS+uLI=</td>\n",
       "      <td>20170331</td>\n",
       "      <td>52</td>\n",
       "      <td>3</td>\n",
       "      <td>5</td>\n",
       "      <td>3</td>\n",
       "      <td>84</td>\n",
       "      <td>110</td>\n",
       "      <td>23203.337</td>\n",
       "    </tr>\n",
       "    <tr>\n",
       "      <th>3</th>\n",
       "      <td>ycwLc+m2O0a85jSLALtr941AaZt9ai8Qwlg9n0Nql5U=</td>\n",
       "      <td>20170331</td>\n",
       "      <td>176</td>\n",
       "      <td>4</td>\n",
       "      <td>2</td>\n",
       "      <td>2</td>\n",
       "      <td>19</td>\n",
       "      <td>191</td>\n",
       "      <td>7100.454</td>\n",
       "    </tr>\n",
       "    <tr>\n",
       "      <th>4</th>\n",
       "      <td>EGcbTofOSOkMmQyN1NMLxHEXJ1yV3t/JdhGwQ9wXjnI=</td>\n",
       "      <td>20170331</td>\n",
       "      <td>2</td>\n",
       "      <td>1</td>\n",
       "      <td>0</td>\n",
       "      <td>1</td>\n",
       "      <td>112</td>\n",
       "      <td>93</td>\n",
       "      <td>28401.558</td>\n",
       "    </tr>\n",
       "  </tbody>\n",
       "</table>\n",
       "</div>"
      ],
      "text/plain": [
       "                                           msno      date  num_25  num_50  \\\n",
       "0  u9E91QDTvHLq6NXjEaWv8u4QIqhrHk72kE+w31Gnhdg=  20170331       8       4   \n",
       "1  nTeWW/eOZA/UHKdD5L7DEqKKFTjaAj3ALLPoAWsU8n0=  20170330       2       2   \n",
       "2  2UqkWXwZbIjs03dHLU9KHJNNEvEkZVzm69f3jCS+uLI=  20170331      52       3   \n",
       "3  ycwLc+m2O0a85jSLALtr941AaZt9ai8Qwlg9n0Nql5U=  20170331     176       4   \n",
       "4  EGcbTofOSOkMmQyN1NMLxHEXJ1yV3t/JdhGwQ9wXjnI=  20170331       2       1   \n",
       "\n",
       "   num_75  num_985  num_100  num_unq  total_secs  \n",
       "0       0        1       21       18    6309.273  \n",
       "1       1        0        9       11    2390.699  \n",
       "2       5        3       84      110   23203.337  \n",
       "3       2        2       19      191    7100.454  \n",
       "4       0        1      112       93   28401.558  "
      ]
     },
     "execution_count": 6,
     "metadata": {},
     "output_type": "execute_result"
    }
   ],
   "source": [
    "\n",
    "user_logs_v2 = pd.read_csv(\"input_files/user_logs_v2.csv\",\n",
    "                     dtype={'num_25': np.int16,'num_50': np.int16,'num_75': np.int16,'num_985': np.int16,'num_100': np.int16})\n",
    "print(user_logs_v2.shape)\n",
    "user_logs_v2.head()\n"
   ]
  },
  {
   "cell_type": "markdown",
   "metadata": {},
   "source": [
    "### EDA, Data Cleaning and Preprocessing"
   ]
  },
  {
   "cell_type": "code",
   "execution_count": 7,
   "metadata": {},
   "outputs": [
    {
     "data": {
      "text/html": [
       "<div>\n",
       "<style scoped>\n",
       "    .dataframe tbody tr th:only-of-type {\n",
       "        vertical-align: middle;\n",
       "    }\n",
       "\n",
       "    .dataframe tbody tr th {\n",
       "        vertical-align: top;\n",
       "    }\n",
       "\n",
       "    .dataframe thead th {\n",
       "        text-align: right;\n",
       "    }\n",
       "</style>\n",
       "<table border=\"1\" class=\"dataframe\">\n",
       "  <thead>\n",
       "    <tr style=\"text-align: right;\">\n",
       "      <th></th>\n",
       "      <th>msno</th>\n",
       "      <th>payment_method_id</th>\n",
       "      <th>payment_plan_days</th>\n",
       "      <th>plan_list_price</th>\n",
       "      <th>actual_amount_paid</th>\n",
       "      <th>is_auto_renew</th>\n",
       "      <th>transaction_date</th>\n",
       "      <th>membership_expire_date</th>\n",
       "      <th>is_cancel</th>\n",
       "    </tr>\n",
       "  </thead>\n",
       "  <tbody>\n",
       "    <tr>\n",
       "      <th>1199340</th>\n",
       "      <td>aKP16t82xpiU6donvP21pmmozVn6YzCGHYR2UB79/gI=</td>\n",
       "      <td>34</td>\n",
       "      <td>30</td>\n",
       "      <td>149</td>\n",
       "      <td>149</td>\n",
       "      <td>1</td>\n",
       "      <td>20170331</td>\n",
       "      <td>20170430</td>\n",
       "      <td>0</td>\n",
       "    </tr>\n",
       "    <tr>\n",
       "      <th>1249243</th>\n",
       "      <td>a1Cc2QvP3E0NJOAmfHoHok+/Vmd7yy1uq6XYpsaQiP0=</td>\n",
       "      <td>41</td>\n",
       "      <td>30</td>\n",
       "      <td>100</td>\n",
       "      <td>100</td>\n",
       "      <td>1</td>\n",
       "      <td>20170331</td>\n",
       "      <td>20170430</td>\n",
       "      <td>0</td>\n",
       "    </tr>\n",
       "    <tr>\n",
       "      <th>234686</th>\n",
       "      <td>uCrRmrr1xrz5YF9Vt+TM2Hgc3nvW/Vw7gac+6L6c6NI=</td>\n",
       "      <td>41</td>\n",
       "      <td>30</td>\n",
       "      <td>99</td>\n",
       "      <td>99</td>\n",
       "      <td>1</td>\n",
       "      <td>20170331</td>\n",
       "      <td>20170430</td>\n",
       "      <td>0</td>\n",
       "    </tr>\n",
       "    <tr>\n",
       "      <th>498998</th>\n",
       "      <td>luNHumFuvN52PF4wunvCPB2SSEqZPulWhqJ03bwvYyg=</td>\n",
       "      <td>39</td>\n",
       "      <td>30</td>\n",
       "      <td>149</td>\n",
       "      <td>149</td>\n",
       "      <td>1</td>\n",
       "      <td>20170331</td>\n",
       "      <td>20170506</td>\n",
       "      <td>0</td>\n",
       "    </tr>\n",
       "    <tr>\n",
       "      <th>234688</th>\n",
       "      <td>uE5BJaui8jWgqNh6qqX5GC6mO35sQ5YgLExtV6Jyu5E=</td>\n",
       "      <td>39</td>\n",
       "      <td>30</td>\n",
       "      <td>149</td>\n",
       "      <td>149</td>\n",
       "      <td>1</td>\n",
       "      <td>20170331</td>\n",
       "      <td>20170514</td>\n",
       "      <td>0</td>\n",
       "    </tr>\n",
       "  </tbody>\n",
       "</table>\n",
       "</div>"
      ],
      "text/plain": [
       "                                                 msno  payment_method_id  \\\n",
       "1199340  aKP16t82xpiU6donvP21pmmozVn6YzCGHYR2UB79/gI=                 34   \n",
       "1249243  a1Cc2QvP3E0NJOAmfHoHok+/Vmd7yy1uq6XYpsaQiP0=                 41   \n",
       "234686   uCrRmrr1xrz5YF9Vt+TM2Hgc3nvW/Vw7gac+6L6c6NI=                 41   \n",
       "498998   luNHumFuvN52PF4wunvCPB2SSEqZPulWhqJ03bwvYyg=                 39   \n",
       "234688   uE5BJaui8jWgqNh6qqX5GC6mO35sQ5YgLExtV6Jyu5E=                 39   \n",
       "\n",
       "         payment_plan_days  plan_list_price  actual_amount_paid  \\\n",
       "1199340                 30              149                 149   \n",
       "1249243                 30              100                 100   \n",
       "234686                  30               99                  99   \n",
       "498998                  30              149                 149   \n",
       "234688                  30              149                 149   \n",
       "\n",
       "         is_auto_renew  transaction_date  membership_expire_date  is_cancel  \n",
       "1199340              1          20170331                20170430          0  \n",
       "1249243              1          20170331                20170430          0  \n",
       "234686               1          20170331                20170430          0  \n",
       "498998               1          20170331                20170506          0  \n",
       "234688               1          20170331                20170514          0  "
      ]
     },
     "execution_count": 7,
     "metadata": {},
     "output_type": "execute_result"
    }
   ],
   "source": [
    "# sorting all rows by 'transaction_date' in descending order\n",
    "transactions_v2 = transactions_v2.sort_values(by='transaction_date',ascending=False)\n",
    "transactions_v2.head()"
   ]
  },
  {
   "cell_type": "code",
   "execution_count": 8,
   "metadata": {},
   "outputs": [
    {
     "name": "stdout",
     "output_type": "stream",
     "text": [
      "Shape of transactions dataframe after dropping duplicates =  (1431009, 9)\n"
     ]
    }
   ],
   "source": [
    "# dropping duplicates if there are any\n",
    "transactions_v2.drop_duplicates(inplace=True)\n",
    "print(\"Shape of transactions dataframe after dropping duplicates = \",transactions_v2.shape)"
   ]
  },
  {
   "cell_type": "code",
   "execution_count": 9,
   "metadata": {},
   "outputs": [
    {
     "data": {
      "text/plain": [
       "msno                      0\n",
       "payment_method_id         0\n",
       "payment_plan_days         0\n",
       "plan_list_price           0\n",
       "actual_amount_paid        0\n",
       "is_auto_renew             0\n",
       "transaction_date          0\n",
       "membership_expire_date    0\n",
       "is_cancel                 0\n",
       "dtype: int64"
      ]
     },
     "execution_count": 9,
     "metadata": {},
     "output_type": "execute_result"
    }
   ],
   "source": [
    "# checking if there are any NaN values\n",
    "transactions_v2.isna().sum()"
   ]
  },
  {
   "cell_type": "markdown",
   "metadata": {},
   "source": [
    "There are no NaN or Null in transactions dataset"
   ]
  },
  {
   "cell_type": "code",
   "execution_count": 10,
   "metadata": {},
   "outputs": [
    {
     "data": {
      "image/png": "[encoded data removed]",
      "text/plain": [
       "<Figure size 1440x720 with 1 Axes>"
      ]
     },
     "metadata": {},
     "output_type": "display_data"
    }
   ],
   "source": [
    "#plot of payment method id vs number of users \n",
    "plt.figure(figsize=(20,10))\n",
    "ax = sn.countplot(transactions_v2.payment_method_id, order=transactions_v2.payment_method_id.value_counts().index)\n",
    "plt.xlabel(\"Payment Method IDs\")\n",
    "plt.ylabel(\"Number of transactions\")\n",
    "plt.title(\"Number of transactions vs Payment Method\")\n",
    "\n",
    "total = transactions_v2.shape[0]\n",
    "\n",
    "for p in ax.patches:\n",
    "        ax.annotate('{:.1f}%'.format(100*p.get_height()/total), (p.get_x()+0.25, p.get_height()))\n",
    "\n",
    "plt.show()"
   ]
  },
  {
   "cell_type": "markdown",
   "metadata": {},
   "source": [
    "##### The most used `payment_method_id` is `41`. It counts somewhere around 69000 which is almost 48.7% of the total number of transactions.\n",
    "##### Other `payment_method_id` having significant count are `39, 38, 32, 36, 40`"
   ]
  },
  {
   "cell_type": "code",
   "execution_count": 11,
   "metadata": {},
   "outputs": [
    {
     "data": {
      "image/png": "[encoded data removed]",
      "text/plain": [
       "<Figure size 1440x720 with 1 Axes>"
      ]
     },
     "metadata": {},
     "output_type": "display_data"
    }
   ],
   "source": [
    "#plot of payment method id vs number of users \n",
    "plt.figure(figsize=(20,10))\n",
    "ax = sn.countplot(transactions_v2.payment_plan_days, order=transactions_v2.payment_plan_days.value_counts().index)\n",
    "plt.xlabel(\"Payment Plan Days\")\n",
    "plt.ylabel(\"Number of transactions\")\n",
    "plt.title(\"Number of transactions vs Payment Plan Days\")\n",
    "\n",
    "total = transactions_v2.shape[0]\n",
    "\n",
    "for p in ax.patches:\n",
    "        ax.annotate('{:.1f}%'.format(100*p.get_height()/total), (p.get_x()+0.25, p.get_height()))\n",
    "\n",
    "plt.show()"
   ]
  },
  {
   "cell_type": "markdown",
   "metadata": {},
   "source": [
    "##### 85.1% of the users have a plan of 30 days, there are few users who have a plan of 410, 195,180 and 90 days. \n",
    "##### Other plans have very few users compared to 30 days plan"
   ]
  },
  {
   "cell_type": "code",
   "execution_count": 12,
   "metadata": {
    "scrolled": false
   },
   "outputs": [
    {
     "data": {
      "text/plain": [
       "Text(0.5, 1.0, 'Number of transactions vs Plan list price')"
      ]
     },
     "execution_count": 12,
     "metadata": {},
     "output_type": "execute_result"
    },
    {
     "data": {
      "image/png": "[encoded data removed]",
      "text/plain": [
       "<Figure size 1080x720 with 1 Axes>"
      ]
     },
     "metadata": {},
     "output_type": "display_data"
    }
   ],
   "source": [
    "# BoxPlot of Plan list price for churned and not-churned users\n",
    "plt.figure(figsize=(15,10))\n",
    "plt.grid()\n",
    "sn.boxplot(y=transactions_v2.plan_list_price, orient='v')\n",
    "plt.xlabel(\"Number of transactions\")\n",
    "plt.ylabel(\"Plan list price\")\n",
    "plt.title(\"Number of transactions vs Plan list price\")"
   ]
  },
  {
   "cell_type": "markdown",
   "metadata": {},
   "source": [
    "##### Plot shows that more than 75% of transactions have price below 250."
   ]
  },
  {
   "cell_type": "code",
   "execution_count": 13,
   "metadata": {},
   "outputs": [],
   "source": [
    "# function to get the percentile values by passing dataframe and column\n",
    "def percentile(data,column,min_lim=1,max_lim=101,diff=3):\n",
    "    for i in np.arange(min_lim,max_lim,diff):\n",
    "        print(f\"{i} percentile = \",np.percentile(data[column], i))"
   ]
  },
  {
   "cell_type": "code",
   "execution_count": 14,
   "metadata": {},
   "outputs": [
    {
     "name": "stdout",
     "output_type": "stream",
     "text": [
      "1 percentile =  0.0\n",
      "4 percentile =  99.0\n",
      "7 percentile =  99.0\n",
      "10 percentile =  99.0\n",
      "13 percentile =  99.0\n",
      "16 percentile =  99.0\n",
      "19 percentile =  99.0\n",
      "22 percentile =  99.0\n",
      "25 percentile =  99.0\n",
      "28 percentile =  99.0\n",
      "31 percentile =  100.0\n",
      "34 percentile =  129.0\n",
      "37 percentile =  149.0\n",
      "40 percentile =  149.0\n",
      "43 percentile =  149.0\n",
      "46 percentile =  149.0\n",
      "49 percentile =  149.0\n",
      "52 percentile =  149.0\n",
      "55 percentile =  149.0\n",
      "58 percentile =  149.0\n",
      "61 percentile =  149.0\n",
      "64 percentile =  149.0\n",
      "67 percentile =  149.0\n",
      "70 percentile =  149.0\n",
      "73 percentile =  149.0\n",
      "76 percentile =  149.0\n",
      "79 percentile =  180.0\n",
      "82 percentile =  180.0\n",
      "85 percentile =  180.0\n",
      "88 percentile =  477.0\n",
      "91 percentile =  894.0\n",
      "94 percentile =  1599.0\n",
      "97 percentile =  1788.0\n",
      "100 percentile =  2000.0\n"
     ]
    }
   ],
   "source": [
    "#printing percentile of 'plan_list_price' \n",
    "percentile(transactions_v2,'plan_list_price',1,101,3) "
   ]
  },
  {
   "cell_type": "code",
   "execution_count": 15,
   "metadata": {},
   "outputs": [
    {
     "name": "stdout",
     "output_type": "stream",
     "text": [
      "85 percentile =  180.0\n",
      "86 percentile =  180.0\n",
      "87 percentile =  300.0\n",
      "88 percentile =  477.0\n",
      "89 percentile =  536.0\n",
      "90 percentile =  799.0\n",
      "91 percentile =  894.0\n",
      "92 percentile =  894.0\n",
      "93 percentile =  1299.0\n",
      "94 percentile =  1599.0\n",
      "95 percentile =  1788.0\n",
      "96 percentile =  1788.0\n",
      "97 percentile =  1788.0\n",
      "98 percentile =  1788.0\n",
      "99 percentile =  1788.0\n",
      "100 percentile =  2000.0\n"
     ]
    }
   ],
   "source": [
    "#printing percentile of 'plan_list_price' from 85-100 percentiles\n",
    "percentile(transactions_v2,'plan_list_price',85,101,1)"
   ]
  },
  {
   "cell_type": "markdown",
   "metadata": {},
   "source": [
    "##### `86 %` of the users have plan price below 180. "
   ]
  },
  {
   "cell_type": "code",
   "execution_count": 16,
   "metadata": {},
   "outputs": [
    {
     "data": {
      "text/html": [
       "<div>\n",
       "<style scoped>\n",
       "    .dataframe tbody tr th:only-of-type {\n",
       "        vertical-align: middle;\n",
       "    }\n",
       "\n",
       "    .dataframe tbody tr th {\n",
       "        vertical-align: top;\n",
       "    }\n",
       "\n",
       "    .dataframe thead th {\n",
       "        text-align: right;\n",
       "    }\n",
       "</style>\n",
       "<table border=\"1\" class=\"dataframe\">\n",
       "  <thead>\n",
       "    <tr style=\"text-align: right;\">\n",
       "      <th></th>\n",
       "      <th>payment_method_id</th>\n",
       "      <th>payment_plan_days</th>\n",
       "      <th>plan_list_price</th>\n",
       "      <th>actual_amount_paid</th>\n",
       "      <th>is_auto_renew</th>\n",
       "      <th>transaction_date</th>\n",
       "      <th>membership_expire_date</th>\n",
       "      <th>is_cancel</th>\n",
       "    </tr>\n",
       "  </thead>\n",
       "  <tbody>\n",
       "    <tr>\n",
       "      <th>count</th>\n",
       "      <td>1.431009e+06</td>\n",
       "      <td>1.431009e+06</td>\n",
       "      <td>1.431009e+06</td>\n",
       "      <td>1.431009e+06</td>\n",
       "      <td>1.431009e+06</td>\n",
       "      <td>1.431009e+06</td>\n",
       "      <td>1.431009e+06</td>\n",
       "      <td>1.431009e+06</td>\n",
       "    </tr>\n",
       "    <tr>\n",
       "      <th>mean</th>\n",
       "      <td>3.791835e+01</td>\n",
       "      <td>6.601770e+01</td>\n",
       "      <td>2.817870e+02</td>\n",
       "      <td>2.813172e+02</td>\n",
       "      <td>7.853025e-01</td>\n",
       "      <td>2.016848e+07</td>\n",
       "      <td>2.017110e+07</td>\n",
       "      <td>2.455121e-02</td>\n",
       "    </tr>\n",
       "    <tr>\n",
       "      <th>std</th>\n",
       "      <td>4.964805e+00</td>\n",
       "      <td>1.024864e+02</td>\n",
       "      <td>4.351861e+02</td>\n",
       "      <td>4.354200e+02</td>\n",
       "      <td>4.106124e-01</td>\n",
       "      <td>4.858797e+03</td>\n",
       "      <td>3.032367e+03</td>\n",
       "      <td>1.547529e-01</td>\n",
       "    </tr>\n",
       "    <tr>\n",
       "      <th>min</th>\n",
       "      <td>2.000000e+00</td>\n",
       "      <td>0.000000e+00</td>\n",
       "      <td>0.000000e+00</td>\n",
       "      <td>0.000000e+00</td>\n",
       "      <td>0.000000e+00</td>\n",
       "      <td>2.015010e+07</td>\n",
       "      <td>2.016042e+07</td>\n",
       "      <td>0.000000e+00</td>\n",
       "    </tr>\n",
       "    <tr>\n",
       "      <th>25%</th>\n",
       "      <td>3.600000e+01</td>\n",
       "      <td>3.000000e+01</td>\n",
       "      <td>9.900000e+01</td>\n",
       "      <td>9.900000e+01</td>\n",
       "      <td>1.000000e+00</td>\n",
       "      <td>2.017023e+07</td>\n",
       "      <td>2.017041e+07</td>\n",
       "      <td>0.000000e+00</td>\n",
       "    </tr>\n",
       "    <tr>\n",
       "      <th>50%</th>\n",
       "      <td>4.000000e+01</td>\n",
       "      <td>3.000000e+01</td>\n",
       "      <td>1.490000e+02</td>\n",
       "      <td>1.490000e+02</td>\n",
       "      <td>1.000000e+00</td>\n",
       "      <td>2.017031e+07</td>\n",
       "      <td>2.017042e+07</td>\n",
       "      <td>0.000000e+00</td>\n",
       "    </tr>\n",
       "    <tr>\n",
       "      <th>75%</th>\n",
       "      <td>4.100000e+01</td>\n",
       "      <td>3.000000e+01</td>\n",
       "      <td>1.490000e+02</td>\n",
       "      <td>1.490000e+02</td>\n",
       "      <td>1.000000e+00</td>\n",
       "      <td>2.017032e+07</td>\n",
       "      <td>2.017050e+07</td>\n",
       "      <td>0.000000e+00</td>\n",
       "    </tr>\n",
       "    <tr>\n",
       "      <th>max</th>\n",
       "      <td>4.100000e+01</td>\n",
       "      <td>4.500000e+02</td>\n",
       "      <td>2.000000e+03</td>\n",
       "      <td>2.000000e+03</td>\n",
       "      <td>1.000000e+00</td>\n",
       "      <td>2.017033e+07</td>\n",
       "      <td>2.036102e+07</td>\n",
       "      <td>1.000000e+00</td>\n",
       "    </tr>\n",
       "  </tbody>\n",
       "</table>\n",
       "</div>"
      ],
      "text/plain": [
       "       payment_method_id  payment_plan_days  plan_list_price  \\\n",
       "count       1.431009e+06       1.431009e+06     1.431009e+06   \n",
       "mean        3.791835e+01       6.601770e+01     2.817870e+02   \n",
       "std         4.964805e+00       1.024864e+02     4.351861e+02   \n",
       "min         2.000000e+00       0.000000e+00     0.000000e+00   \n",
       "25%         3.600000e+01       3.000000e+01     9.900000e+01   \n",
       "50%         4.000000e+01       3.000000e+01     1.490000e+02   \n",
       "75%         4.100000e+01       3.000000e+01     1.490000e+02   \n",
       "max         4.100000e+01       4.500000e+02     2.000000e+03   \n",
       "\n",
       "       actual_amount_paid  is_auto_renew  transaction_date  \\\n",
       "count        1.431009e+06   1.431009e+06      1.431009e+06   \n",
       "mean         2.813172e+02   7.853025e-01      2.016848e+07   \n",
       "std          4.354200e+02   4.106124e-01      4.858797e+03   \n",
       "min          0.000000e+00   0.000000e+00      2.015010e+07   \n",
       "25%          9.900000e+01   1.000000e+00      2.017023e+07   \n",
       "50%          1.490000e+02   1.000000e+00      2.017031e+07   \n",
       "75%          1.490000e+02   1.000000e+00      2.017032e+07   \n",
       "max          2.000000e+03   1.000000e+00      2.017033e+07   \n",
       "\n",
       "       membership_expire_date     is_cancel  \n",
       "count            1.431009e+06  1.431009e+06  \n",
       "mean             2.017110e+07  2.455121e-02  \n",
       "std              3.032367e+03  1.547529e-01  \n",
       "min              2.016042e+07  0.000000e+00  \n",
       "25%              2.017041e+07  0.000000e+00  \n",
       "50%              2.017042e+07  0.000000e+00  \n",
       "75%              2.017050e+07  0.000000e+00  \n",
       "max              2.036102e+07  1.000000e+00  "
      ]
     },
     "execution_count": 16,
     "metadata": {},
     "output_type": "execute_result"
    }
   ],
   "source": [
    "transactions_v2.describe()"
   ]
  },
  {
   "cell_type": "code",
   "execution_count": 17,
   "metadata": {},
   "outputs": [
    {
     "data": {
      "image/png": "[encoded data removed]",
      "text/plain": [
       "<Figure size 432x288 with 1 Axes>"
      ]
     },
     "metadata": {},
     "output_type": "display_data"
    }
   ],
   "source": [
    "# countplot of number of users who have auto-renew activated and who doesn't\n",
    "\n",
    "ax = sn.countplot(transactions_v2.is_auto_renew , order = transactions_v2.is_auto_renew.value_counts().index)\n",
    "plt.xticks([0,1],['Not Auto-renew', 'Auto-renew'])\n",
    "plt.xlabel(\"is Auto Renew\")\n",
    "plt.ylabel(\"Number of Users\")\n",
    "plt.title(\"Number of Users vs is_auto_new\")\n",
    "\n",
    "total = transactions_v2.shape[0]\n",
    "\n",
    "for p in ax.patches:\n",
    "        ax.annotate('{:.1f}%'.format(100*p.get_height()/total), (p.get_x()+0.25, p.get_height()))\n"
   ]
  },
  {
   "cell_type": "markdown",
   "metadata": {},
   "source": [
    "##### Only 21.5% of the users have auto-renew active."
   ]
  },
  {
   "cell_type": "code",
   "execution_count": 18,
   "metadata": {},
   "outputs": [
    {
     "data": {
      "image/png": "[encoded data removed]",
      "text/plain": [
       "<Figure size 432x288 with 1 Axes>"
      ]
     },
     "metadata": {},
     "output_type": "display_data"
    }
   ],
   "source": [
    "# countplot of number of users who have cancelled and who did not cancel their subscription\n",
    "\n",
    "ax = sn.countplot(transactions_v2.is_cancel , order = transactions_v2.is_cancel.value_counts().index)\n",
    "plt.xticks([0,1],['Not cancelled', 'Cancelled'])\n",
    "plt.xlabel(\"is cancel\")\n",
    "plt.ylabel(\"Number of Users\")\n",
    "plt.title(\"Number of Users vs is_cancel\")\n",
    "\n",
    "total = transactions_v2.shape[0]\n",
    "\n",
    "for p in ax.patches:\n",
    "        ax.annotate('{:.1f}%'.format(100*p.get_height()/total), (p.get_x()+0.25, p.get_height()))\n"
   ]
  },
  {
   "cell_type": "markdown",
   "metadata": {},
   "source": [
    "##### Only 2.5 percent users had cancelled their subscriptions, which is very less"
   ]
  },
  {
   "cell_type": "code",
   "execution_count": 19,
   "metadata": {},
   "outputs": [
    {
     "name": "stdout",
     "output_type": "stream",
     "text": [
      "1197050\n"
     ]
    },
    {
     "data": {
      "text/plain": [
       "msno\n",
       "+++IZseRRiQS9aaSkH6cMYU6bGDcxUieAi/tH67sC5s=    1\n",
       "+++hVY1rZox/33YtvDgmKA2Frg/2qhkz12B9ylCvh8o=    1\n",
       "+++l/EXNMLTijfLBa8p2TUVVVp2aFGSuUI/h7mLmthw=    2\n",
       "+++snpr7pmobhLKUgSHTv/mpkqgBT0tQJ0zQj6qKrqc=    1\n",
       "++/9R3sX37CjxbY/AaGvbwr3QkwElKBCtSvVzhCBDOk=    1\n",
       "Name: msno, dtype: int64"
      ]
     },
     "execution_count": 19,
     "metadata": {},
     "output_type": "execute_result"
    }
   ],
   "source": [
    "# calculating transactions count for each user\n",
    "transaction_count_per_user = transactions_v2.groupby(\"msno\")['msno'].count()\n",
    "print(len(transaction_count_per_user))\n",
    "transaction_count_per_user.head()"
   ]
  },
  {
   "cell_type": "code",
   "execution_count": 20,
   "metadata": {},
   "outputs": [
    {
     "name": "stdout",
     "output_type": "stream",
     "text": [
      "(1197050, 2)\n"
     ]
    },
    {
     "data": {
      "text/html": [
       "<div>\n",
       "<style scoped>\n",
       "    .dataframe tbody tr th:only-of-type {\n",
       "        vertical-align: middle;\n",
       "    }\n",
       "\n",
       "    .dataframe tbody tr th {\n",
       "        vertical-align: top;\n",
       "    }\n",
       "\n",
       "    .dataframe thead th {\n",
       "        text-align: right;\n",
       "    }\n",
       "</style>\n",
       "<table border=\"1\" class=\"dataframe\">\n",
       "  <thead>\n",
       "    <tr style=\"text-align: right;\">\n",
       "      <th></th>\n",
       "      <th>msno</th>\n",
       "      <th>trans_count</th>\n",
       "    </tr>\n",
       "  </thead>\n",
       "  <tbody>\n",
       "    <tr>\n",
       "      <th>0</th>\n",
       "      <td>+++IZseRRiQS9aaSkH6cMYU6bGDcxUieAi/tH67sC5s=</td>\n",
       "      <td>1</td>\n",
       "    </tr>\n",
       "    <tr>\n",
       "      <th>1</th>\n",
       "      <td>+++hVY1rZox/33YtvDgmKA2Frg/2qhkz12B9ylCvh8o=</td>\n",
       "      <td>1</td>\n",
       "    </tr>\n",
       "    <tr>\n",
       "      <th>2</th>\n",
       "      <td>+++l/EXNMLTijfLBa8p2TUVVVp2aFGSuUI/h7mLmthw=</td>\n",
       "      <td>2</td>\n",
       "    </tr>\n",
       "    <tr>\n",
       "      <th>3</th>\n",
       "      <td>+++snpr7pmobhLKUgSHTv/mpkqgBT0tQJ0zQj6qKrqc=</td>\n",
       "      <td>1</td>\n",
       "    </tr>\n",
       "    <tr>\n",
       "      <th>4</th>\n",
       "      <td>++/9R3sX37CjxbY/AaGvbwr3QkwElKBCtSvVzhCBDOk=</td>\n",
       "      <td>1</td>\n",
       "    </tr>\n",
       "  </tbody>\n",
       "</table>\n",
       "</div>"
      ],
      "text/plain": [
       "                                           msno  trans_count\n",
       "0  +++IZseRRiQS9aaSkH6cMYU6bGDcxUieAi/tH67sC5s=            1\n",
       "1  +++hVY1rZox/33YtvDgmKA2Frg/2qhkz12B9ylCvh8o=            1\n",
       "2  +++l/EXNMLTijfLBa8p2TUVVVp2aFGSuUI/h7mLmthw=            2\n",
       "3  +++snpr7pmobhLKUgSHTv/mpkqgBT0tQJ0zQj6qKrqc=            1\n",
       "4  ++/9R3sX37CjxbY/AaGvbwr3QkwElKBCtSvVzhCBDOk=            1"
      ]
     },
     "execution_count": 20,
     "metadata": {},
     "output_type": "execute_result"
    }
   ],
   "source": [
    "# converting transaction count to dataframe\n",
    "transaction_count_per_user = pd.DataFrame(transaction_count_per_user)\n",
    "transaction_count_per_user.columns = ['trans_count']\n",
    "transaction_count_per_user.reset_index(inplace=True)\n",
    "print(transaction_count_per_user.shape)\n",
    "transaction_count_per_user.head()"
   ]
  },
  {
   "cell_type": "code",
   "execution_count": 21,
   "metadata": {},
   "outputs": [
    {
     "name": "stdout",
     "output_type": "stream",
     "text": [
      "(1197050, 9)\n"
     ]
    }
   ],
   "source": [
    "# https://www.kaggle.com/ripcurl/feedforward-neural-network-0-12174\n",
    "\n",
    "#keeping only latest transaction record for each user\n",
    "transactions_v2 = transactions_v2.drop_duplicates(subset=['msno'], keep='first')\n",
    "print(transactions_v2.shape)"
   ]
  },
  {
   "cell_type": "code",
   "execution_count": 22,
   "metadata": {},
   "outputs": [
    {
     "data": {
      "text/plain": [
       "(1197050, 6)"
      ]
     },
     "execution_count": 22,
     "metadata": {},
     "output_type": "execute_result"
    }
   ],
   "source": [
    "# dropping columns membership_expire_date, actual_amount_paid and is_cancel\n",
    "\n",
    "transactions_v2.drop(columns=['membership_expire_date','actual_amount_paid','is_cancel'],axis=1,inplace=True)\n",
    "transactions_v2.shape"
   ]
  },
  {
   "cell_type": "code",
   "execution_count": 23,
   "metadata": {},
   "outputs": [
    {
     "data": {
      "text/html": [
       "<div>\n",
       "<style scoped>\n",
       "    .dataframe tbody tr th:only-of-type {\n",
       "        vertical-align: middle;\n",
       "    }\n",
       "\n",
       "    .dataframe tbody tr th {\n",
       "        vertical-align: top;\n",
       "    }\n",
       "\n",
       "    .dataframe thead th {\n",
       "        text-align: right;\n",
       "    }\n",
       "</style>\n",
       "<table border=\"1\" class=\"dataframe\">\n",
       "  <thead>\n",
       "    <tr style=\"text-align: right;\">\n",
       "      <th></th>\n",
       "      <th>msno</th>\n",
       "      <th>payment_method_id</th>\n",
       "      <th>payment_plan_days</th>\n",
       "      <th>plan_list_price</th>\n",
       "      <th>is_auto_renew</th>\n",
       "      <th>transaction_date</th>\n",
       "      <th>trans_count</th>\n",
       "    </tr>\n",
       "  </thead>\n",
       "  <tbody>\n",
       "    <tr>\n",
       "      <th>0</th>\n",
       "      <td>aKP16t82xpiU6donvP21pmmozVn6YzCGHYR2UB79/gI=</td>\n",
       "      <td>34</td>\n",
       "      <td>30</td>\n",
       "      <td>149</td>\n",
       "      <td>1</td>\n",
       "      <td>20170331</td>\n",
       "      <td>1</td>\n",
       "    </tr>\n",
       "    <tr>\n",
       "      <th>1</th>\n",
       "      <td>a1Cc2QvP3E0NJOAmfHoHok+/Vmd7yy1uq6XYpsaQiP0=</td>\n",
       "      <td>41</td>\n",
       "      <td>30</td>\n",
       "      <td>100</td>\n",
       "      <td>1</td>\n",
       "      <td>20170331</td>\n",
       "      <td>1</td>\n",
       "    </tr>\n",
       "    <tr>\n",
       "      <th>2</th>\n",
       "      <td>uCrRmrr1xrz5YF9Vt+TM2Hgc3nvW/Vw7gac+6L6c6NI=</td>\n",
       "      <td>41</td>\n",
       "      <td>30</td>\n",
       "      <td>99</td>\n",
       "      <td>1</td>\n",
       "      <td>20170331</td>\n",
       "      <td>1</td>\n",
       "    </tr>\n",
       "    <tr>\n",
       "      <th>3</th>\n",
       "      <td>luNHumFuvN52PF4wunvCPB2SSEqZPulWhqJ03bwvYyg=</td>\n",
       "      <td>39</td>\n",
       "      <td>30</td>\n",
       "      <td>149</td>\n",
       "      <td>1</td>\n",
       "      <td>20170331</td>\n",
       "      <td>2</td>\n",
       "    </tr>\n",
       "    <tr>\n",
       "      <th>4</th>\n",
       "      <td>uE5BJaui8jWgqNh6qqX5GC6mO35sQ5YgLExtV6Jyu5E=</td>\n",
       "      <td>39</td>\n",
       "      <td>30</td>\n",
       "      <td>149</td>\n",
       "      <td>1</td>\n",
       "      <td>20170331</td>\n",
       "      <td>2</td>\n",
       "    </tr>\n",
       "  </tbody>\n",
       "</table>\n",
       "</div>"
      ],
      "text/plain": [
       "                                           msno  payment_method_id  \\\n",
       "0  aKP16t82xpiU6donvP21pmmozVn6YzCGHYR2UB79/gI=                 34   \n",
       "1  a1Cc2QvP3E0NJOAmfHoHok+/Vmd7yy1uq6XYpsaQiP0=                 41   \n",
       "2  uCrRmrr1xrz5YF9Vt+TM2Hgc3nvW/Vw7gac+6L6c6NI=                 41   \n",
       "3  luNHumFuvN52PF4wunvCPB2SSEqZPulWhqJ03bwvYyg=                 39   \n",
       "4  uE5BJaui8jWgqNh6qqX5GC6mO35sQ5YgLExtV6Jyu5E=                 39   \n",
       "\n",
       "   payment_plan_days  plan_list_price  is_auto_renew  transaction_date  \\\n",
       "0                 30              149              1          20170331   \n",
       "1                 30              100              1          20170331   \n",
       "2                 30               99              1          20170331   \n",
       "3                 30              149              1          20170331   \n",
       "4                 30              149              1          20170331   \n",
       "\n",
       "   trans_count  \n",
       "0            1  \n",
       "1            1  \n",
       "2            1  \n",
       "3            2  \n",
       "4            2  "
      ]
     },
     "execution_count": 23,
     "metadata": {},
     "output_type": "execute_result"
    }
   ],
   "source": [
    "transactions_v2 = transactions_v2.merge(transaction_count_per_user, how='left',on='msno')\n",
    "transactions_v2.head()"
   ]
  },
  {
   "cell_type": "code",
   "execution_count": 24,
   "metadata": {},
   "outputs": [],
   "source": [
    "# creating new features out of registration date\n",
    "\n",
    "# taking just day of month\n",
    "transactions_v2['day_of_month'] = transactions_v2.transaction_date.apply(lambda x: np.int8(str(x)[6:]))\n",
    "\n",
    "# taking removing year from the date and taking just month and day of month \n",
    "transactions_v2['month_day'] = transactions_v2.transaction_date.apply(lambda x: np.int16(str(x)[4:]))\n",
    "\n",
    "# 'day_of_week' signifies which day of week it is. \n",
    "# e.g.  Monday is 1 and Sunday is 7\n",
    "transactions_v2['day_of_week'] = transactions_v2.transaction_date.apply(lambda x: datetime.strptime(str(x), \"%Y%m%d\").isoweekday())"
   ]
  },
  {
   "cell_type": "code",
   "execution_count": 25,
   "metadata": {},
   "outputs": [],
   "source": [
    "# creating a feature 'is_weekend' which is '1' if the registration date is weekend i.e. Saturday or Sunday, else '0'\n",
    "transactions_v2['is_weekend'] = transactions_v2.day_of_week.map(lambda x:1 if x in (6,7) else 0)"
   ]
  },
  {
   "cell_type": "code",
   "execution_count": 26,
   "metadata": {},
   "outputs": [
    {
     "name": "stdout",
     "output_type": "stream",
     "text": [
      "(970960, 12)\n"
     ]
    },
    {
     "data": {
      "text/html": [
       "<div>\n",
       "<style scoped>\n",
       "    .dataframe tbody tr th:only-of-type {\n",
       "        vertical-align: middle;\n",
       "    }\n",
       "\n",
       "    .dataframe tbody tr th {\n",
       "        vertical-align: top;\n",
       "    }\n",
       "\n",
       "    .dataframe thead th {\n",
       "        text-align: right;\n",
       "    }\n",
       "</style>\n",
       "<table border=\"1\" class=\"dataframe\">\n",
       "  <thead>\n",
       "    <tr style=\"text-align: right;\">\n",
       "      <th></th>\n",
       "      <th>msno</th>\n",
       "      <th>is_churn</th>\n",
       "      <th>payment_method_id</th>\n",
       "      <th>payment_plan_days</th>\n",
       "      <th>plan_list_price</th>\n",
       "      <th>is_auto_renew</th>\n",
       "      <th>transaction_date</th>\n",
       "      <th>trans_count</th>\n",
       "      <th>day_of_month</th>\n",
       "      <th>month_day</th>\n",
       "      <th>day_of_week</th>\n",
       "      <th>is_weekend</th>\n",
       "    </tr>\n",
       "  </thead>\n",
       "  <tbody>\n",
       "    <tr>\n",
       "      <th>0</th>\n",
       "      <td>ugx0CjOMzazClkFzU2xasmDZaoIqOUAZPsH1q0teWCg=</td>\n",
       "      <td>1</td>\n",
       "      <td>NaN</td>\n",
       "      <td>NaN</td>\n",
       "      <td>NaN</td>\n",
       "      <td>NaN</td>\n",
       "      <td>NaN</td>\n",
       "      <td>NaN</td>\n",
       "      <td>NaN</td>\n",
       "      <td>NaN</td>\n",
       "      <td>NaN</td>\n",
       "      <td>NaN</td>\n",
       "    </tr>\n",
       "    <tr>\n",
       "      <th>1</th>\n",
       "      <td>f/NmvEzHfhINFEYZTR05prUdr+E+3+oewvweYz9cCQE=</td>\n",
       "      <td>1</td>\n",
       "      <td>36.0</td>\n",
       "      <td>30.0</td>\n",
       "      <td>180.0</td>\n",
       "      <td>0.0</td>\n",
       "      <td>20170311.0</td>\n",
       "      <td>1.0</td>\n",
       "      <td>11.0</td>\n",
       "      <td>311.0</td>\n",
       "      <td>6.0</td>\n",
       "      <td>1.0</td>\n",
       "    </tr>\n",
       "    <tr>\n",
       "      <th>2</th>\n",
       "      <td>zLo9f73nGGT1p21ltZC3ChiRnAVvgibMyazbCxvWPcg=</td>\n",
       "      <td>1</td>\n",
       "      <td>15.0</td>\n",
       "      <td>90.0</td>\n",
       "      <td>300.0</td>\n",
       "      <td>0.0</td>\n",
       "      <td>20170314.0</td>\n",
       "      <td>2.0</td>\n",
       "      <td>14.0</td>\n",
       "      <td>314.0</td>\n",
       "      <td>2.0</td>\n",
       "      <td>0.0</td>\n",
       "    </tr>\n",
       "    <tr>\n",
       "      <th>3</th>\n",
       "      <td>8iF/+8HY8lJKFrTc7iR9ZYGCG2Ecrogbc2Vy5YhsfhQ=</td>\n",
       "      <td>1</td>\n",
       "      <td>41.0</td>\n",
       "      <td>30.0</td>\n",
       "      <td>149.0</td>\n",
       "      <td>1.0</td>\n",
       "      <td>20151208.0</td>\n",
       "      <td>10.0</td>\n",
       "      <td>8.0</td>\n",
       "      <td>1208.0</td>\n",
       "      <td>2.0</td>\n",
       "      <td>0.0</td>\n",
       "    </tr>\n",
       "    <tr>\n",
       "      <th>4</th>\n",
       "      <td>K6fja4+jmoZ5xG6BypqX80Uw/XKpMgrEMdG2edFOxnA=</td>\n",
       "      <td>1</td>\n",
       "      <td>41.0</td>\n",
       "      <td>30.0</td>\n",
       "      <td>99.0</td>\n",
       "      <td>1.0</td>\n",
       "      <td>20170316.0</td>\n",
       "      <td>8.0</td>\n",
       "      <td>16.0</td>\n",
       "      <td>316.0</td>\n",
       "      <td>4.0</td>\n",
       "      <td>0.0</td>\n",
       "    </tr>\n",
       "  </tbody>\n",
       "</table>\n",
       "</div>"
      ],
      "text/plain": [
       "                                           msno  is_churn  payment_method_id  \\\n",
       "0  ugx0CjOMzazClkFzU2xasmDZaoIqOUAZPsH1q0teWCg=         1                NaN   \n",
       "1  f/NmvEzHfhINFEYZTR05prUdr+E+3+oewvweYz9cCQE=         1               36.0   \n",
       "2  zLo9f73nGGT1p21ltZC3ChiRnAVvgibMyazbCxvWPcg=         1               15.0   \n",
       "3  8iF/+8HY8lJKFrTc7iR9ZYGCG2Ecrogbc2Vy5YhsfhQ=         1               41.0   \n",
       "4  K6fja4+jmoZ5xG6BypqX80Uw/XKpMgrEMdG2edFOxnA=         1               41.0   \n",
       "\n",
       "   payment_plan_days  plan_list_price  is_auto_renew  transaction_date  \\\n",
       "0                NaN              NaN            NaN               NaN   \n",
       "1               30.0            180.0            0.0        20170311.0   \n",
       "2               90.0            300.0            0.0        20170314.0   \n",
       "3               30.0            149.0            1.0        20151208.0   \n",
       "4               30.0             99.0            1.0        20170316.0   \n",
       "\n",
       "   trans_count  day_of_month  month_day  day_of_week  is_weekend  \n",
       "0          NaN           NaN        NaN          NaN         NaN  \n",
       "1          1.0          11.0      311.0          6.0         1.0  \n",
       "2          2.0          14.0      314.0          2.0         0.0  \n",
       "3         10.0           8.0     1208.0          2.0         0.0  \n",
       "4          8.0          16.0      316.0          4.0         0.0  "
      ]
     },
     "execution_count": 26,
     "metadata": {},
     "output_type": "execute_result"
    }
   ],
   "source": [
    "train = trainv2.merge(transactions_v2,how='left',on='msno')\n",
    "print(train.shape)\n",
    "train.head()"
   ]
  },
  {
   "cell_type": "code",
   "execution_count": 27,
   "metadata": {},
   "outputs": [
    {
     "data": {
      "text/plain": [
       "msno                     0\n",
       "is_churn                 0\n",
       "payment_method_id    37382\n",
       "payment_plan_days    37382\n",
       "plan_list_price      37382\n",
       "is_auto_renew        37382\n",
       "transaction_date     37382\n",
       "trans_count          37382\n",
       "day_of_month         37382\n",
       "month_day            37382\n",
       "day_of_week          37382\n",
       "is_weekend           37382\n",
       "dtype: int64"
      ]
     },
     "execution_count": 27,
     "metadata": {},
     "output_type": "execute_result"
    }
   ],
   "source": [
    "train.isna().sum()"
   ]
  },
  {
   "cell_type": "code",
   "execution_count": 28,
   "metadata": {},
   "outputs": [
    {
     "name": "stdout",
     "output_type": "stream",
     "text": [
      "(933578, 12)\n"
     ]
    },
    {
     "data": {
      "text/html": [
       "<div>\n",
       "<style scoped>\n",
       "    .dataframe tbody tr th:only-of-type {\n",
       "        vertical-align: middle;\n",
       "    }\n",
       "\n",
       "    .dataframe tbody tr th {\n",
       "        vertical-align: top;\n",
       "    }\n",
       "\n",
       "    .dataframe thead th {\n",
       "        text-align: right;\n",
       "    }\n",
       "</style>\n",
       "<table border=\"1\" class=\"dataframe\">\n",
       "  <thead>\n",
       "    <tr style=\"text-align: right;\">\n",
       "      <th></th>\n",
       "      <th>msno</th>\n",
       "      <th>is_churn</th>\n",
       "      <th>payment_method_id</th>\n",
       "      <th>payment_plan_days</th>\n",
       "      <th>plan_list_price</th>\n",
       "      <th>is_auto_renew</th>\n",
       "      <th>transaction_date</th>\n",
       "      <th>trans_count</th>\n",
       "      <th>day_of_month</th>\n",
       "      <th>month_day</th>\n",
       "      <th>day_of_week</th>\n",
       "      <th>is_weekend</th>\n",
       "    </tr>\n",
       "  </thead>\n",
       "  <tbody>\n",
       "    <tr>\n",
       "      <th>1</th>\n",
       "      <td>f/NmvEzHfhINFEYZTR05prUdr+E+3+oewvweYz9cCQE=</td>\n",
       "      <td>1</td>\n",
       "      <td>36.0</td>\n",
       "      <td>30.0</td>\n",
       "      <td>180.0</td>\n",
       "      <td>0.0</td>\n",
       "      <td>20170311.0</td>\n",
       "      <td>1.0</td>\n",
       "      <td>11.0</td>\n",
       "      <td>311.0</td>\n",
       "      <td>6.0</td>\n",
       "      <td>1.0</td>\n",
       "    </tr>\n",
       "    <tr>\n",
       "      <th>2</th>\n",
       "      <td>zLo9f73nGGT1p21ltZC3ChiRnAVvgibMyazbCxvWPcg=</td>\n",
       "      <td>1</td>\n",
       "      <td>15.0</td>\n",
       "      <td>90.0</td>\n",
       "      <td>300.0</td>\n",
       "      <td>0.0</td>\n",
       "      <td>20170314.0</td>\n",
       "      <td>2.0</td>\n",
       "      <td>14.0</td>\n",
       "      <td>314.0</td>\n",
       "      <td>2.0</td>\n",
       "      <td>0.0</td>\n",
       "    </tr>\n",
       "    <tr>\n",
       "      <th>3</th>\n",
       "      <td>8iF/+8HY8lJKFrTc7iR9ZYGCG2Ecrogbc2Vy5YhsfhQ=</td>\n",
       "      <td>1</td>\n",
       "      <td>41.0</td>\n",
       "      <td>30.0</td>\n",
       "      <td>149.0</td>\n",
       "      <td>1.0</td>\n",
       "      <td>20151208.0</td>\n",
       "      <td>10.0</td>\n",
       "      <td>8.0</td>\n",
       "      <td>1208.0</td>\n",
       "      <td>2.0</td>\n",
       "      <td>0.0</td>\n",
       "    </tr>\n",
       "    <tr>\n",
       "      <th>4</th>\n",
       "      <td>K6fja4+jmoZ5xG6BypqX80Uw/XKpMgrEMdG2edFOxnA=</td>\n",
       "      <td>1</td>\n",
       "      <td>41.0</td>\n",
       "      <td>30.0</td>\n",
       "      <td>99.0</td>\n",
       "      <td>1.0</td>\n",
       "      <td>20170316.0</td>\n",
       "      <td>8.0</td>\n",
       "      <td>16.0</td>\n",
       "      <td>316.0</td>\n",
       "      <td>4.0</td>\n",
       "      <td>0.0</td>\n",
       "    </tr>\n",
       "    <tr>\n",
       "      <th>5</th>\n",
       "      <td>ibIHVYBqxGwrSExE63/omeDD99M5vYB3CN2HzkEY+eM=</td>\n",
       "      <td>1</td>\n",
       "      <td>40.0</td>\n",
       "      <td>30.0</td>\n",
       "      <td>149.0</td>\n",
       "      <td>1.0</td>\n",
       "      <td>20170316.0</td>\n",
       "      <td>1.0</td>\n",
       "      <td>16.0</td>\n",
       "      <td>316.0</td>\n",
       "      <td>4.0</td>\n",
       "      <td>0.0</td>\n",
       "    </tr>\n",
       "  </tbody>\n",
       "</table>\n",
       "</div>"
      ],
      "text/plain": [
       "                                           msno  is_churn  payment_method_id  \\\n",
       "1  f/NmvEzHfhINFEYZTR05prUdr+E+3+oewvweYz9cCQE=         1               36.0   \n",
       "2  zLo9f73nGGT1p21ltZC3ChiRnAVvgibMyazbCxvWPcg=         1               15.0   \n",
       "3  8iF/+8HY8lJKFrTc7iR9ZYGCG2Ecrogbc2Vy5YhsfhQ=         1               41.0   \n",
       "4  K6fja4+jmoZ5xG6BypqX80Uw/XKpMgrEMdG2edFOxnA=         1               41.0   \n",
       "5  ibIHVYBqxGwrSExE63/omeDD99M5vYB3CN2HzkEY+eM=         1               40.0   \n",
       "\n",
       "   payment_plan_days  plan_list_price  is_auto_renew  transaction_date  \\\n",
       "1               30.0            180.0            0.0        20170311.0   \n",
       "2               90.0            300.0            0.0        20170314.0   \n",
       "3               30.0            149.0            1.0        20151208.0   \n",
       "4               30.0             99.0            1.0        20170316.0   \n",
       "5               30.0            149.0            1.0        20170316.0   \n",
       "\n",
       "   trans_count  day_of_month  month_day  day_of_week  is_weekend  \n",
       "1          1.0          11.0      311.0          6.0         1.0  \n",
       "2          2.0          14.0      314.0          2.0         0.0  \n",
       "3         10.0           8.0     1208.0          2.0         0.0  \n",
       "4          8.0          16.0      316.0          4.0         0.0  \n",
       "5          1.0          16.0      316.0          4.0         0.0  "
      ]
     },
     "execution_count": 28,
     "metadata": {},
     "output_type": "execute_result"
    }
   ],
   "source": [
    "train.dropna(inplace=True)\n",
    "print(train.shape)\n",
    "train.head()"
   ]
  },
  {
   "cell_type": "code",
   "execution_count": 29,
   "metadata": {},
   "outputs": [
    {
     "data": {
      "image/png": "[encoded data removed]",
      "text/plain": [
       "<Figure size 1440x720 with 1 Axes>"
      ]
     },
     "metadata": {},
     "output_type": "display_data"
    }
   ],
   "source": [
    "#plot of weekend vs number of users \n",
    "plt.figure(figsize=(20,10))\n",
    "ax = sn.countplot(train.is_weekend, hue=train.is_churn,order=train.is_weekend.value_counts().index)\n",
    "plt.xticks([1,0],['Weekend','Non-weekend'])\n",
    "plt.xlabel(\"is_Weekend\")\n",
    "plt.ylabel(\"Number of Users\")\n",
    "plt.title(\"Number of Users vs is_Weekend\")\n",
    "\n",
    "total = train.shape[0]\n",
    "\n",
    "for p in ax.patches:\n",
    "        ax.annotate('{:.1f}%'.format(100*p.get_height()/total), (p.get_x()+0.25, p.get_height()))\n",
    "\n",
    "plt.show()"
   ]
  },
  {
   "cell_type": "markdown",
   "metadata": {},
   "source": [
    "##### 75.7% of the total users subscribed on non-weekend i.e.  between Monday-Friday.\n",
    "##### Users who subscribed on weekend and churned are 1.5%, users who subscribed on non-weekend and churned are 4.7%, which is more than 3 times So users subscribed between Monday-Friday are more likely to churn.\n",
    "\n",
    "Note: Here non-weekend means Monday-Friday"
   ]
  },
  {
   "cell_type": "code",
   "execution_count": 30,
   "metadata": {},
   "outputs": [
    {
     "data": {
      "image/png": "[encoded data removed]",
      "text/plain": [
       "<Figure size 1440x720 with 1 Axes>"
      ]
     },
     "metadata": {},
     "output_type": "display_data"
    }
   ],
   "source": [
    "#plot of day_of_month vs number of users \n",
    "plt.figure(figsize=(20,10))\n",
    "ax = sn.countplot(train.day_of_month, hue=train.is_churn)\n",
    "plt.xlabel(\"Day of Month\")\n",
    "plt.ylabel(\"Number of Users\")\n",
    "plt.title(\"Number of Users vs Day of Month\")\n",
    "\n",
    "total = train.shape[0]\n",
    "\n",
    "for p in ax.patches:\n",
    "        ax.annotate('{:.1f}%'.format(100*p.get_height()/total), (p.get_x()+0.25, p.get_height()))\n",
    "\n",
    "plt.show()"
   ]
  },
  {
   "cell_type": "markdown",
   "metadata": {},
   "source": [
    "##### Above plot shows that maximum number of users (around 20%) have registered on 31st day of month. All other days are mostly same, except 28th-30th days, which have very less registrations somewhere between 0.5 - 1% each day"
   ]
  },
  {
   "cell_type": "code",
   "execution_count": 31,
   "metadata": {},
   "outputs": [
    {
     "data": {
      "image/png": "[encoded data removed]",
      "text/plain": [
       "<Figure size 1440x720 with 1 Axes>"
      ]
     },
     "metadata": {},
     "output_type": "display_data"
    }
   ],
   "source": [
    "#plot of day_of_week vs number of users \n",
    "plt.figure(figsize=(20,10))\n",
    "ax = sn.countplot(train.day_of_week, hue=train.is_churn, order=train.day_of_week.value_counts().index)\n",
    "plt.xlabel(\"Day of week\")\n",
    "plt.ylabel(\"Number of Users\")\n",
    "plt.title(\"Number of Users vs Day of Week\")\n",
    "\n",
    "total = train.shape[0]\n",
    "\n",
    "for p in ax.patches:\n",
    "        ax.annotate('{:.1f}%'.format(100*p.get_height()/total), (p.get_x()+0.25, p.get_height()))\n",
    "\n",
    "plt.show()"
   ]
  },
  {
   "cell_type": "markdown",
   "metadata": {},
   "source": [
    "#####  5th days of week i.e. Friday have maximum number of subscriptions. Around 31% users subscribed on Friday.\n",
    "##### Other days of week have similar number of registrations (around 10-12% each day)"
   ]
  },
  {
   "cell_type": "code",
   "execution_count": 32,
   "metadata": {},
   "outputs": [
    {
     "data": {
      "text/html": [
       "<div>\n",
       "<style scoped>\n",
       "    .dataframe tbody tr th:only-of-type {\n",
       "        vertical-align: middle;\n",
       "    }\n",
       "\n",
       "    .dataframe tbody tr th {\n",
       "        vertical-align: top;\n",
       "    }\n",
       "\n",
       "    .dataframe thead th {\n",
       "        text-align: right;\n",
       "    }\n",
       "</style>\n",
       "<table border=\"1\" class=\"dataframe\">\n",
       "  <thead>\n",
       "    <tr style=\"text-align: right;\">\n",
       "      <th></th>\n",
       "      <th>msno</th>\n",
       "      <th>date</th>\n",
       "      <th>num_25</th>\n",
       "      <th>num_50</th>\n",
       "      <th>num_75</th>\n",
       "      <th>num_985</th>\n",
       "      <th>num_100</th>\n",
       "      <th>num_unq</th>\n",
       "      <th>total_secs</th>\n",
       "    </tr>\n",
       "  </thead>\n",
       "  <tbody>\n",
       "    <tr>\n",
       "      <th>0</th>\n",
       "      <td>u9E91QDTvHLq6NXjEaWv8u4QIqhrHk72kE+w31Gnhdg=</td>\n",
       "      <td>20170331</td>\n",
       "      <td>8</td>\n",
       "      <td>4</td>\n",
       "      <td>0</td>\n",
       "      <td>1</td>\n",
       "      <td>21</td>\n",
       "      <td>18</td>\n",
       "      <td>6309.273</td>\n",
       "    </tr>\n",
       "    <tr>\n",
       "      <th>1</th>\n",
       "      <td>nTeWW/eOZA/UHKdD5L7DEqKKFTjaAj3ALLPoAWsU8n0=</td>\n",
       "      <td>20170330</td>\n",
       "      <td>2</td>\n",
       "      <td>2</td>\n",
       "      <td>1</td>\n",
       "      <td>0</td>\n",
       "      <td>9</td>\n",
       "      <td>11</td>\n",
       "      <td>2390.699</td>\n",
       "    </tr>\n",
       "    <tr>\n",
       "      <th>2</th>\n",
       "      <td>2UqkWXwZbIjs03dHLU9KHJNNEvEkZVzm69f3jCS+uLI=</td>\n",
       "      <td>20170331</td>\n",
       "      <td>52</td>\n",
       "      <td>3</td>\n",
       "      <td>5</td>\n",
       "      <td>3</td>\n",
       "      <td>84</td>\n",
       "      <td>110</td>\n",
       "      <td>23203.337</td>\n",
       "    </tr>\n",
       "    <tr>\n",
       "      <th>3</th>\n",
       "      <td>ycwLc+m2O0a85jSLALtr941AaZt9ai8Qwlg9n0Nql5U=</td>\n",
       "      <td>20170331</td>\n",
       "      <td>176</td>\n",
       "      <td>4</td>\n",
       "      <td>2</td>\n",
       "      <td>2</td>\n",
       "      <td>19</td>\n",
       "      <td>191</td>\n",
       "      <td>7100.454</td>\n",
       "    </tr>\n",
       "    <tr>\n",
       "      <th>4</th>\n",
       "      <td>EGcbTofOSOkMmQyN1NMLxHEXJ1yV3t/JdhGwQ9wXjnI=</td>\n",
       "      <td>20170331</td>\n",
       "      <td>2</td>\n",
       "      <td>1</td>\n",
       "      <td>0</td>\n",
       "      <td>1</td>\n",
       "      <td>112</td>\n",
       "      <td>93</td>\n",
       "      <td>28401.558</td>\n",
       "    </tr>\n",
       "  </tbody>\n",
       "</table>\n",
       "</div>"
      ],
      "text/plain": [
       "                                           msno      date  num_25  num_50  \\\n",
       "0  u9E91QDTvHLq6NXjEaWv8u4QIqhrHk72kE+w31Gnhdg=  20170331       8       4   \n",
       "1  nTeWW/eOZA/UHKdD5L7DEqKKFTjaAj3ALLPoAWsU8n0=  20170330       2       2   \n",
       "2  2UqkWXwZbIjs03dHLU9KHJNNEvEkZVzm69f3jCS+uLI=  20170331      52       3   \n",
       "3  ycwLc+m2O0a85jSLALtr941AaZt9ai8Qwlg9n0Nql5U=  20170331     176       4   \n",
       "4  EGcbTofOSOkMmQyN1NMLxHEXJ1yV3t/JdhGwQ9wXjnI=  20170331       2       1   \n",
       "\n",
       "   num_75  num_985  num_100  num_unq  total_secs  \n",
       "0       0        1       21       18    6309.273  \n",
       "1       1        0        9       11    2390.699  \n",
       "2       5        3       84      110   23203.337  \n",
       "3       2        2       19      191    7100.454  \n",
       "4       0        1      112       93   28401.558  "
      ]
     },
     "execution_count": 32,
     "metadata": {},
     "output_type": "execute_result"
    }
   ],
   "source": [
    "user_logs_v2.head()"
   ]
  },
  {
   "cell_type": "code",
   "execution_count": 33,
   "metadata": {},
   "outputs": [],
   "source": [
    "# dropping duplicate rows\n",
    "user_logs_v2.drop_duplicates(inplace=True)"
   ]
  },
  {
   "cell_type": "code",
   "execution_count": 34,
   "metadata": {},
   "outputs": [
    {
     "data": {
      "text/plain": [
       "msno          0\n",
       "date          0\n",
       "num_25        0\n",
       "num_50        0\n",
       "num_75        0\n",
       "num_985       0\n",
       "num_100       0\n",
       "num_unq       0\n",
       "total_secs    0\n",
       "dtype: int64"
      ]
     },
     "execution_count": 34,
     "metadata": {},
     "output_type": "execute_result"
    }
   ],
   "source": [
    "user_logs_v2.isna().sum()"
   ]
  },
  {
   "cell_type": "code",
   "execution_count": 35,
   "metadata": {},
   "outputs": [
    {
     "data": {
      "text/html": [
       "<div>\n",
       "<style scoped>\n",
       "    .dataframe tbody tr th:only-of-type {\n",
       "        vertical-align: middle;\n",
       "    }\n",
       "\n",
       "    .dataframe tbody tr th {\n",
       "        vertical-align: top;\n",
       "    }\n",
       "\n",
       "    .dataframe thead th {\n",
       "        text-align: right;\n",
       "    }\n",
       "</style>\n",
       "<table border=\"1\" class=\"dataframe\">\n",
       "  <thead>\n",
       "    <tr style=\"text-align: right;\">\n",
       "      <th></th>\n",
       "      <th>date</th>\n",
       "      <th>num_25</th>\n",
       "      <th>num_50</th>\n",
       "      <th>num_75</th>\n",
       "      <th>num_985</th>\n",
       "      <th>num_100</th>\n",
       "      <th>num_unq</th>\n",
       "      <th>total_secs</th>\n",
       "    </tr>\n",
       "  </thead>\n",
       "  <tbody>\n",
       "    <tr>\n",
       "      <th>count</th>\n",
       "      <td>1.839636e+07</td>\n",
       "      <td>1.839636e+07</td>\n",
       "      <td>1.839636e+07</td>\n",
       "      <td>1.839636e+07</td>\n",
       "      <td>1.839636e+07</td>\n",
       "      <td>1.839636e+07</td>\n",
       "      <td>1.839636e+07</td>\n",
       "      <td>1.839636e+07</td>\n",
       "    </tr>\n",
       "    <tr>\n",
       "      <th>mean</th>\n",
       "      <td>2.017032e+07</td>\n",
       "      <td>6.191401e+00</td>\n",
       "      <td>1.508789e+00</td>\n",
       "      <td>9.413759e-01</td>\n",
       "      <td>1.079905e+00</td>\n",
       "      <td>3.027890e+01</td>\n",
       "      <td>2.903615e+01</td>\n",
       "      <td>7.904814e+03</td>\n",
       "    </tr>\n",
       "    <tr>\n",
       "      <th>std</th>\n",
       "      <td>8.916720e+00</td>\n",
       "      <td>1.342827e+01</td>\n",
       "      <td>3.908539e+00</td>\n",
       "      <td>1.924840e+00</td>\n",
       "      <td>3.518409e+00</td>\n",
       "      <td>4.132628e+01</td>\n",
       "      <td>3.219866e+01</td>\n",
       "      <td>1.013632e+04</td>\n",
       "    </tr>\n",
       "    <tr>\n",
       "      <th>min</th>\n",
       "      <td>2.017030e+07</td>\n",
       "      <td>0.000000e+00</td>\n",
       "      <td>0.000000e+00</td>\n",
       "      <td>0.000000e+00</td>\n",
       "      <td>0.000000e+00</td>\n",
       "      <td>-2.442900e+04</td>\n",
       "      <td>1.000000e+00</td>\n",
       "      <td>1.000000e-03</td>\n",
       "    </tr>\n",
       "    <tr>\n",
       "      <th>25%</th>\n",
       "      <td>2.017031e+07</td>\n",
       "      <td>0.000000e+00</td>\n",
       "      <td>0.000000e+00</td>\n",
       "      <td>0.000000e+00</td>\n",
       "      <td>0.000000e+00</td>\n",
       "      <td>7.000000e+00</td>\n",
       "      <td>8.000000e+00</td>\n",
       "      <td>1.959944e+03</td>\n",
       "    </tr>\n",
       "    <tr>\n",
       "      <th>50%</th>\n",
       "      <td>2.017032e+07</td>\n",
       "      <td>2.000000e+00</td>\n",
       "      <td>1.000000e+00</td>\n",
       "      <td>0.000000e+00</td>\n",
       "      <td>0.000000e+00</td>\n",
       "      <td>1.700000e+01</td>\n",
       "      <td>1.800000e+01</td>\n",
       "      <td>4.582990e+03</td>\n",
       "    </tr>\n",
       "    <tr>\n",
       "      <th>75%</th>\n",
       "      <td>2.017032e+07</td>\n",
       "      <td>7.000000e+00</td>\n",
       "      <td>2.000000e+00</td>\n",
       "      <td>1.000000e+00</td>\n",
       "      <td>1.000000e+00</td>\n",
       "      <td>3.700000e+01</td>\n",
       "      <td>3.800000e+01</td>\n",
       "      <td>9.848441e+03</td>\n",
       "    </tr>\n",
       "    <tr>\n",
       "      <th>max</th>\n",
       "      <td>2.017033e+07</td>\n",
       "      <td>5.639000e+03</td>\n",
       "      <td>9.120000e+02</td>\n",
       "      <td>5.080000e+02</td>\n",
       "      <td>1.561000e+03</td>\n",
       "      <td>2.107300e+04</td>\n",
       "      <td>4.925000e+03</td>\n",
       "      <td>9.194059e+06</td>\n",
       "    </tr>\n",
       "  </tbody>\n",
       "</table>\n",
       "</div>"
      ],
      "text/plain": [
       "               date        num_25        num_50        num_75       num_985  \\\n",
       "count  1.839636e+07  1.839636e+07  1.839636e+07  1.839636e+07  1.839636e+07   \n",
       "mean   2.017032e+07  6.191401e+00  1.508789e+00  9.413759e-01  1.079905e+00   \n",
       "std    8.916720e+00  1.342827e+01  3.908539e+00  1.924840e+00  3.518409e+00   \n",
       "min    2.017030e+07  0.000000e+00  0.000000e+00  0.000000e+00  0.000000e+00   \n",
       "25%    2.017031e+07  0.000000e+00  0.000000e+00  0.000000e+00  0.000000e+00   \n",
       "50%    2.017032e+07  2.000000e+00  1.000000e+00  0.000000e+00  0.000000e+00   \n",
       "75%    2.017032e+07  7.000000e+00  2.000000e+00  1.000000e+00  1.000000e+00   \n",
       "max    2.017033e+07  5.639000e+03  9.120000e+02  5.080000e+02  1.561000e+03   \n",
       "\n",
       "            num_100       num_unq    total_secs  \n",
       "count  1.839636e+07  1.839636e+07  1.839636e+07  \n",
       "mean   3.027890e+01  2.903615e+01  7.904814e+03  \n",
       "std    4.132628e+01  3.219866e+01  1.013632e+04  \n",
       "min   -2.442900e+04  1.000000e+00  1.000000e-03  \n",
       "25%    7.000000e+00  8.000000e+00  1.959944e+03  \n",
       "50%    1.700000e+01  1.800000e+01  4.582990e+03  \n",
       "75%    3.700000e+01  3.800000e+01  9.848441e+03  \n",
       "max    2.107300e+04  4.925000e+03  9.194059e+06  "
      ]
     },
     "execution_count": 35,
     "metadata": {},
     "output_type": "execute_result"
    }
   ],
   "source": [
    "user_logs_v2.describe()"
   ]
  },
  {
   "cell_type": "code",
   "execution_count": 36,
   "metadata": {},
   "outputs": [
    {
     "data": {
      "text/html": [
       "<div>\n",
       "<style scoped>\n",
       "    .dataframe tbody tr th:only-of-type {\n",
       "        vertical-align: middle;\n",
       "    }\n",
       "\n",
       "    .dataframe tbody tr th {\n",
       "        vertical-align: top;\n",
       "    }\n",
       "\n",
       "    .dataframe thead th {\n",
       "        text-align: right;\n",
       "    }\n",
       "</style>\n",
       "<table border=\"1\" class=\"dataframe\">\n",
       "  <thead>\n",
       "    <tr style=\"text-align: right;\">\n",
       "      <th></th>\n",
       "      <th>msno</th>\n",
       "      <th>date</th>\n",
       "      <th>num_25</th>\n",
       "      <th>num_50</th>\n",
       "      <th>num_75</th>\n",
       "      <th>num_985</th>\n",
       "      <th>num_100</th>\n",
       "      <th>num_unq</th>\n",
       "      <th>total_secs</th>\n",
       "    </tr>\n",
       "  </thead>\n",
       "  <tbody>\n",
       "    <tr>\n",
       "      <th>11534622</th>\n",
       "      <td>sfWgePzzK7p+HF5X/IzTitF34mnDy6LvFqHEOIvRPc4=</td>\n",
       "      <td>20170324</td>\n",
       "      <td>227</td>\n",
       "      <td>104</td>\n",
       "      <td>95</td>\n",
       "      <td>108</td>\n",
       "      <td>-24429</td>\n",
       "      <td>1510</td>\n",
       "      <td>9194058.522</td>\n",
       "    </tr>\n",
       "  </tbody>\n",
       "</table>\n",
       "</div>"
      ],
      "text/plain": [
       "                                                  msno      date  num_25  \\\n",
       "11534622  sfWgePzzK7p+HF5X/IzTitF34mnDy6LvFqHEOIvRPc4=  20170324     227   \n",
       "\n",
       "          num_50  num_75  num_985  num_100  num_unq   total_secs  \n",
       "11534622     104      95      108   -24429     1510  9194058.522  "
      ]
     },
     "execution_count": 36,
     "metadata": {},
     "output_type": "execute_result"
    }
   ],
   "source": [
    "# checking datapoints where num_100 value is negative\n",
    "user_logs_v2[user_logs_v2.num_100<0]"
   ]
  },
  {
   "cell_type": "code",
   "execution_count": 37,
   "metadata": {},
   "outputs": [],
   "source": [
    "# removing datapoints with negative value of num_100\n",
    "user_logs_v2.drop(index=(user_logs_v2[user_logs_v2.num_100<0].index) ,inplace=True)"
   ]
  },
  {
   "cell_type": "code",
   "execution_count": 38,
   "metadata": {},
   "outputs": [],
   "source": [
    "# converting total seconds to total minutes by dividing it by 60\n",
    "\n",
    "user_logs_v2['total_minutes'] = user_logs_v2['total_secs']/60\n",
    "user_logs_v2.drop(columns=['total_secs'],inplace=True)  # dropping column 'total_secs'"
   ]
  },
  {
   "cell_type": "code",
   "execution_count": 39,
   "metadata": {
    "scrolled": true
   },
   "outputs": [
    {
     "name": "stdout",
     "output_type": "stream",
     "text": [
      "(1103894, 8)\n"
     ]
    },
    {
     "data": {
      "text/html": [
       "<div>\n",
       "<style scoped>\n",
       "    .dataframe tbody tr th:only-of-type {\n",
       "        vertical-align: middle;\n",
       "    }\n",
       "\n",
       "    .dataframe tbody tr th {\n",
       "        vertical-align: top;\n",
       "    }\n",
       "\n",
       "    .dataframe thead th {\n",
       "        text-align: right;\n",
       "    }\n",
       "</style>\n",
       "<table border=\"1\" class=\"dataframe\">\n",
       "  <thead>\n",
       "    <tr style=\"text-align: right;\">\n",
       "      <th></th>\n",
       "      <th>msno</th>\n",
       "      <th>num_25</th>\n",
       "      <th>num_50</th>\n",
       "      <th>num_75</th>\n",
       "      <th>num_985</th>\n",
       "      <th>num_100</th>\n",
       "      <th>num_unq</th>\n",
       "      <th>total_minutes</th>\n",
       "    </tr>\n",
       "  </thead>\n",
       "  <tbody>\n",
       "    <tr>\n",
       "      <th>0</th>\n",
       "      <td>+++IZseRRiQS9aaSkH6cMYU6bGDcxUieAi/tH67sC5s=</td>\n",
       "      <td>86.0</td>\n",
       "      <td>11.0</td>\n",
       "      <td>10.0</td>\n",
       "      <td>5.0</td>\n",
       "      <td>472.0</td>\n",
       "      <td>530</td>\n",
       "      <td>1965.123750</td>\n",
       "    </tr>\n",
       "    <tr>\n",
       "      <th>1</th>\n",
       "      <td>+++hVY1rZox/33YtvDgmKA2Frg/2qhkz12B9ylCvh8o=</td>\n",
       "      <td>191.0</td>\n",
       "      <td>90.0</td>\n",
       "      <td>75.0</td>\n",
       "      <td>144.0</td>\n",
       "      <td>589.0</td>\n",
       "      <td>885</td>\n",
       "      <td>3208.798200</td>\n",
       "    </tr>\n",
       "    <tr>\n",
       "      <th>2</th>\n",
       "      <td>+++l/EXNMLTijfLBa8p2TUVVVp2aFGSuUI/h7mLmthw=</td>\n",
       "      <td>43.0</td>\n",
       "      <td>12.0</td>\n",
       "      <td>15.0</td>\n",
       "      <td>12.0</td>\n",
       "      <td>485.0</td>\n",
       "      <td>468</td>\n",
       "      <td>1923.521000</td>\n",
       "    </tr>\n",
       "    <tr>\n",
       "      <th>3</th>\n",
       "      <td>+++snpr7pmobhLKUgSHTv/mpkqgBT0tQJ0zQj6qKrqc=</td>\n",
       "      <td>207.0</td>\n",
       "      <td>163.0</td>\n",
       "      <td>100.0</td>\n",
       "      <td>64.0</td>\n",
       "      <td>436.0</td>\n",
       "      <td>828</td>\n",
       "      <td>2498.275967</td>\n",
       "    </tr>\n",
       "    <tr>\n",
       "      <th>4</th>\n",
       "      <td>++/9R3sX37CjxbY/AaGvbwr3QkwElKBCtSvVzhCBDOk=</td>\n",
       "      <td>105.0</td>\n",
       "      <td>24.0</td>\n",
       "      <td>39.0</td>\n",
       "      <td>35.0</td>\n",
       "      <td>479.0</td>\n",
       "      <td>230</td>\n",
       "      <td>1940.554117</td>\n",
       "    </tr>\n",
       "  </tbody>\n",
       "</table>\n",
       "</div>"
      ],
      "text/plain": [
       "                                           msno  num_25  num_50  num_75  \\\n",
       "0  +++IZseRRiQS9aaSkH6cMYU6bGDcxUieAi/tH67sC5s=    86.0    11.0    10.0   \n",
       "1  +++hVY1rZox/33YtvDgmKA2Frg/2qhkz12B9ylCvh8o=   191.0    90.0    75.0   \n",
       "2  +++l/EXNMLTijfLBa8p2TUVVVp2aFGSuUI/h7mLmthw=    43.0    12.0    15.0   \n",
       "3  +++snpr7pmobhLKUgSHTv/mpkqgBT0tQJ0zQj6qKrqc=   207.0   163.0   100.0   \n",
       "4  ++/9R3sX37CjxbY/AaGvbwr3QkwElKBCtSvVzhCBDOk=   105.0    24.0    39.0   \n",
       "\n",
       "   num_985  num_100  num_unq  total_minutes  \n",
       "0      5.0    472.0      530    1965.123750  \n",
       "1    144.0    589.0      885    3208.798200  \n",
       "2     12.0    485.0      468    1923.521000  \n",
       "3     64.0    436.0      828    2498.275967  \n",
       "4     35.0    479.0      230    1940.554117  "
      ]
     },
     "execution_count": 39,
     "metadata": {},
     "output_type": "execute_result"
    }
   ],
   "source": [
    "# taking sum of each columns for each user\n",
    "user_logs_sum = user_logs_v2.groupby('msno',as_index=False).sum()\n",
    "user_logs_sum.drop(columns=['date'],axis=1,inplace=True)\n",
    "print(user_logs_sum.shape)\n",
    "user_logs_sum.head()"
   ]
  },
  {
   "cell_type": "code",
   "execution_count": 40,
   "metadata": {},
   "outputs": [
    {
     "name": "stdout",
     "output_type": "stream",
     "text": [
      "(1103894, 8)\n"
     ]
    },
    {
     "data": {
      "text/html": [
       "<div>\n",
       "<style scoped>\n",
       "    .dataframe tbody tr th:only-of-type {\n",
       "        vertical-align: middle;\n",
       "    }\n",
       "\n",
       "    .dataframe tbody tr th {\n",
       "        vertical-align: top;\n",
       "    }\n",
       "\n",
       "    .dataframe thead th {\n",
       "        text-align: right;\n",
       "    }\n",
       "</style>\n",
       "<table border=\"1\" class=\"dataframe\">\n",
       "  <thead>\n",
       "    <tr style=\"text-align: right;\">\n",
       "      <th></th>\n",
       "      <th>msno</th>\n",
       "      <th>mean_num_25</th>\n",
       "      <th>mean_num_50</th>\n",
       "      <th>mean_num_75</th>\n",
       "      <th>mean_num_985</th>\n",
       "      <th>mean_num_100</th>\n",
       "      <th>mean_num_unq</th>\n",
       "      <th>mean_total_min</th>\n",
       "    </tr>\n",
       "  </thead>\n",
       "  <tbody>\n",
       "    <tr>\n",
       "      <th>0</th>\n",
       "      <td>+++IZseRRiQS9aaSkH6cMYU6bGDcxUieAi/tH67sC5s=</td>\n",
       "      <td>3.307692</td>\n",
       "      <td>0.423077</td>\n",
       "      <td>0.384615</td>\n",
       "      <td>0.192308</td>\n",
       "      <td>18.153846</td>\n",
       "      <td>20.384615</td>\n",
       "      <td>75.581683</td>\n",
       "    </tr>\n",
       "    <tr>\n",
       "      <th>1</th>\n",
       "      <td>+++hVY1rZox/33YtvDgmKA2Frg/2qhkz12B9ylCvh8o=</td>\n",
       "      <td>6.161290</td>\n",
       "      <td>2.903226</td>\n",
       "      <td>2.419355</td>\n",
       "      <td>4.645161</td>\n",
       "      <td>19.000000</td>\n",
       "      <td>28.548387</td>\n",
       "      <td>103.509619</td>\n",
       "    </tr>\n",
       "    <tr>\n",
       "      <th>2</th>\n",
       "      <td>+++l/EXNMLTijfLBa8p2TUVVVp2aFGSuUI/h7mLmthw=</td>\n",
       "      <td>1.535714</td>\n",
       "      <td>0.428571</td>\n",
       "      <td>0.535714</td>\n",
       "      <td>0.428571</td>\n",
       "      <td>17.321429</td>\n",
       "      <td>16.714286</td>\n",
       "      <td>68.697179</td>\n",
       "    </tr>\n",
       "    <tr>\n",
       "      <th>3</th>\n",
       "      <td>+++snpr7pmobhLKUgSHTv/mpkqgBT0tQJ0zQj6qKrqc=</td>\n",
       "      <td>9.857143</td>\n",
       "      <td>7.761905</td>\n",
       "      <td>4.761905</td>\n",
       "      <td>3.047619</td>\n",
       "      <td>20.761905</td>\n",
       "      <td>39.428571</td>\n",
       "      <td>118.965522</td>\n",
       "    </tr>\n",
       "    <tr>\n",
       "      <th>4</th>\n",
       "      <td>++/9R3sX37CjxbY/AaGvbwr3QkwElKBCtSvVzhCBDOk=</td>\n",
       "      <td>3.620690</td>\n",
       "      <td>0.827586</td>\n",
       "      <td>1.344828</td>\n",
       "      <td>1.206897</td>\n",
       "      <td>16.517241</td>\n",
       "      <td>7.931034</td>\n",
       "      <td>66.915659</td>\n",
       "    </tr>\n",
       "  </tbody>\n",
       "</table>\n",
       "</div>"
      ],
      "text/plain": [
       "                                           msno  mean_num_25  mean_num_50  \\\n",
       "0  +++IZseRRiQS9aaSkH6cMYU6bGDcxUieAi/tH67sC5s=     3.307692     0.423077   \n",
       "1  +++hVY1rZox/33YtvDgmKA2Frg/2qhkz12B9ylCvh8o=     6.161290     2.903226   \n",
       "2  +++l/EXNMLTijfLBa8p2TUVVVp2aFGSuUI/h7mLmthw=     1.535714     0.428571   \n",
       "3  +++snpr7pmobhLKUgSHTv/mpkqgBT0tQJ0zQj6qKrqc=     9.857143     7.761905   \n",
       "4  ++/9R3sX37CjxbY/AaGvbwr3QkwElKBCtSvVzhCBDOk=     3.620690     0.827586   \n",
       "\n",
       "   mean_num_75  mean_num_985  mean_num_100  mean_num_unq  mean_total_min  \n",
       "0     0.384615      0.192308     18.153846     20.384615       75.581683  \n",
       "1     2.419355      4.645161     19.000000     28.548387      103.509619  \n",
       "2     0.535714      0.428571     17.321429     16.714286       68.697179  \n",
       "3     4.761905      3.047619     20.761905     39.428571      118.965522  \n",
       "4     1.344828      1.206897     16.517241      7.931034       66.915659  "
      ]
     },
     "execution_count": 40,
     "metadata": {},
     "output_type": "execute_result"
    }
   ],
   "source": [
    "# taking mean of each columns for each user\n",
    "user_logs_mean = user_logs_v2.groupby('msno',as_index=False).mean()\n",
    "user_logs_mean.columns = ['msno','date','mean_num_25','mean_num_50','mean_num_75','mean_num_985','mean_num_100','mean_num_unq','mean_total_min']\n",
    "user_logs_mean.drop(columns=['date'],axis=1,inplace=True)\n",
    "print(user_logs_mean.shape)\n",
    "user_logs_mean.head()"
   ]
  },
  {
   "cell_type": "code",
   "execution_count": 41,
   "metadata": {},
   "outputs": [
    {
     "name": "stdout",
     "output_type": "stream",
     "text": [
      "(1103894, 15)\n"
     ]
    },
    {
     "data": {
      "text/html": [
       "<div>\n",
       "<style scoped>\n",
       "    .dataframe tbody tr th:only-of-type {\n",
       "        vertical-align: middle;\n",
       "    }\n",
       "\n",
       "    .dataframe tbody tr th {\n",
       "        vertical-align: top;\n",
       "    }\n",
       "\n",
       "    .dataframe thead th {\n",
       "        text-align: right;\n",
       "    }\n",
       "</style>\n",
       "<table border=\"1\" class=\"dataframe\">\n",
       "  <thead>\n",
       "    <tr style=\"text-align: right;\">\n",
       "      <th></th>\n",
       "      <th>msno</th>\n",
       "      <th>num_25</th>\n",
       "      <th>num_50</th>\n",
       "      <th>num_75</th>\n",
       "      <th>num_985</th>\n",
       "      <th>num_100</th>\n",
       "      <th>num_unq</th>\n",
       "      <th>total_minutes</th>\n",
       "      <th>mean_num_25</th>\n",
       "      <th>mean_num_50</th>\n",
       "      <th>mean_num_75</th>\n",
       "      <th>mean_num_985</th>\n",
       "      <th>mean_num_100</th>\n",
       "      <th>mean_num_unq</th>\n",
       "      <th>mean_total_min</th>\n",
       "    </tr>\n",
       "  </thead>\n",
       "  <tbody>\n",
       "    <tr>\n",
       "      <th>0</th>\n",
       "      <td>+++IZseRRiQS9aaSkH6cMYU6bGDcxUieAi/tH67sC5s=</td>\n",
       "      <td>86.0</td>\n",
       "      <td>11.0</td>\n",
       "      <td>10.0</td>\n",
       "      <td>5.0</td>\n",
       "      <td>472.0</td>\n",
       "      <td>530</td>\n",
       "      <td>1965.123750</td>\n",
       "      <td>3.307692</td>\n",
       "      <td>0.423077</td>\n",
       "      <td>0.384615</td>\n",
       "      <td>0.192308</td>\n",
       "      <td>18.153846</td>\n",
       "      <td>20.384615</td>\n",
       "      <td>75.581683</td>\n",
       "    </tr>\n",
       "    <tr>\n",
       "      <th>1</th>\n",
       "      <td>+++hVY1rZox/33YtvDgmKA2Frg/2qhkz12B9ylCvh8o=</td>\n",
       "      <td>191.0</td>\n",
       "      <td>90.0</td>\n",
       "      <td>75.0</td>\n",
       "      <td>144.0</td>\n",
       "      <td>589.0</td>\n",
       "      <td>885</td>\n",
       "      <td>3208.798200</td>\n",
       "      <td>6.161290</td>\n",
       "      <td>2.903226</td>\n",
       "      <td>2.419355</td>\n",
       "      <td>4.645161</td>\n",
       "      <td>19.000000</td>\n",
       "      <td>28.548387</td>\n",
       "      <td>103.509619</td>\n",
       "    </tr>\n",
       "    <tr>\n",
       "      <th>2</th>\n",
       "      <td>+++l/EXNMLTijfLBa8p2TUVVVp2aFGSuUI/h7mLmthw=</td>\n",
       "      <td>43.0</td>\n",
       "      <td>12.0</td>\n",
       "      <td>15.0</td>\n",
       "      <td>12.0</td>\n",
       "      <td>485.0</td>\n",
       "      <td>468</td>\n",
       "      <td>1923.521000</td>\n",
       "      <td>1.535714</td>\n",
       "      <td>0.428571</td>\n",
       "      <td>0.535714</td>\n",
       "      <td>0.428571</td>\n",
       "      <td>17.321429</td>\n",
       "      <td>16.714286</td>\n",
       "      <td>68.697179</td>\n",
       "    </tr>\n",
       "    <tr>\n",
       "      <th>3</th>\n",
       "      <td>+++snpr7pmobhLKUgSHTv/mpkqgBT0tQJ0zQj6qKrqc=</td>\n",
       "      <td>207.0</td>\n",
       "      <td>163.0</td>\n",
       "      <td>100.0</td>\n",
       "      <td>64.0</td>\n",
       "      <td>436.0</td>\n",
       "      <td>828</td>\n",
       "      <td>2498.275967</td>\n",
       "      <td>9.857143</td>\n",
       "      <td>7.761905</td>\n",
       "      <td>4.761905</td>\n",
       "      <td>3.047619</td>\n",
       "      <td>20.761905</td>\n",
       "      <td>39.428571</td>\n",
       "      <td>118.965522</td>\n",
       "    </tr>\n",
       "    <tr>\n",
       "      <th>4</th>\n",
       "      <td>++/9R3sX37CjxbY/AaGvbwr3QkwElKBCtSvVzhCBDOk=</td>\n",
       "      <td>105.0</td>\n",
       "      <td>24.0</td>\n",
       "      <td>39.0</td>\n",
       "      <td>35.0</td>\n",
       "      <td>479.0</td>\n",
       "      <td>230</td>\n",
       "      <td>1940.554117</td>\n",
       "      <td>3.620690</td>\n",
       "      <td>0.827586</td>\n",
       "      <td>1.344828</td>\n",
       "      <td>1.206897</td>\n",
       "      <td>16.517241</td>\n",
       "      <td>7.931034</td>\n",
       "      <td>66.915659</td>\n",
       "    </tr>\n",
       "  </tbody>\n",
       "</table>\n",
       "</div>"
      ],
      "text/plain": [
       "                                           msno  num_25  num_50  num_75  \\\n",
       "0  +++IZseRRiQS9aaSkH6cMYU6bGDcxUieAi/tH67sC5s=    86.0    11.0    10.0   \n",
       "1  +++hVY1rZox/33YtvDgmKA2Frg/2qhkz12B9ylCvh8o=   191.0    90.0    75.0   \n",
       "2  +++l/EXNMLTijfLBa8p2TUVVVp2aFGSuUI/h7mLmthw=    43.0    12.0    15.0   \n",
       "3  +++snpr7pmobhLKUgSHTv/mpkqgBT0tQJ0zQj6qKrqc=   207.0   163.0   100.0   \n",
       "4  ++/9R3sX37CjxbY/AaGvbwr3QkwElKBCtSvVzhCBDOk=   105.0    24.0    39.0   \n",
       "\n",
       "   num_985  num_100  num_unq  total_minutes  mean_num_25  mean_num_50  \\\n",
       "0      5.0    472.0      530    1965.123750     3.307692     0.423077   \n",
       "1    144.0    589.0      885    3208.798200     6.161290     2.903226   \n",
       "2     12.0    485.0      468    1923.521000     1.535714     0.428571   \n",
       "3     64.0    436.0      828    2498.275967     9.857143     7.761905   \n",
       "4     35.0    479.0      230    1940.554117     3.620690     0.827586   \n",
       "\n",
       "   mean_num_75  mean_num_985  mean_num_100  mean_num_unq  mean_total_min  \n",
       "0     0.384615      0.192308     18.153846     20.384615       75.581683  \n",
       "1     2.419355      4.645161     19.000000     28.548387      103.509619  \n",
       "2     0.535714      0.428571     17.321429     16.714286       68.697179  \n",
       "3     4.761905      3.047619     20.761905     39.428571      118.965522  \n",
       "4     1.344828      1.206897     16.517241      7.931034       66.915659  "
      ]
     },
     "execution_count": 41,
     "metadata": {},
     "output_type": "execute_result"
    }
   ],
   "source": [
    "user_logs = user_logs_sum.merge(user_logs_mean,on='msno')\n",
    "print(user_logs.shape)\n",
    "user_logs.head()"
   ]
  },
  {
   "cell_type": "code",
   "execution_count": 42,
   "metadata": {},
   "outputs": [
    {
     "data": {
      "text/plain": [
       "Text(0.5, 1.0, 'Box plot of num_unq(Number of Unique songs)')"
      ]
     },
     "execution_count": 42,
     "metadata": {},
     "output_type": "execute_result"
    },
    {
     "data": {
      "image/png": "[encoded data removed]",
      "text/plain": [
       "<Figure size 1080x720 with 1 Axes>"
      ]
     },
     "metadata": {},
     "output_type": "display_data"
    }
   ],
   "source": [
    "plt.figure(figsize=(15,10))\n",
    "plt.grid()\n",
    "sn.boxplot(user_logs.num_unq, orient='v')\n",
    "plt.xlabel(\"num_unq\")\n",
    "plt.ylabel(\"Number of Unique songs\")\n",
    "plt.title(\"Box plot of num_unq(Number of Unique songs)\")"
   ]
  },
  {
   "cell_type": "markdown",
   "metadata": {},
   "source": [
    "##### More than 90% of users have total unique number of songs less than 2500.\n",
    "##### There are few users having total number of unique songs greater than 5000 and some even greater than 10000."
   ]
  },
  {
   "cell_type": "code",
   "execution_count": 43,
   "metadata": {},
   "outputs": [
    {
     "name": "stdout",
     "output_type": "stream",
     "text": [
      "1 percentile =  1.0\n",
      "3 percentile =  2.0\n",
      "5 percentile =  5.0\n",
      "7 percentile =  9.0\n",
      "9 percentile =  14.0\n",
      "11 percentile =  20.0\n",
      "13 percentile =  27.0\n",
      "15 percentile =  36.0\n",
      "17 percentile =  45.0\n",
      "19 percentile =  55.0\n",
      "21 percentile =  66.0\n",
      "23 percentile =  77.0\n",
      "25 percentile =  90.0\n",
      "27 percentile =  103.0\n",
      "29 percentile =  116.0\n",
      "31 percentile =  130.0\n",
      "33 percentile =  145.0\n",
      "35 percentile =  161.0\n",
      "37 percentile =  177.0\n",
      "39 percentile =  194.0\n",
      "41 percentile =  211.0\n",
      "43 percentile =  229.0\n",
      "45 percentile =  248.0\n",
      "47 percentile =  267.0\n",
      "49 percentile =  287.0\n",
      "51 percentile =  308.0\n",
      "53 percentile =  329.0\n",
      "55 percentile =  352.0\n",
      "57 percentile =  375.0\n",
      "59 percentile =  399.0\n",
      "61 percentile =  425.0\n",
      "63 percentile =  452.0\n",
      "65 percentile =  480.0\n",
      "67 percentile =  511.0\n",
      "69 percentile =  543.0\n",
      "71 percentile =  577.0\n",
      "73 percentile =  614.0\n",
      "75 percentile =  653.0\n",
      "77 percentile =  697.0\n",
      "79 percentile =  745.0\n",
      "81 percentile =  798.0\n",
      "83 percentile =  857.0\n",
      "85 percentile =  926.0\n",
      "87 percentile =  1006.0\n",
      "89 percentile =  1100.0\n",
      "91 percentile =  1219.0\n",
      "93 percentile =  1375.0\n",
      "95 percentile =  1600.0\n",
      "97 percentile =  1980.0\n",
      "99 percentile =  2872.0\n"
     ]
    }
   ],
   "source": [
    "percentile(user_logs_sum,'num_unq',1,100,2)"
   ]
  },
  {
   "cell_type": "code",
   "execution_count": 44,
   "metadata": {},
   "outputs": [
    {
     "name": "stdout",
     "output_type": "stream",
     "text": [
      "99.0 percentile =  2872.0\n",
      "99.05 percentile =  2918.0\n",
      "99.1 percentile =  2960.0\n",
      "99.14999999999999 percentile =  3006.0\n",
      "99.19999999999999 percentile =  3058.8559999999125\n",
      "99.24999999999999 percentile =  3112.0\n",
      "99.29999999999998 percentile =  3167.0\n",
      "99.34999999999998 percentile =  3225.0\n",
      "99.39999999999998 percentile =  3288.0\n",
      "99.44999999999997 percentile =  3359.0\n",
      "99.49999999999997 percentile =  3433.5349999996834\n",
      "99.54999999999997 percentile =  3521.4814999997616\n",
      "99.59999999999997 percentile =  3617.0\n",
      "99.64999999999996 percentile =  3719.3744999994524\n",
      "99.69999999999996 percentile =  3842.0\n",
      "99.74999999999996 percentile =  3987.0\n",
      "99.79999999999995 percentile =  4159.0\n",
      "99.84999999999995 percentile =  4381.0\n",
      "99.89999999999995 percentile =  4685.213999998756\n",
      "99.94999999999995 percentile =  5240.0\n"
     ]
    }
   ],
   "source": [
    "percentile(user_logs_sum,'num_unq',99,100,.05)"
   ]
  },
  {
   "cell_type": "markdown",
   "metadata": {},
   "source": [
    "##### About 86% of the users have listened to a maximum of 1000 unique songs.\n",
    "##### 99% of users have unqiue songs less than 5000"
   ]
  },
  {
   "cell_type": "code",
   "execution_count": 45,
   "metadata": {},
   "outputs": [
    {
     "data": {
      "text/plain": [
       "Text(0.5, 1.0, 'Box plot of num_25(Number of songs listened 25%)')"
      ]
     },
     "execution_count": 45,
     "metadata": {},
     "output_type": "execute_result"
    },
    {
     "data": {
      "image/png": "[encoded data removed]",
      "text/plain": [
       "<Figure size 1080x720 with 1 Axes>"
      ]
     },
     "metadata": {},
     "output_type": "display_data"
    }
   ],
   "source": [
    "# box plot of num_25 i.e. number of songs listened 25% of their length\n",
    "plt.figure(figsize=(15,10))\n",
    "plt.grid()\n",
    "sn.boxplot(user_logs.num_25, orient='v')\n",
    "plt.ylabel(\"Number of songs listened 25%\")\n",
    "plt.title(\"Box plot of num_25(Number of songs listened 25%)\")"
   ]
  },
  {
   "cell_type": "markdown",
   "metadata": {},
   "source": [
    "##### Can't get much info out of the above box plot. But it seems there are very less users who played songs less than 25% of the song length"
   ]
  },
  {
   "cell_type": "code",
   "execution_count": 46,
   "metadata": {},
   "outputs": [
    {
     "data": {
      "text/plain": [
       "Text(0.5, 1.0, 'Box plot of num_50(Number of songs listened 50%)')"
      ]
     },
     "execution_count": 46,
     "metadata": {},
     "output_type": "execute_result"
    },
    {
     "data": {
      "image/png": "[encoded data removed]",
      "text/plain": [
       "<Figure size 1080x720 with 1 Axes>"
      ]
     },
     "metadata": {},
     "output_type": "display_data"
    }
   ],
   "source": [
    "# box plot of num_50 i.e. number of songs listened 50% of their length\n",
    "plt.figure(figsize=(15,10))\n",
    "plt.grid()\n",
    "sn.boxplot(user_logs.num_50, orient='v')\n",
    "plt.ylabel(\"Number of songs listened 50%\")\n",
    "plt.title(\"Box plot of num_50(Number of songs listened 50%)\")"
   ]
  },
  {
   "cell_type": "markdown",
   "metadata": {},
   "source": [
    "##### More than 80% of the users have number of songs below 200, that are played between 25% to 50% of the song length"
   ]
  },
  {
   "cell_type": "code",
   "execution_count": 47,
   "metadata": {},
   "outputs": [
    {
     "data": {
      "text/plain": [
       "Text(0.5, 1.0, 'Box plot of num_75(Number of songs listened 75%)')"
      ]
     },
     "execution_count": 47,
     "metadata": {},
     "output_type": "execute_result"
    },
    {
     "data": {
      "image/png": "[encoded data removed]",
      "text/plain": [
       "<Figure size 1080x720 with 1 Axes>"
      ]
     },
     "metadata": {},
     "output_type": "display_data"
    }
   ],
   "source": [
    "# box plot of num_75 i.e. number of songs listened 75% of their length\n",
    "plt.figure(figsize=(15,10))\n",
    "plt.grid()\n",
    "sn.boxplot(user_logs.num_75, orient='v')\n",
    "plt.ylabel(\"Number of songs listened 75%\")\n",
    "plt.title(\"Box plot of num_75(Number of songs listened 75%)\")"
   ]
  },
  {
   "cell_type": "markdown",
   "metadata": {},
   "source": [
    "##### 90% of the users have songs(that are played between 50% to 75% of of the song length) less than 250 "
   ]
  },
  {
   "cell_type": "code",
   "execution_count": 48,
   "metadata": {},
   "outputs": [
    {
     "data": {
      "text/plain": [
       "Text(0.5, 1.0, 'Box plot of num_985(Number of songs listened 985%)')"
      ]
     },
     "execution_count": 48,
     "metadata": {},
     "output_type": "execute_result"
    },
    {
     "data": {
      "image/png": "[encoded data removed]",
      "text/plain": [
       "<Figure size 1080x720 with 1 Axes>"
      ]
     },
     "metadata": {},
     "output_type": "display_data"
    }
   ],
   "source": [
    "# box plot of num_985 i.e. number of songs listened 98.5% of their length\n",
    "plt.figure(figsize=(15,10))\n",
    "plt.grid()\n",
    "sn.boxplot(user_logs.num_985, orient='v')\n",
    "plt.ylabel(\"Number of songs listened 985%\")\n",
    "plt.title(\"Box plot of num_985(Number of songs listened 985%)\")"
   ]
  },
  {
   "cell_type": "markdown",
   "metadata": {},
   "source": [
    "##### Not getting enough info out of it"
   ]
  },
  {
   "cell_type": "code",
   "execution_count": 49,
   "metadata": {},
   "outputs": [
    {
     "data": {
      "text/plain": [
       "Text(0.5, 1.0, 'Box plot of Total minutes listened')"
      ]
     },
     "execution_count": 49,
     "metadata": {},
     "output_type": "execute_result"
    },
    {
     "data": {
      "image/png": "[encoded data removed]",
      "text/plain": [
       "<Figure size 1080x720 with 1 Axes>"
      ]
     },
     "metadata": {},
     "output_type": "display_data"
    }
   ],
   "source": [
    "# box plot of total minutes listened by a user\n",
    "plt.figure(figsize=(15,10))\n",
    "plt.grid()\n",
    "sn.boxplot(user_logs.total_minutes, orient='v')\n",
    "plt.ylabel(\"Total minutes listened\")\n",
    "plt.title(\"Box plot of Total minutes listened\")"
   ]
  },
  {
   "cell_type": "markdown",
   "metadata": {},
   "source": [
    "Plot shows that most of the users have listened upto total 5000 minutes"
   ]
  },
  {
   "cell_type": "code",
   "execution_count": 50,
   "metadata": {},
   "outputs": [
    {
     "name": "stdout",
     "output_type": "stream",
     "text": [
      "1 percentile =  1.3522716666666665\n",
      "3 percentile =  5.2017695\n",
      "5 percentile =  12.9360925\n",
      "7 percentile =  26.127631500000003\n",
      "9 percentile =  45.86785183333333\n",
      "11 percentile =  70.12502549999999\n",
      "13 percentile =  98.92098916666666\n",
      "15 percentile =  132.19183166666664\n",
      "17 percentile =  169.81308133333334\n",
      "19 percentile =  211.04253933333337\n",
      "21 percentile =  256.6458171666667\n",
      "23 percentile =  304.7570931666667\n",
      "25 percentile =  355.5785041666667\n",
      "27 percentile =  409.6035258333334\n",
      "29 percentile =  466.6937484999999\n",
      "31 percentile =  526.5429741666667\n",
      "33 percentile =  588.7749615\n",
      "35 percentile =  653.6273458333333\n",
      "37 percentile =  721.641455\n",
      "39 percentile =  791.7572048333335\n",
      "41 percentile =  865.0773163333333\n",
      "43 percentile =  941.1777719999999\n",
      "45 percentile =  1020.1848433333333\n",
      "47 percentile =  1102.2012458333331\n",
      "49 percentile =  1187.0761573333332\n",
      "51 percentile =  1275.1454006666668\n",
      "53 percentile =  1366.052677666667\n",
      "55 percentile =  1461.6521883333335\n",
      "57 percentile =  1562.0418146666666\n",
      "59 percentile =  1667.2541553333333\n",
      "61 percentile =  1778.7314766666666\n",
      "63 percentile =  1897.0778004999997\n",
      "65 percentile =  2020.7790616666664\n",
      "67 percentile =  2151.7552098333335\n",
      "69 percentile =  2293.9646656666673\n",
      "71 percentile =  2447.7428058333335\n",
      "73 percentile =  2612.903054833333\n",
      "75 percentile =  2792.8884749999997\n",
      "77 percentile =  2989.538904666667\n",
      "79 percentile =  3208.8477585000037\n",
      "81 percentile =  3455.2246730000006\n",
      "83 percentile =  3736.917011666666\n",
      "85 percentile =  4067.9858583333316\n",
      "87 percentile =  4457.845649000002\n",
      "89 percentile =  4942.826514833333\n",
      "91 percentile =  5561.834958833333\n",
      "93 percentile =  6395.6232955000005\n",
      "95 percentile =  7668.725102499982\n",
      "97 percentile =  9936.673389166663\n",
      "99 percentile =  15272.586951666675\n"
     ]
    }
   ],
   "source": [
    "percentile(user_logs,'total_minutes',1,100,2)"
   ]
  },
  {
   "cell_type": "code",
   "execution_count": 51,
   "metadata": {},
   "outputs": [
    {
     "name": "stdout",
     "output_type": "stream",
     "text": [
      "98.0 percentile =  11881.643410666664\n",
      "98.2 percentile =  12394.3563721\n",
      "98.4 percentile =  12979.520688000015\n",
      "98.60000000000001 percentile =  13639.437017700016\n",
      "98.80000000000001 percentile =  14373.521650400071\n",
      "99.00000000000001 percentile =  15272.586951666675\n",
      "99.20000000000002 percentile =  16328.458029066695\n",
      "99.40000000000002 percentile =  17684.319803766844\n",
      "99.60000000000002 percentile =  19452.065948600037\n",
      "99.80000000000003 percentile =  22571.66992240002\n"
     ]
    }
   ],
   "source": [
    "percentile(user_logs,'total_minutes',98,100,0.2)"
   ]
  },
  {
   "cell_type": "markdown",
   "metadata": {},
   "source": [
    "##### 90%  of the users have listened number of minutes upto 5000\n"
   ]
  },
  {
   "cell_type": "code",
   "execution_count": 52,
   "metadata": {},
   "outputs": [
    {
     "data": {
      "text/html": [
       "<div>\n",
       "<style scoped>\n",
       "    .dataframe tbody tr th:only-of-type {\n",
       "        vertical-align: middle;\n",
       "    }\n",
       "\n",
       "    .dataframe tbody tr th {\n",
       "        vertical-align: top;\n",
       "    }\n",
       "\n",
       "    .dataframe thead th {\n",
       "        text-align: right;\n",
       "    }\n",
       "</style>\n",
       "<table border=\"1\" class=\"dataframe\">\n",
       "  <thead>\n",
       "    <tr style=\"text-align: right;\">\n",
       "      <th></th>\n",
       "      <th>msno</th>\n",
       "      <th>city</th>\n",
       "      <th>bd</th>\n",
       "      <th>gender</th>\n",
       "      <th>registered_via</th>\n",
       "      <th>registration_init_time</th>\n",
       "    </tr>\n",
       "  </thead>\n",
       "  <tbody>\n",
       "    <tr>\n",
       "      <th>0</th>\n",
       "      <td>Rb9UwLQTrxzBVwCB6+bCcSQWZ9JiNLC9dXtM1oEsZA8=</td>\n",
       "      <td>1</td>\n",
       "      <td>0</td>\n",
       "      <td>NaN</td>\n",
       "      <td>11</td>\n",
       "      <td>20110911</td>\n",
       "    </tr>\n",
       "    <tr>\n",
       "      <th>1</th>\n",
       "      <td>+tJonkh+O1CA796Fm5X60UMOtB6POHAwPjbTRVl/EuU=</td>\n",
       "      <td>1</td>\n",
       "      <td>0</td>\n",
       "      <td>NaN</td>\n",
       "      <td>7</td>\n",
       "      <td>20110914</td>\n",
       "    </tr>\n",
       "    <tr>\n",
       "      <th>2</th>\n",
       "      <td>cV358ssn7a0f7jZOwGNWS07wCKVqxyiImJUX6xcIwKw=</td>\n",
       "      <td>1</td>\n",
       "      <td>0</td>\n",
       "      <td>NaN</td>\n",
       "      <td>11</td>\n",
       "      <td>20110915</td>\n",
       "    </tr>\n",
       "    <tr>\n",
       "      <th>3</th>\n",
       "      <td>9bzDeJP6sQodK73K5CBlJ6fgIQzPeLnRl0p5B77XP+g=</td>\n",
       "      <td>1</td>\n",
       "      <td>0</td>\n",
       "      <td>NaN</td>\n",
       "      <td>11</td>\n",
       "      <td>20110915</td>\n",
       "    </tr>\n",
       "    <tr>\n",
       "      <th>4</th>\n",
       "      <td>WFLY3s7z4EZsieHCt63XrsdtfTEmJ+2PnnKLH5GY4Tk=</td>\n",
       "      <td>6</td>\n",
       "      <td>32</td>\n",
       "      <td>female</td>\n",
       "      <td>9</td>\n",
       "      <td>20110915</td>\n",
       "    </tr>\n",
       "  </tbody>\n",
       "</table>\n",
       "</div>"
      ],
      "text/plain": [
       "                                           msno  city  bd  gender  \\\n",
       "0  Rb9UwLQTrxzBVwCB6+bCcSQWZ9JiNLC9dXtM1oEsZA8=     1   0     NaN   \n",
       "1  +tJonkh+O1CA796Fm5X60UMOtB6POHAwPjbTRVl/EuU=     1   0     NaN   \n",
       "2  cV358ssn7a0f7jZOwGNWS07wCKVqxyiImJUX6xcIwKw=     1   0     NaN   \n",
       "3  9bzDeJP6sQodK73K5CBlJ6fgIQzPeLnRl0p5B77XP+g=     1   0     NaN   \n",
       "4  WFLY3s7z4EZsieHCt63XrsdtfTEmJ+2PnnKLH5GY4Tk=     6  32  female   \n",
       "\n",
       "   registered_via  registration_init_time  \n",
       "0              11                20110911  \n",
       "1               7                20110914  \n",
       "2              11                20110915  \n",
       "3              11                20110915  \n",
       "4               9                20110915  "
      ]
     },
     "execution_count": 52,
     "metadata": {},
     "output_type": "execute_result"
    }
   ],
   "source": [
    "members.head()"
   ]
  },
  {
   "cell_type": "code",
   "execution_count": 53,
   "metadata": {},
   "outputs": [],
   "source": [
    "members.drop_duplicates(inplace=True)"
   ]
  },
  {
   "cell_type": "code",
   "execution_count": 54,
   "metadata": {},
   "outputs": [
    {
     "data": {
      "text/plain": [
       "msno                            0\n",
       "city                            0\n",
       "bd                              0\n",
       "gender                    4429505\n",
       "registered_via                  0\n",
       "registration_init_time          0\n",
       "dtype: int64"
      ]
     },
     "execution_count": 54,
     "metadata": {},
     "output_type": "execute_result"
    }
   ],
   "source": [
    "members.isna().sum()"
   ]
  },
  {
   "cell_type": "code",
   "execution_count": 55,
   "metadata": {},
   "outputs": [],
   "source": [
    "members.fillna(\"NP\",inplace=True) # filling NaN in Gender column with \"NP\" i.e. Not Provided"
   ]
  },
  {
   "cell_type": "code",
   "execution_count": 56,
   "metadata": {},
   "outputs": [
    {
     "data": {
      "image/png": "[encoded data removed]",
      "text/plain": [
       "<Figure size 1440x720 with 1 Axes>"
      ]
     },
     "metadata": {},
     "output_type": "display_data"
    }
   ],
   "source": [
    "#plot of gender vs number of users \n",
    "plt.figure(figsize=(20,10))\n",
    "ax = sn.countplot(members.gender, order=members.gender.value_counts().index)\n",
    "plt.xlabel(\"Gender\")\n",
    "plt.ylabel(\"Number of Users\")\n",
    "plt.title(\"Number of Users vs Gender\")\n",
    "\n",
    "total = members.shape[0]\n",
    "\n",
    "for p in ax.patches:\n",
    "        ax.annotate('{:.1f}%'.format(100*p.get_height()/total), (p.get_x()+0.25, p.get_height()))\n",
    "\n",
    "plt.show()"
   ]
  },
  {
   "cell_type": "markdown",
   "metadata": {},
   "source": [
    "##### 65.4% of the user's gender details are not present, 17.7% users are male, 16.9% users are female.\n",
    "##### As most of values in gender are NULL, so I would drop this column"
   ]
  },
  {
   "cell_type": "code",
   "execution_count": 57,
   "metadata": {},
   "outputs": [
    {
     "data": {
      "image/png": "[encoded data removed]",
      "text/plain": [
       "<Figure size 1440x720 with 1 Axes>"
      ]
     },
     "metadata": {},
     "output_type": "display_data"
    }
   ],
   "source": [
    "#plot of city vs number of users \n",
    "plt.figure(figsize=(20,10))\n",
    "ax = sn.countplot(members.city, order=members.city.value_counts().index)\n",
    "plt.xlabel(\"City\")\n",
    "plt.ylabel(\"Number of Users\")\n",
    "plt.title(\"Number of Users vs City\")\n",
    "\n",
    "total = members.shape[0]\n",
    "\n",
    "for p in ax.patches:\n",
    "        ax.annotate('{:.1f}%'.format(100*p.get_height()/total), (p.get_x()+0.25, p.get_height()))\n",
    "\n",
    "plt.show()"
   ]
  },
  {
   "cell_type": "markdown",
   "metadata": {},
   "source": [
    "##### 71% of the users are from city '1'. \n",
    "##### Other cities have very less number of users."
   ]
  },
  {
   "cell_type": "code",
   "execution_count": 58,
   "metadata": {},
   "outputs": [
    {
     "data": {
      "image/png": "[encoded data removed]",
      "text/plain": [
       "<Figure size 1440x720 with 1 Axes>"
      ]
     },
     "metadata": {},
     "output_type": "display_data"
    }
   ],
   "source": [
    "#plot of registered_via vs number of users \n",
    "plt.figure(figsize=(20,10))\n",
    "ax = sn.countplot(members.registered_via, order=members.registered_via.value_counts().index)\n",
    "plt.xlabel(\"Registered via\")\n",
    "plt.ylabel(\"Number of Users\")\n",
    "plt.title(\"Registered via VS Number of Users \")\n",
    "\n",
    "total = members.shape[0]\n",
    "\n",
    "for p in ax.patches:\n",
    "        ax.annotate('{:.1f}%'.format(100*p.get_height()/total), (p.get_x()+0.25, p.get_height()))\n",
    "\n",
    "plt.show()"
   ]
  },
  {
   "cell_type": "markdown",
   "metadata": {},
   "source": [
    "##### 41.3 % users are registered via '4'. \n",
    "##### 24.3% users are registered via '3'. \n",
    "##### 21.9% users are registered via '9'.\n",
    "##### 11.9% users are registered via '7'.\n",
    "##### Other 'registered_via' don't have much users"
   ]
  },
  {
   "cell_type": "code",
   "execution_count": 59,
   "metadata": {},
   "outputs": [
    {
     "data": {
      "text/plain": [
       "Text(0.5, 1.0, 'Box plot of Payment Plan Days')"
      ]
     },
     "execution_count": 59,
     "metadata": {},
     "output_type": "execute_result"
    },
    {
     "data": {
      "image/png": "[encoded data removed]",
      "text/plain": [
       "<Figure size 1080x720 with 1 Axes>"
      ]
     },
     "metadata": {},
     "output_type": "display_data"
    }
   ],
   "source": [
    "# BoxPlot of plan_list_price for churned and not-churned users\n",
    "plt.figure(figsize=(15,10))\n",
    "plt.grid()\n",
    "sn.boxplot(y=train.plan_list_price, x=train.is_churn,orient='v')\n",
    "plt.xticks([0, 1], ['Not-Churn', 'Churn'])\n",
    "ymax=np.max(train.plan_list_price)\n",
    "plt.yticks(np.arange(0,ymax+100,50))\n",
    "plt.xlabel(\"User Churn\")\n",
    "plt.ylabel(\"Plan list price\")\n",
    "plt.title(\"Box plot of Payment Plan Days\")"
   ]
  },
  {
   "cell_type": "markdown",
   "metadata": {},
   "source": [
    "##### For Churned users, most of the plan price lies between 1 to 900.\n",
    "##### For not-churned users, most of the plan price lies between 50 to 200\n",
    "##### So the users with higher plan price are more likely to churn."
   ]
  },
  {
   "cell_type": "code",
   "execution_count": 60,
   "metadata": {},
   "outputs": [
    {
     "data": {
      "text/html": [
       "<div>\n",
       "<style scoped>\n",
       "    .dataframe tbody tr th:only-of-type {\n",
       "        vertical-align: middle;\n",
       "    }\n",
       "\n",
       "    .dataframe tbody tr th {\n",
       "        vertical-align: top;\n",
       "    }\n",
       "\n",
       "    .dataframe thead th {\n",
       "        text-align: right;\n",
       "    }\n",
       "</style>\n",
       "<table border=\"1\" class=\"dataframe\">\n",
       "  <thead>\n",
       "    <tr style=\"text-align: right;\">\n",
       "      <th></th>\n",
       "      <th>msno</th>\n",
       "      <th>is_churn</th>\n",
       "      <th>payment_method_id</th>\n",
       "      <th>payment_plan_days</th>\n",
       "      <th>plan_list_price</th>\n",
       "      <th>is_auto_renew</th>\n",
       "      <th>transaction_date</th>\n",
       "      <th>trans_count</th>\n",
       "      <th>day_of_month</th>\n",
       "      <th>month_day</th>\n",
       "      <th>day_of_week</th>\n",
       "      <th>is_weekend</th>\n",
       "      <th>city</th>\n",
       "      <th>bd</th>\n",
       "      <th>registered_via</th>\n",
       "    </tr>\n",
       "  </thead>\n",
       "  <tbody>\n",
       "    <tr>\n",
       "      <th>0</th>\n",
       "      <td>f/NmvEzHfhINFEYZTR05prUdr+E+3+oewvweYz9cCQE=</td>\n",
       "      <td>1</td>\n",
       "      <td>36.0</td>\n",
       "      <td>30.0</td>\n",
       "      <td>180.0</td>\n",
       "      <td>0.0</td>\n",
       "      <td>20170311.0</td>\n",
       "      <td>1.0</td>\n",
       "      <td>11.0</td>\n",
       "      <td>311.0</td>\n",
       "      <td>6.0</td>\n",
       "      <td>1.0</td>\n",
       "      <td>13.0</td>\n",
       "      <td>20.0</td>\n",
       "      <td>3.0</td>\n",
       "    </tr>\n",
       "    <tr>\n",
       "      <th>1</th>\n",
       "      <td>zLo9f73nGGT1p21ltZC3ChiRnAVvgibMyazbCxvWPcg=</td>\n",
       "      <td>1</td>\n",
       "      <td>15.0</td>\n",
       "      <td>90.0</td>\n",
       "      <td>300.0</td>\n",
       "      <td>0.0</td>\n",
       "      <td>20170314.0</td>\n",
       "      <td>2.0</td>\n",
       "      <td>14.0</td>\n",
       "      <td>314.0</td>\n",
       "      <td>2.0</td>\n",
       "      <td>0.0</td>\n",
       "      <td>13.0</td>\n",
       "      <td>18.0</td>\n",
       "      <td>3.0</td>\n",
       "    </tr>\n",
       "    <tr>\n",
       "      <th>2</th>\n",
       "      <td>8iF/+8HY8lJKFrTc7iR9ZYGCG2Ecrogbc2Vy5YhsfhQ=</td>\n",
       "      <td>1</td>\n",
       "      <td>41.0</td>\n",
       "      <td>30.0</td>\n",
       "      <td>149.0</td>\n",
       "      <td>1.0</td>\n",
       "      <td>20151208.0</td>\n",
       "      <td>10.0</td>\n",
       "      <td>8.0</td>\n",
       "      <td>1208.0</td>\n",
       "      <td>2.0</td>\n",
       "      <td>0.0</td>\n",
       "      <td>1.0</td>\n",
       "      <td>0.0</td>\n",
       "      <td>7.0</td>\n",
       "    </tr>\n",
       "    <tr>\n",
       "      <th>3</th>\n",
       "      <td>K6fja4+jmoZ5xG6BypqX80Uw/XKpMgrEMdG2edFOxnA=</td>\n",
       "      <td>1</td>\n",
       "      <td>41.0</td>\n",
       "      <td>30.0</td>\n",
       "      <td>99.0</td>\n",
       "      <td>1.0</td>\n",
       "      <td>20170316.0</td>\n",
       "      <td>8.0</td>\n",
       "      <td>16.0</td>\n",
       "      <td>316.0</td>\n",
       "      <td>4.0</td>\n",
       "      <td>0.0</td>\n",
       "      <td>13.0</td>\n",
       "      <td>35.0</td>\n",
       "      <td>7.0</td>\n",
       "    </tr>\n",
       "    <tr>\n",
       "      <th>4</th>\n",
       "      <td>ibIHVYBqxGwrSExE63/omeDD99M5vYB3CN2HzkEY+eM=</td>\n",
       "      <td>1</td>\n",
       "      <td>40.0</td>\n",
       "      <td>30.0</td>\n",
       "      <td>149.0</td>\n",
       "      <td>1.0</td>\n",
       "      <td>20170316.0</td>\n",
       "      <td>1.0</td>\n",
       "      <td>16.0</td>\n",
       "      <td>316.0</td>\n",
       "      <td>4.0</td>\n",
       "      <td>0.0</td>\n",
       "      <td>22.0</td>\n",
       "      <td>0.0</td>\n",
       "      <td>3.0</td>\n",
       "    </tr>\n",
       "  </tbody>\n",
       "</table>\n",
       "</div>"
      ],
      "text/plain": [
       "                                           msno  is_churn  payment_method_id  \\\n",
       "0  f/NmvEzHfhINFEYZTR05prUdr+E+3+oewvweYz9cCQE=         1               36.0   \n",
       "1  zLo9f73nGGT1p21ltZC3ChiRnAVvgibMyazbCxvWPcg=         1               15.0   \n",
       "2  8iF/+8HY8lJKFrTc7iR9ZYGCG2Ecrogbc2Vy5YhsfhQ=         1               41.0   \n",
       "3  K6fja4+jmoZ5xG6BypqX80Uw/XKpMgrEMdG2edFOxnA=         1               41.0   \n",
       "4  ibIHVYBqxGwrSExE63/omeDD99M5vYB3CN2HzkEY+eM=         1               40.0   \n",
       "\n",
       "   payment_plan_days  plan_list_price  is_auto_renew  transaction_date  \\\n",
       "0               30.0            180.0            0.0        20170311.0   \n",
       "1               90.0            300.0            0.0        20170314.0   \n",
       "2               30.0            149.0            1.0        20151208.0   \n",
       "3               30.0             99.0            1.0        20170316.0   \n",
       "4               30.0            149.0            1.0        20170316.0   \n",
       "\n",
       "   trans_count  day_of_month  month_day  day_of_week  is_weekend  city    bd  \\\n",
       "0          1.0          11.0      311.0          6.0         1.0  13.0  20.0   \n",
       "1          2.0          14.0      314.0          2.0         0.0  13.0  18.0   \n",
       "2         10.0           8.0     1208.0          2.0         0.0   1.0   0.0   \n",
       "3          8.0          16.0      316.0          4.0         0.0  13.0  35.0   \n",
       "4          1.0          16.0      316.0          4.0         0.0  22.0   0.0   \n",
       "\n",
       "   registered_via  \n",
       "0             3.0  \n",
       "1             3.0  \n",
       "2             7.0  \n",
       "3             7.0  \n",
       "4             3.0  "
      ]
     },
     "execution_count": 60,
     "metadata": {},
     "output_type": "execute_result"
    }
   ],
   "source": [
    "members.drop(columns=['registration_init_time','gender'],axis=1,inplace=True)  # dropping 'gender' column as 65% values are NULL\n",
    "train = train.merge(members,how='left',on='msno')     # merging members dataframe to train dataframe\n",
    "train.head()"
   ]
  },
  {
   "cell_type": "code",
   "execution_count": 61,
   "metadata": {
    "scrolled": true
   },
   "outputs": [
    {
     "data": {
      "text/plain": [
       "msno                      0\n",
       "is_churn                  0\n",
       "payment_method_id         0\n",
       "payment_plan_days         0\n",
       "plan_list_price           0\n",
       "is_auto_renew             0\n",
       "transaction_date          0\n",
       "trans_count               0\n",
       "day_of_month              0\n",
       "month_day                 0\n",
       "day_of_week               0\n",
       "is_weekend                0\n",
       "city                 108210\n",
       "bd                   108210\n",
       "registered_via       108210\n",
       "dtype: int64"
      ]
     },
     "execution_count": 61,
     "metadata": {},
     "output_type": "execute_result"
    }
   ],
   "source": [
    "train.isna().sum()"
   ]
  },
  {
   "cell_type": "code",
   "execution_count": 62,
   "metadata": {},
   "outputs": [
    {
     "data": {
      "text/plain": [
       "Text(0.5, 1.0, 'Number of users vs Age')"
      ]
     },
     "execution_count": 62,
     "metadata": {},
     "output_type": "execute_result"
    },
    {
     "data": {
      "image/png": "[encoded data removed]",
      "text/plain": [
       "<Figure size 1080x720 with 1 Axes>"
      ]
     },
     "metadata": {},
     "output_type": "display_data"
    }
   ],
   "source": [
    "# BoxPlot of age for churned and not-churned users\n",
    "plt.figure(figsize=(15,10))\n",
    "plt.grid()\n",
    "sn.boxplot(y=train.bd, x=train.is_churn,orient='v')\n",
    "plt.xticks([0, 1], ['Not-Churn', 'Churn'])\n",
    "plt.xlabel(\"User Churn\")\n",
    "plt.ylabel(\"Age\")\n",
    "plt.title(\"Number of users vs Age\")"
   ]
  },
  {
   "cell_type": "markdown",
   "metadata": {},
   "source": [
    "As there are outliers in the age feature that are negative as well as more than 100, and also the age for churned and not-churned users are too much overlapping so I would drop the 'age' feature."
   ]
  },
  {
   "cell_type": "code",
   "execution_count": 63,
   "metadata": {},
   "outputs": [],
   "source": [
    "train.drop(columns=['bd'],axis=1,inplace=True)"
   ]
  },
  {
   "cell_type": "code",
   "execution_count": 64,
   "metadata": {},
   "outputs": [],
   "source": [
    "# filling NULL values of city with the most occuring value\n",
    "train['city'] = train['city'].fillna(train.city.value_counts().index[0])  #https://www.kaggle.com/hjsdssz/kkbox-churn-prediction-model \n",
    "\n",
    "# filling NULL values of 'registered_via' with most occuring value\n",
    "train['registered_via'] = train['registered_via'].fillna(train.registered_via.value_counts().index[0])\n"
   ]
  },
  {
   "cell_type": "code",
   "execution_count": 65,
   "metadata": {},
   "outputs": [
    {
     "data": {
      "text/plain": [
       "msno                 0\n",
       "is_churn             0\n",
       "payment_method_id    0\n",
       "payment_plan_days    0\n",
       "plan_list_price      0\n",
       "is_auto_renew        0\n",
       "transaction_date     0\n",
       "trans_count          0\n",
       "day_of_month         0\n",
       "month_day            0\n",
       "day_of_week          0\n",
       "is_weekend           0\n",
       "city                 0\n",
       "registered_via       0\n",
       "dtype: int64"
      ]
     },
     "execution_count": 65,
     "metadata": {},
     "output_type": "execute_result"
    }
   ],
   "source": [
    "train.isna().sum()"
   ]
  },
  {
   "cell_type": "code",
   "execution_count": 66,
   "metadata": {},
   "outputs": [
    {
     "name": "stdout",
     "output_type": "stream",
     "text": [
      "(933578, 28)\n"
     ]
    },
    {
     "data": {
      "text/html": [
       "<div>\n",
       "<style scoped>\n",
       "    .dataframe tbody tr th:only-of-type {\n",
       "        vertical-align: middle;\n",
       "    }\n",
       "\n",
       "    .dataframe tbody tr th {\n",
       "        vertical-align: top;\n",
       "    }\n",
       "\n",
       "    .dataframe thead th {\n",
       "        text-align: right;\n",
       "    }\n",
       "</style>\n",
       "<table border=\"1\" class=\"dataframe\">\n",
       "  <thead>\n",
       "    <tr style=\"text-align: right;\">\n",
       "      <th></th>\n",
       "      <th>msno</th>\n",
       "      <th>is_churn</th>\n",
       "      <th>payment_method_id</th>\n",
       "      <th>payment_plan_days</th>\n",
       "      <th>plan_list_price</th>\n",
       "      <th>is_auto_renew</th>\n",
       "      <th>transaction_date</th>\n",
       "      <th>trans_count</th>\n",
       "      <th>day_of_month</th>\n",
       "      <th>month_day</th>\n",
       "      <th>...</th>\n",
       "      <th>num_100</th>\n",
       "      <th>num_unq</th>\n",
       "      <th>total_minutes</th>\n",
       "      <th>mean_num_25</th>\n",
       "      <th>mean_num_50</th>\n",
       "      <th>mean_num_75</th>\n",
       "      <th>mean_num_985</th>\n",
       "      <th>mean_num_100</th>\n",
       "      <th>mean_num_unq</th>\n",
       "      <th>mean_total_min</th>\n",
       "    </tr>\n",
       "  </thead>\n",
       "  <tbody>\n",
       "    <tr>\n",
       "      <th>0</th>\n",
       "      <td>f/NmvEzHfhINFEYZTR05prUdr+E+3+oewvweYz9cCQE=</td>\n",
       "      <td>1</td>\n",
       "      <td>36.0</td>\n",
       "      <td>30.0</td>\n",
       "      <td>180.0</td>\n",
       "      <td>0.0</td>\n",
       "      <td>20170311.0</td>\n",
       "      <td>1.0</td>\n",
       "      <td>11.0</td>\n",
       "      <td>311.0</td>\n",
       "      <td>...</td>\n",
       "      <td>26.0</td>\n",
       "      <td>30.0</td>\n",
       "      <td>116.441817</td>\n",
       "      <td>0.00</td>\n",
       "      <td>0.666667</td>\n",
       "      <td>0.333333</td>\n",
       "      <td>0.000000</td>\n",
       "      <td>4.333333</td>\n",
       "      <td>5.000000</td>\n",
       "      <td>19.406969</td>\n",
       "    </tr>\n",
       "    <tr>\n",
       "      <th>1</th>\n",
       "      <td>zLo9f73nGGT1p21ltZC3ChiRnAVvgibMyazbCxvWPcg=</td>\n",
       "      <td>1</td>\n",
       "      <td>15.0</td>\n",
       "      <td>90.0</td>\n",
       "      <td>300.0</td>\n",
       "      <td>0.0</td>\n",
       "      <td>20170314.0</td>\n",
       "      <td>2.0</td>\n",
       "      <td>14.0</td>\n",
       "      <td>314.0</td>\n",
       "      <td>...</td>\n",
       "      <td>205.0</td>\n",
       "      <td>432.0</td>\n",
       "      <td>1130.174450</td>\n",
       "      <td>11.95</td>\n",
       "      <td>2.850000</td>\n",
       "      <td>1.600000</td>\n",
       "      <td>1.100000</td>\n",
       "      <td>10.250000</td>\n",
       "      <td>21.600000</td>\n",
       "      <td>56.508722</td>\n",
       "    </tr>\n",
       "    <tr>\n",
       "      <th>2</th>\n",
       "      <td>8iF/+8HY8lJKFrTc7iR9ZYGCG2Ecrogbc2Vy5YhsfhQ=</td>\n",
       "      <td>1</td>\n",
       "      <td>41.0</td>\n",
       "      <td>30.0</td>\n",
       "      <td>149.0</td>\n",
       "      <td>1.0</td>\n",
       "      <td>20151208.0</td>\n",
       "      <td>10.0</td>\n",
       "      <td>8.0</td>\n",
       "      <td>1208.0</td>\n",
       "      <td>...</td>\n",
       "      <td>NaN</td>\n",
       "      <td>NaN</td>\n",
       "      <td>NaN</td>\n",
       "      <td>NaN</td>\n",
       "      <td>NaN</td>\n",
       "      <td>NaN</td>\n",
       "      <td>NaN</td>\n",
       "      <td>NaN</td>\n",
       "      <td>NaN</td>\n",
       "      <td>NaN</td>\n",
       "    </tr>\n",
       "    <tr>\n",
       "      <th>3</th>\n",
       "      <td>K6fja4+jmoZ5xG6BypqX80Uw/XKpMgrEMdG2edFOxnA=</td>\n",
       "      <td>1</td>\n",
       "      <td>41.0</td>\n",
       "      <td>30.0</td>\n",
       "      <td>99.0</td>\n",
       "      <td>1.0</td>\n",
       "      <td>20170316.0</td>\n",
       "      <td>8.0</td>\n",
       "      <td>16.0</td>\n",
       "      <td>316.0</td>\n",
       "      <td>...</td>\n",
       "      <td>962.0</td>\n",
       "      <td>548.0</td>\n",
       "      <td>3998.037350</td>\n",
       "      <td>0.60</td>\n",
       "      <td>0.466667</td>\n",
       "      <td>0.266667</td>\n",
       "      <td>0.266667</td>\n",
       "      <td>64.133333</td>\n",
       "      <td>36.533333</td>\n",
       "      <td>266.535823</td>\n",
       "    </tr>\n",
       "    <tr>\n",
       "      <th>4</th>\n",
       "      <td>ibIHVYBqxGwrSExE63/omeDD99M5vYB3CN2HzkEY+eM=</td>\n",
       "      <td>1</td>\n",
       "      <td>40.0</td>\n",
       "      <td>30.0</td>\n",
       "      <td>149.0</td>\n",
       "      <td>1.0</td>\n",
       "      <td>20170316.0</td>\n",
       "      <td>1.0</td>\n",
       "      <td>16.0</td>\n",
       "      <td>316.0</td>\n",
       "      <td>...</td>\n",
       "      <td>37.0</td>\n",
       "      <td>48.0</td>\n",
       "      <td>168.511083</td>\n",
       "      <td>1.50</td>\n",
       "      <td>0.250000</td>\n",
       "      <td>0.250000</td>\n",
       "      <td>1.000000</td>\n",
       "      <td>9.250000</td>\n",
       "      <td>12.000000</td>\n",
       "      <td>42.127771</td>\n",
       "    </tr>\n",
       "  </tbody>\n",
       "</table>\n",
       "<p>5 rows × 28 columns</p>\n",
       "</div>"
      ],
      "text/plain": [
       "                                           msno  is_churn  payment_method_id  \\\n",
       "0  f/NmvEzHfhINFEYZTR05prUdr+E+3+oewvweYz9cCQE=         1               36.0   \n",
       "1  zLo9f73nGGT1p21ltZC3ChiRnAVvgibMyazbCxvWPcg=         1               15.0   \n",
       "2  8iF/+8HY8lJKFrTc7iR9ZYGCG2Ecrogbc2Vy5YhsfhQ=         1               41.0   \n",
       "3  K6fja4+jmoZ5xG6BypqX80Uw/XKpMgrEMdG2edFOxnA=         1               41.0   \n",
       "4  ibIHVYBqxGwrSExE63/omeDD99M5vYB3CN2HzkEY+eM=         1               40.0   \n",
       "\n",
       "   payment_plan_days  plan_list_price  is_auto_renew  transaction_date  \\\n",
       "0               30.0            180.0            0.0        20170311.0   \n",
       "1               90.0            300.0            0.0        20170314.0   \n",
       "2               30.0            149.0            1.0        20151208.0   \n",
       "3               30.0             99.0            1.0        20170316.0   \n",
       "4               30.0            149.0            1.0        20170316.0   \n",
       "\n",
       "   trans_count  day_of_month  month_day  ...  num_100  num_unq  total_minutes  \\\n",
       "0          1.0          11.0      311.0  ...     26.0     30.0     116.441817   \n",
       "1          2.0          14.0      314.0  ...    205.0    432.0    1130.174450   \n",
       "2         10.0           8.0     1208.0  ...      NaN      NaN            NaN   \n",
       "3          8.0          16.0      316.0  ...    962.0    548.0    3998.037350   \n",
       "4          1.0          16.0      316.0  ...     37.0     48.0     168.511083   \n",
       "\n",
       "   mean_num_25  mean_num_50  mean_num_75  mean_num_985  mean_num_100  \\\n",
       "0         0.00     0.666667     0.333333      0.000000      4.333333   \n",
       "1        11.95     2.850000     1.600000      1.100000     10.250000   \n",
       "2          NaN          NaN          NaN           NaN           NaN   \n",
       "3         0.60     0.466667     0.266667      0.266667     64.133333   \n",
       "4         1.50     0.250000     0.250000      1.000000      9.250000   \n",
       "\n",
       "   mean_num_unq  mean_total_min  \n",
       "0      5.000000       19.406969  \n",
       "1     21.600000       56.508722  \n",
       "2           NaN             NaN  \n",
       "3     36.533333      266.535823  \n",
       "4     12.000000       42.127771  \n",
       "\n",
       "[5 rows x 28 columns]"
      ]
     },
     "execution_count": 66,
     "metadata": {},
     "output_type": "execute_result"
    }
   ],
   "source": [
    "# merging logs with train data\n",
    "\n",
    "train = train.merge(user_logs,how='left',on='msno')\n",
    "print(train.shape)\n",
    "train.head()"
   ]
  },
  {
   "cell_type": "code",
   "execution_count": 67,
   "metadata": {
    "scrolled": false
   },
   "outputs": [
    {
     "data": {
      "text/plain": [
       "msno                      0\n",
       "is_churn                  0\n",
       "payment_method_id         0\n",
       "payment_plan_days         0\n",
       "plan_list_price           0\n",
       "is_auto_renew             0\n",
       "transaction_date          0\n",
       "trans_count               0\n",
       "day_of_month              0\n",
       "month_day                 0\n",
       "day_of_week               0\n",
       "is_weekend                0\n",
       "city                      0\n",
       "registered_via            0\n",
       "num_25               207842\n",
       "num_50               207842\n",
       "num_75               207842\n",
       "num_985              207842\n",
       "num_100              207842\n",
       "num_unq              207842\n",
       "total_minutes        207842\n",
       "mean_num_25          207842\n",
       "mean_num_50          207842\n",
       "mean_num_75          207842\n",
       "mean_num_985         207842\n",
       "mean_num_100         207842\n",
       "mean_num_unq         207842\n",
       "mean_total_min       207842\n",
       "dtype: int64"
      ]
     },
     "execution_count": 67,
     "metadata": {},
     "output_type": "execute_result"
    }
   ],
   "source": [
    "train.isna().sum()  # checking for NULL values after merging with user_logs"
   ]
  },
  {
   "cell_type": "code",
   "execution_count": 68,
   "metadata": {},
   "outputs": [
    {
     "data": {
      "text/plain": [
       "(725736, 28)"
      ]
     },
     "execution_count": 68,
     "metadata": {},
     "output_type": "execute_result"
    }
   ],
   "source": [
    "train.dropna(inplace=True)\n",
    "train.shape"
   ]
  },
  {
   "cell_type": "code",
   "execution_count": 69,
   "metadata": {},
   "outputs": [
    {
     "data": {
      "text/html": [
       "<div>\n",
       "<style scoped>\n",
       "    .dataframe tbody tr th:only-of-type {\n",
       "        vertical-align: middle;\n",
       "    }\n",
       "\n",
       "    .dataframe tbody tr th {\n",
       "        vertical-align: top;\n",
       "    }\n",
       "\n",
       "    .dataframe thead th {\n",
       "        text-align: right;\n",
       "    }\n",
       "</style>\n",
       "<table border=\"1\" class=\"dataframe\">\n",
       "  <thead>\n",
       "    <tr style=\"text-align: right;\">\n",
       "      <th></th>\n",
       "      <th>is_churn</th>\n",
       "      <th>payment_method_id</th>\n",
       "      <th>payment_plan_days</th>\n",
       "      <th>plan_list_price</th>\n",
       "      <th>is_auto_renew</th>\n",
       "      <th>transaction_date</th>\n",
       "      <th>trans_count</th>\n",
       "      <th>day_of_month</th>\n",
       "      <th>month_day</th>\n",
       "      <th>day_of_week</th>\n",
       "      <th>...</th>\n",
       "      <th>num_100</th>\n",
       "      <th>num_unq</th>\n",
       "      <th>total_minutes</th>\n",
       "      <th>mean_num_25</th>\n",
       "      <th>mean_num_50</th>\n",
       "      <th>mean_num_75</th>\n",
       "      <th>mean_num_985</th>\n",
       "      <th>mean_num_100</th>\n",
       "      <th>mean_num_unq</th>\n",
       "      <th>mean_total_min</th>\n",
       "    </tr>\n",
       "  </thead>\n",
       "  <tbody>\n",
       "    <tr>\n",
       "      <th>count</th>\n",
       "      <td>725736.000000</td>\n",
       "      <td>725736.000000</td>\n",
       "      <td>725736.000000</td>\n",
       "      <td>725736.000000</td>\n",
       "      <td>725736.000000</td>\n",
       "      <td>7.257360e+05</td>\n",
       "      <td>725736.000000</td>\n",
       "      <td>725736.000000</td>\n",
       "      <td>725736.000000</td>\n",
       "      <td>725736.000000</td>\n",
       "      <td>...</td>\n",
       "      <td>725736.000000</td>\n",
       "      <td>725736.000000</td>\n",
       "      <td>725736.000000</td>\n",
       "      <td>725736.000000</td>\n",
       "      <td>725736.000000</td>\n",
       "      <td>725736.000000</td>\n",
       "      <td>725736.000000</td>\n",
       "      <td>725736.000000</td>\n",
       "      <td>725736.000000</td>\n",
       "      <td>725736.000000</td>\n",
       "    </tr>\n",
       "    <tr>\n",
       "      <th>mean</th>\n",
       "      <td>0.064222</td>\n",
       "      <td>38.582130</td>\n",
       "      <td>34.982140</td>\n",
       "      <td>153.750670</td>\n",
       "      <td>0.886229</td>\n",
       "      <td>2.017030e+07</td>\n",
       "      <td>1.227703</td>\n",
       "      <td>18.009407</td>\n",
       "      <td>318.409277</td>\n",
       "      <td>4.268124</td>\n",
       "      <td>...</td>\n",
       "      <td>545.515739</td>\n",
       "      <td>520.439448</td>\n",
       "      <td>2370.966316</td>\n",
       "      <td>5.386565</td>\n",
       "      <td>1.313766</td>\n",
       "      <td>0.805395</td>\n",
       "      <td>0.888611</td>\n",
       "      <td>24.834057</td>\n",
       "      <td>24.440081</td>\n",
       "      <td>108.528640</td>\n",
       "    </tr>\n",
       "    <tr>\n",
       "      <th>std</th>\n",
       "      <td>0.245148</td>\n",
       "      <td>3.936838</td>\n",
       "      <td>37.586781</td>\n",
       "      <td>157.352527</td>\n",
       "      <td>0.317534</td>\n",
       "      <td>3.896365e+02</td>\n",
       "      <td>1.285202</td>\n",
       "      <td>9.652423</td>\n",
       "      <td>32.922731</td>\n",
       "      <td>1.816027</td>\n",
       "      <td>...</td>\n",
       "      <td>771.499849</td>\n",
       "      <td>599.376201</td>\n",
       "      <td>3121.630512</td>\n",
       "      <td>7.434474</td>\n",
       "      <td>1.803469</td>\n",
       "      <td>0.921692</td>\n",
       "      <td>1.571829</td>\n",
       "      <td>26.891306</td>\n",
       "      <td>20.161167</td>\n",
       "      <td>107.533530</td>\n",
       "    </tr>\n",
       "    <tr>\n",
       "      <th>min</th>\n",
       "      <td>0.000000</td>\n",
       "      <td>3.000000</td>\n",
       "      <td>1.000000</td>\n",
       "      <td>0.000000</td>\n",
       "      <td>0.000000</td>\n",
       "      <td>2.015011e+07</td>\n",
       "      <td>1.000000</td>\n",
       "      <td>1.000000</td>\n",
       "      <td>101.000000</td>\n",
       "      <td>1.000000</td>\n",
       "      <td>...</td>\n",
       "      <td>0.000000</td>\n",
       "      <td>1.000000</td>\n",
       "      <td>0.000583</td>\n",
       "      <td>0.000000</td>\n",
       "      <td>0.000000</td>\n",
       "      <td>0.000000</td>\n",
       "      <td>0.000000</td>\n",
       "      <td>0.000000</td>\n",
       "      <td>1.000000</td>\n",
       "      <td>0.000583</td>\n",
       "    </tr>\n",
       "    <tr>\n",
       "      <th>25%</th>\n",
       "      <td>0.000000</td>\n",
       "      <td>37.000000</td>\n",
       "      <td>30.000000</td>\n",
       "      <td>99.000000</td>\n",
       "      <td>1.000000</td>\n",
       "      <td>2.017031e+07</td>\n",
       "      <td>1.000000</td>\n",
       "      <td>9.000000</td>\n",
       "      <td>309.000000</td>\n",
       "      <td>3.000000</td>\n",
       "      <td>...</td>\n",
       "      <td>113.000000</td>\n",
       "      <td>129.000000</td>\n",
       "      <td>524.676408</td>\n",
       "      <td>1.714286</td>\n",
       "      <td>0.437500</td>\n",
       "      <td>0.296296</td>\n",
       "      <td>0.300000</td>\n",
       "      <td>10.285714</td>\n",
       "      <td>12.000000</td>\n",
       "      <td>48.066166</td>\n",
       "    </tr>\n",
       "    <tr>\n",
       "      <th>50%</th>\n",
       "      <td>0.000000</td>\n",
       "      <td>41.000000</td>\n",
       "      <td>30.000000</td>\n",
       "      <td>149.000000</td>\n",
       "      <td>1.000000</td>\n",
       "      <td>2.017032e+07</td>\n",
       "      <td>1.000000</td>\n",
       "      <td>18.000000</td>\n",
       "      <td>318.000000</td>\n",
       "      <td>5.000000</td>\n",
       "      <td>...</td>\n",
       "      <td>313.000000</td>\n",
       "      <td>339.000000</td>\n",
       "      <td>1413.227725</td>\n",
       "      <td>3.470588</td>\n",
       "      <td>0.888889</td>\n",
       "      <td>0.600000</td>\n",
       "      <td>0.611111</td>\n",
       "      <td>17.565217</td>\n",
       "      <td>19.333333</td>\n",
       "      <td>78.971248</td>\n",
       "    </tr>\n",
       "    <tr>\n",
       "      <th>75%</th>\n",
       "      <td>0.000000</td>\n",
       "      <td>41.000000</td>\n",
       "      <td>30.000000</td>\n",
       "      <td>149.000000</td>\n",
       "      <td>1.000000</td>\n",
       "      <td>2.017033e+07</td>\n",
       "      <td>1.000000</td>\n",
       "      <td>27.000000</td>\n",
       "      <td>327.000000</td>\n",
       "      <td>5.000000</td>\n",
       "      <td>...</td>\n",
       "      <td>672.000000</td>\n",
       "      <td>691.250000</td>\n",
       "      <td>2978.719908</td>\n",
       "      <td>6.608696</td>\n",
       "      <td>1.625000</td>\n",
       "      <td>1.032258</td>\n",
       "      <td>1.090909</td>\n",
       "      <td>29.419355</td>\n",
       "      <td>30.333333</td>\n",
       "      <td>129.184954</td>\n",
       "    </tr>\n",
       "    <tr>\n",
       "      <th>max</th>\n",
       "      <td>1.000000</td>\n",
       "      <td>41.000000</td>\n",
       "      <td>450.000000</td>\n",
       "      <td>2000.000000</td>\n",
       "      <td>1.000000</td>\n",
       "      <td>2.017033e+07</td>\n",
       "      <td>208.000000</td>\n",
       "      <td>31.000000</td>\n",
       "      <td>1231.000000</td>\n",
       "      <td>7.000000</td>\n",
       "      <td>...</td>\n",
       "      <td>57675.000000</td>\n",
       "      <td>23403.000000</td>\n",
       "      <td>238956.522783</td>\n",
       "      <td>1710.866667</td>\n",
       "      <td>452.000000</td>\n",
       "      <td>149.000000</td>\n",
       "      <td>489.161290</td>\n",
       "      <td>1922.500000</td>\n",
       "      <td>1560.200000</td>\n",
       "      <td>7965.217426</td>\n",
       "    </tr>\n",
       "  </tbody>\n",
       "</table>\n",
       "<p>8 rows × 27 columns</p>\n",
       "</div>"
      ],
      "text/plain": [
       "            is_churn  payment_method_id  payment_plan_days  plan_list_price  \\\n",
       "count  725736.000000      725736.000000      725736.000000    725736.000000   \n",
       "mean        0.064222          38.582130          34.982140       153.750670   \n",
       "std         0.245148           3.936838          37.586781       157.352527   \n",
       "min         0.000000           3.000000           1.000000         0.000000   \n",
       "25%         0.000000          37.000000          30.000000        99.000000   \n",
       "50%         0.000000          41.000000          30.000000       149.000000   \n",
       "75%         0.000000          41.000000          30.000000       149.000000   \n",
       "max         1.000000          41.000000         450.000000      2000.000000   \n",
       "\n",
       "       is_auto_renew  transaction_date    trans_count   day_of_month  \\\n",
       "count  725736.000000      7.257360e+05  725736.000000  725736.000000   \n",
       "mean        0.886229      2.017030e+07       1.227703      18.009407   \n",
       "std         0.317534      3.896365e+02       1.285202       9.652423   \n",
       "min         0.000000      2.015011e+07       1.000000       1.000000   \n",
       "25%         1.000000      2.017031e+07       1.000000       9.000000   \n",
       "50%         1.000000      2.017032e+07       1.000000      18.000000   \n",
       "75%         1.000000      2.017033e+07       1.000000      27.000000   \n",
       "max         1.000000      2.017033e+07     208.000000      31.000000   \n",
       "\n",
       "           month_day    day_of_week  ...        num_100        num_unq  \\\n",
       "count  725736.000000  725736.000000  ...  725736.000000  725736.000000   \n",
       "mean      318.409277       4.268124  ...     545.515739     520.439448   \n",
       "std        32.922731       1.816027  ...     771.499849     599.376201   \n",
       "min       101.000000       1.000000  ...       0.000000       1.000000   \n",
       "25%       309.000000       3.000000  ...     113.000000     129.000000   \n",
       "50%       318.000000       5.000000  ...     313.000000     339.000000   \n",
       "75%       327.000000       5.000000  ...     672.000000     691.250000   \n",
       "max      1231.000000       7.000000  ...   57675.000000   23403.000000   \n",
       "\n",
       "       total_minutes    mean_num_25    mean_num_50    mean_num_75  \\\n",
       "count  725736.000000  725736.000000  725736.000000  725736.000000   \n",
       "mean     2370.966316       5.386565       1.313766       0.805395   \n",
       "std      3121.630512       7.434474       1.803469       0.921692   \n",
       "min         0.000583       0.000000       0.000000       0.000000   \n",
       "25%       524.676408       1.714286       0.437500       0.296296   \n",
       "50%      1413.227725       3.470588       0.888889       0.600000   \n",
       "75%      2978.719908       6.608696       1.625000       1.032258   \n",
       "max    238956.522783    1710.866667     452.000000     149.000000   \n",
       "\n",
       "        mean_num_985   mean_num_100   mean_num_unq  mean_total_min  \n",
       "count  725736.000000  725736.000000  725736.000000   725736.000000  \n",
       "mean        0.888611      24.834057      24.440081      108.528640  \n",
       "std         1.571829      26.891306      20.161167      107.533530  \n",
       "min         0.000000       0.000000       1.000000        0.000583  \n",
       "25%         0.300000      10.285714      12.000000       48.066166  \n",
       "50%         0.611111      17.565217      19.333333       78.971248  \n",
       "75%         1.090909      29.419355      30.333333      129.184954  \n",
       "max       489.161290    1922.500000    1560.200000     7965.217426  \n",
       "\n",
       "[8 rows x 27 columns]"
      ]
     },
     "execution_count": 69,
     "metadata": {},
     "output_type": "execute_result"
    }
   ],
   "source": [
    "train.describe()"
   ]
  },
  {
   "cell_type": "code",
   "execution_count": 70,
   "metadata": {},
   "outputs": [],
   "source": [
    "# creating a new feature - min_per_song i.e. average minutes listened per song\n",
    "\n",
    "train['min_per_song'] = train['total_minutes']/(train['num_25']+train['num_50']+train['num_75']+train['num_985']+train['num_100'])\n",
    "\n",
    "# creating a new feature - avg_min_per_unq i.e. average minutes listened per unique song\n",
    "\n",
    "train['avg_min_per_unq'] = train['mean_total_min']/train['mean_num_unq']"
   ]
  },
  {
   "cell_type": "code",
   "execution_count": 71,
   "metadata": {},
   "outputs": [
    {
     "data": {
      "text/html": [
       "<div>\n",
       "<style scoped>\n",
       "    .dataframe tbody tr th:only-of-type {\n",
       "        vertical-align: middle;\n",
       "    }\n",
       "\n",
       "    .dataframe tbody tr th {\n",
       "        vertical-align: top;\n",
       "    }\n",
       "\n",
       "    .dataframe thead th {\n",
       "        text-align: right;\n",
       "    }\n",
       "</style>\n",
       "<table border=\"1\" class=\"dataframe\">\n",
       "  <thead>\n",
       "    <tr style=\"text-align: right;\">\n",
       "      <th></th>\n",
       "      <th>msno</th>\n",
       "      <th>is_churn</th>\n",
       "      <th>payment_method_id</th>\n",
       "      <th>payment_plan_days</th>\n",
       "      <th>plan_list_price</th>\n",
       "      <th>is_auto_renew</th>\n",
       "      <th>transaction_date</th>\n",
       "      <th>trans_count</th>\n",
       "      <th>day_of_month</th>\n",
       "      <th>month_day</th>\n",
       "      <th>...</th>\n",
       "      <th>total_minutes</th>\n",
       "      <th>mean_num_25</th>\n",
       "      <th>mean_num_50</th>\n",
       "      <th>mean_num_75</th>\n",
       "      <th>mean_num_985</th>\n",
       "      <th>mean_num_100</th>\n",
       "      <th>mean_num_unq</th>\n",
       "      <th>mean_total_min</th>\n",
       "      <th>min_per_song</th>\n",
       "      <th>avg_min_per_unq</th>\n",
       "    </tr>\n",
       "  </thead>\n",
       "  <tbody>\n",
       "    <tr>\n",
       "      <th>0</th>\n",
       "      <td>f/NmvEzHfhINFEYZTR05prUdr+E+3+oewvweYz9cCQE=</td>\n",
       "      <td>1</td>\n",
       "      <td>36.0</td>\n",
       "      <td>30.0</td>\n",
       "      <td>180.0</td>\n",
       "      <td>0.0</td>\n",
       "      <td>20170311.0</td>\n",
       "      <td>1.0</td>\n",
       "      <td>11.0</td>\n",
       "      <td>311.0</td>\n",
       "      <td>...</td>\n",
       "      <td>116.441817</td>\n",
       "      <td>0.000000</td>\n",
       "      <td>0.666667</td>\n",
       "      <td>0.333333</td>\n",
       "      <td>0.000000</td>\n",
       "      <td>4.333333</td>\n",
       "      <td>5.000000</td>\n",
       "      <td>19.406969</td>\n",
       "      <td>3.638807</td>\n",
       "      <td>3.881394</td>\n",
       "    </tr>\n",
       "    <tr>\n",
       "      <th>1</th>\n",
       "      <td>zLo9f73nGGT1p21ltZC3ChiRnAVvgibMyazbCxvWPcg=</td>\n",
       "      <td>1</td>\n",
       "      <td>15.0</td>\n",
       "      <td>90.0</td>\n",
       "      <td>300.0</td>\n",
       "      <td>0.0</td>\n",
       "      <td>20170314.0</td>\n",
       "      <td>2.0</td>\n",
       "      <td>14.0</td>\n",
       "      <td>314.0</td>\n",
       "      <td>...</td>\n",
       "      <td>1130.174450</td>\n",
       "      <td>11.950000</td>\n",
       "      <td>2.850000</td>\n",
       "      <td>1.600000</td>\n",
       "      <td>1.100000</td>\n",
       "      <td>10.250000</td>\n",
       "      <td>21.600000</td>\n",
       "      <td>56.508722</td>\n",
       "      <td>2.036350</td>\n",
       "      <td>2.616145</td>\n",
       "    </tr>\n",
       "    <tr>\n",
       "      <th>3</th>\n",
       "      <td>K6fja4+jmoZ5xG6BypqX80Uw/XKpMgrEMdG2edFOxnA=</td>\n",
       "      <td>1</td>\n",
       "      <td>41.0</td>\n",
       "      <td>30.0</td>\n",
       "      <td>99.0</td>\n",
       "      <td>1.0</td>\n",
       "      <td>20170316.0</td>\n",
       "      <td>8.0</td>\n",
       "      <td>16.0</td>\n",
       "      <td>316.0</td>\n",
       "      <td>...</td>\n",
       "      <td>3998.037350</td>\n",
       "      <td>0.600000</td>\n",
       "      <td>0.466667</td>\n",
       "      <td>0.266667</td>\n",
       "      <td>0.266667</td>\n",
       "      <td>64.133333</td>\n",
       "      <td>36.533333</td>\n",
       "      <td>266.535823</td>\n",
       "      <td>4.054805</td>\n",
       "      <td>7.295689</td>\n",
       "    </tr>\n",
       "    <tr>\n",
       "      <th>4</th>\n",
       "      <td>ibIHVYBqxGwrSExE63/omeDD99M5vYB3CN2HzkEY+eM=</td>\n",
       "      <td>1</td>\n",
       "      <td>40.0</td>\n",
       "      <td>30.0</td>\n",
       "      <td>149.0</td>\n",
       "      <td>1.0</td>\n",
       "      <td>20170316.0</td>\n",
       "      <td>1.0</td>\n",
       "      <td>16.0</td>\n",
       "      <td>316.0</td>\n",
       "      <td>...</td>\n",
       "      <td>168.511083</td>\n",
       "      <td>1.500000</td>\n",
       "      <td>0.250000</td>\n",
       "      <td>0.250000</td>\n",
       "      <td>1.000000</td>\n",
       "      <td>9.250000</td>\n",
       "      <td>12.000000</td>\n",
       "      <td>42.127771</td>\n",
       "      <td>3.439002</td>\n",
       "      <td>3.510648</td>\n",
       "    </tr>\n",
       "    <tr>\n",
       "      <th>6</th>\n",
       "      <td>moRTKhKIDvb+C8ZHOgmaF4dXMLk0jOn65d7a8tQ2Eds=</td>\n",
       "      <td>1</td>\n",
       "      <td>38.0</td>\n",
       "      <td>410.0</td>\n",
       "      <td>1788.0</td>\n",
       "      <td>0.0</td>\n",
       "      <td>20170324.0</td>\n",
       "      <td>1.0</td>\n",
       "      <td>24.0</td>\n",
       "      <td>324.0</td>\n",
       "      <td>...</td>\n",
       "      <td>4847.196583</td>\n",
       "      <td>2.516129</td>\n",
       "      <td>0.645161</td>\n",
       "      <td>0.967742</td>\n",
       "      <td>0.516129</td>\n",
       "      <td>33.000000</td>\n",
       "      <td>24.451613</td>\n",
       "      <td>156.361180</td>\n",
       "      <td>4.153553</td>\n",
       "      <td>6.394718</td>\n",
       "    </tr>\n",
       "  </tbody>\n",
       "</table>\n",
       "<p>5 rows × 30 columns</p>\n",
       "</div>"
      ],
      "text/plain": [
       "                                           msno  is_churn  payment_method_id  \\\n",
       "0  f/NmvEzHfhINFEYZTR05prUdr+E+3+oewvweYz9cCQE=         1               36.0   \n",
       "1  zLo9f73nGGT1p21ltZC3ChiRnAVvgibMyazbCxvWPcg=         1               15.0   \n",
       "3  K6fja4+jmoZ5xG6BypqX80Uw/XKpMgrEMdG2edFOxnA=         1               41.0   \n",
       "4  ibIHVYBqxGwrSExE63/omeDD99M5vYB3CN2HzkEY+eM=         1               40.0   \n",
       "6  moRTKhKIDvb+C8ZHOgmaF4dXMLk0jOn65d7a8tQ2Eds=         1               38.0   \n",
       "\n",
       "   payment_plan_days  plan_list_price  is_auto_renew  transaction_date  \\\n",
       "0               30.0            180.0            0.0        20170311.0   \n",
       "1               90.0            300.0            0.0        20170314.0   \n",
       "3               30.0             99.0            1.0        20170316.0   \n",
       "4               30.0            149.0            1.0        20170316.0   \n",
       "6              410.0           1788.0            0.0        20170324.0   \n",
       "\n",
       "   trans_count  day_of_month  month_day  ...  total_minutes  mean_num_25  \\\n",
       "0          1.0          11.0      311.0  ...     116.441817     0.000000   \n",
       "1          2.0          14.0      314.0  ...    1130.174450    11.950000   \n",
       "3          8.0          16.0      316.0  ...    3998.037350     0.600000   \n",
       "4          1.0          16.0      316.0  ...     168.511083     1.500000   \n",
       "6          1.0          24.0      324.0  ...    4847.196583     2.516129   \n",
       "\n",
       "   mean_num_50  mean_num_75  mean_num_985  mean_num_100  mean_num_unq  \\\n",
       "0     0.666667     0.333333      0.000000      4.333333      5.000000   \n",
       "1     2.850000     1.600000      1.100000     10.250000     21.600000   \n",
       "3     0.466667     0.266667      0.266667     64.133333     36.533333   \n",
       "4     0.250000     0.250000      1.000000      9.250000     12.000000   \n",
       "6     0.645161     0.967742      0.516129     33.000000     24.451613   \n",
       "\n",
       "   mean_total_min  min_per_song  avg_min_per_unq  \n",
       "0       19.406969      3.638807         3.881394  \n",
       "1       56.508722      2.036350         2.616145  \n",
       "3      266.535823      4.054805         7.295689  \n",
       "4       42.127771      3.439002         3.510648  \n",
       "6      156.361180      4.153553         6.394718  \n",
       "\n",
       "[5 rows x 30 columns]"
      ]
     },
     "execution_count": 71,
     "metadata": {},
     "output_type": "execute_result"
    }
   ],
   "source": [
    "train.head()"
   ]
  },
  {
   "cell_type": "code",
   "execution_count": 81,
   "metadata": {},
   "outputs": [],
   "source": [
    "numerical_columns = ['payment_plan_days','plan_list_price','num_25', 'num_50', 'num_75', 'num_985', 'num_100',\n",
    "                     'num_unq', 'total_minutes', 'mean_num_25', 'mean_num_50', 'mean_num_75','mean_num_985', \n",
    "                     'mean_num_100', 'mean_num_unq', 'mean_total_min']\n",
    "    \n",
    "categorical_columns = ['payment_method_id','is_auto_renew','city','registered_via']"
   ]
  },
  {
   "cell_type": "code",
   "execution_count": 82,
   "metadata": {},
   "outputs": [],
   "source": [
    "# function to get mean values for all numerical features\n",
    "def get_mean(data,numerical_columns):\n",
    "    \n",
    "    mean_dict = dict()\n",
    "    \n",
    "    for column in numerical_columns:\n",
    "        \n",
    "        mean_dict[column] = np.mean(data[column])\n",
    "        \n",
    "    return mean_dict\n",
    "\n",
    "#=================================================================\n",
    "\n",
    "# function to get mode values for all categorical features\n",
    "def get_mode(data,categorical_columns):\n",
    "    \n",
    "    mode_dict = dict()\n",
    "    \n",
    "    for column in categorical_columns:\n",
    "        \n",
    "        mode_dict[column] = data[column].value_counts().index[0]\n",
    "        \n",
    "    return mode_dict\n",
    "    "
   ]
  },
  {
   "cell_type": "code",
   "execution_count": 83,
   "metadata": {},
   "outputs": [
    {
     "name": "stdout",
     "output_type": "stream",
     "text": [
      "Mean values from train data: {'payment_plan_days': 34.98213951078629, 'plan_list_price': 153.75066966500214, 'num_25': 110.3656191783238, 'num_50': 26.624305532590363, 'num_75': 16.793927819482565, 'num_985': 19.00455950924303, 'num_100': 545.5157385054621, 'num_unq': 520.4394476779435, 'total_minutes': 2370.9663163264554, 'mean_num_25': 5.386564784897543, 'mean_num_50': 1.313765812442121, 'mean_num_75': 0.8053945419841362, 'mean_num_985': 0.8886112667008449, 'mean_num_100': 24.834056758886682, 'mean_num_unq': 24.44008088163879, 'mean_total_min': 108.52863953034559}\n",
      "==================================================\n",
      "Mode values from train data: {'payment_method_id': 41.0, 'is_auto_renew': 1.0, 'city': 1.0, 'registered_via': 7.0}\n"
     ]
    }
   ],
   "source": [
    "# getting mean and mode values from train data\n",
    "\n",
    "train_data_mean = get_mean(train,numerical_columns)\n",
    "train_data_mode = get_mode(train,categorical_columns)\n",
    "\n",
    "print(\"Mean values from train data:\",train_data_mean)\n",
    "print(\"=\"*50)\n",
    "print(\"Mode values from train data:\",train_data_mode)"
   ]
  },
  {
   "cell_type": "code",
   "execution_count": 85,
   "metadata": {},
   "outputs": [],
   "source": [
    "# https://www.kaggle.com/hjsdssz/kkbox-churn-prediction-model \n",
    "\n",
    "# function to fill NULL values of numerical features with mean\n",
    "\n",
    "def fill_with_mean(data,numerical_columns):\n",
    "    \n",
    "    for column in numerical_columns:\n",
    "        data[column].fillna(train_data_mean[column],inplace=True)\n",
    "\n",
    "#===============================================================================\n",
    "\n",
    "# function to fill NULL values of categorical features with most occuring values \n",
    "\n",
    "def fill_with_mode(data,categorical_columns): \n",
    "    \n",
    "    for column in categorical_columns:\n",
    "        data[column].fillna(train_data_mode[column], inplace=True)"
   ]
  },
  {
   "cell_type": "code",
   "execution_count": 87,
   "metadata": {
    "scrolled": true
   },
   "outputs": [
    {
     "data": {
      "text/plain": [
       "Index(['msno', 'is_churn', 'payment_method_id', 'payment_plan_days',\n",
       "       'plan_list_price', 'is_auto_renew', 'transaction_date', 'trans_count',\n",
       "       'day_of_month', 'month_day', 'day_of_week', 'is_weekend', 'city',\n",
       "       'registered_via', 'num_25', 'num_50', 'num_75', 'num_985', 'num_100',\n",
       "       'num_unq', 'total_minutes', 'mean_num_25', 'mean_num_50', 'mean_num_75',\n",
       "       'mean_num_985', 'mean_num_100', 'mean_num_unq', 'mean_total_min',\n",
       "       'min_per_song', 'avg_min_per_unq'],\n",
       "      dtype='object')"
      ]
     },
     "execution_count": 87,
     "metadata": {},
     "output_type": "execute_result"
    }
   ],
   "source": [
    "train.columns"
   ]
  },
  {
   "cell_type": "code",
   "execution_count": 89,
   "metadata": {},
   "outputs": [
    {
     "name": "stdout",
     "output_type": "stream",
     "text": [
      "(700228, 30)\n"
     ]
    },
    {
     "data": {
      "text/html": [
       "<div>\n",
       "<style scoped>\n",
       "    .dataframe tbody tr th:only-of-type {\n",
       "        vertical-align: middle;\n",
       "    }\n",
       "\n",
       "    .dataframe tbody tr th {\n",
       "        vertical-align: top;\n",
       "    }\n",
       "\n",
       "    .dataframe thead th {\n",
       "        text-align: right;\n",
       "    }\n",
       "</style>\n",
       "<table border=\"1\" class=\"dataframe\">\n",
       "  <thead>\n",
       "    <tr style=\"text-align: right;\">\n",
       "      <th></th>\n",
       "      <th>msno</th>\n",
       "      <th>is_churn</th>\n",
       "      <th>payment_method_id</th>\n",
       "      <th>payment_plan_days</th>\n",
       "      <th>plan_list_price</th>\n",
       "      <th>is_auto_renew</th>\n",
       "      <th>transaction_date</th>\n",
       "      <th>trans_count</th>\n",
       "      <th>day_of_month</th>\n",
       "      <th>month_day</th>\n",
       "      <th>...</th>\n",
       "      <th>total_minutes</th>\n",
       "      <th>mean_num_25</th>\n",
       "      <th>mean_num_50</th>\n",
       "      <th>mean_num_75</th>\n",
       "      <th>mean_num_985</th>\n",
       "      <th>mean_num_100</th>\n",
       "      <th>mean_num_unq</th>\n",
       "      <th>mean_total_min</th>\n",
       "      <th>min_per_song</th>\n",
       "      <th>avg_min_per_unq</th>\n",
       "    </tr>\n",
       "  </thead>\n",
       "  <tbody>\n",
       "    <tr>\n",
       "      <th>1</th>\n",
       "      <td>aNmbC1GvFUxQyQUidCVmfbQ0YeCuwkPzEdQ0RwWyeZM=</td>\n",
       "      <td>0</td>\n",
       "      <td>34.0</td>\n",
       "      <td>30.0</td>\n",
       "      <td>149.0</td>\n",
       "      <td>1.0</td>\n",
       "      <td>20170331.0</td>\n",
       "      <td>1.0</td>\n",
       "      <td>31.0</td>\n",
       "      <td>331.0</td>\n",
       "      <td>...</td>\n",
       "      <td>8346.710667</td>\n",
       "      <td>17.741935</td>\n",
       "      <td>5.677419</td>\n",
       "      <td>4.032258</td>\n",
       "      <td>4.225806</td>\n",
       "      <td>54.870968</td>\n",
       "      <td>73.322581</td>\n",
       "      <td>269.248731</td>\n",
       "      <td>3.110962</td>\n",
       "      <td>3.672112</td>\n",
       "    </tr>\n",
       "    <tr>\n",
       "      <th>2</th>\n",
       "      <td>rFC9eSG/tMuzpre6cwcMLZHEYM89xY02qcz7HL4//jc=</td>\n",
       "      <td>0</td>\n",
       "      <td>41.0</td>\n",
       "      <td>30.0</td>\n",
       "      <td>99.0</td>\n",
       "      <td>1.0</td>\n",
       "      <td>20170315.0</td>\n",
       "      <td>1.0</td>\n",
       "      <td>15.0</td>\n",
       "      <td>315.0</td>\n",
       "      <td>...</td>\n",
       "      <td>396.904500</td>\n",
       "      <td>7.900000</td>\n",
       "      <td>1.900000</td>\n",
       "      <td>0.100000</td>\n",
       "      <td>0.200000</td>\n",
       "      <td>8.400000</td>\n",
       "      <td>14.900000</td>\n",
       "      <td>39.690450</td>\n",
       "      <td>2.145430</td>\n",
       "      <td>2.663789</td>\n",
       "    </tr>\n",
       "    <tr>\n",
       "      <th>5</th>\n",
       "      <td>nu1jZ/flvSaXRg0U9Es+xmo2KlAXq/q+mhcWFStwm9w=</td>\n",
       "      <td>0</td>\n",
       "      <td>36.0</td>\n",
       "      <td>30.0</td>\n",
       "      <td>180.0</td>\n",
       "      <td>0.0</td>\n",
       "      <td>20170326.0</td>\n",
       "      <td>1.0</td>\n",
       "      <td>26.0</td>\n",
       "      <td>326.0</td>\n",
       "      <td>...</td>\n",
       "      <td>9544.094933</td>\n",
       "      <td>4.200000</td>\n",
       "      <td>1.366667</td>\n",
       "      <td>0.866667</td>\n",
       "      <td>1.000000</td>\n",
       "      <td>75.233333</td>\n",
       "      <td>68.900000</td>\n",
       "      <td>318.136498</td>\n",
       "      <td>3.848425</td>\n",
       "      <td>4.617366</td>\n",
       "    </tr>\n",
       "    <tr>\n",
       "      <th>6</th>\n",
       "      <td>biDTtgK83fEWXJDaxzD1eh22dion/h3odeIbS7qJMmY=</td>\n",
       "      <td>0</td>\n",
       "      <td>37.0</td>\n",
       "      <td>30.0</td>\n",
       "      <td>149.0</td>\n",
       "      <td>1.0</td>\n",
       "      <td>20170305.0</td>\n",
       "      <td>1.0</td>\n",
       "      <td>5.0</td>\n",
       "      <td>305.0</td>\n",
       "      <td>...</td>\n",
       "      <td>680.502100</td>\n",
       "      <td>0.909091</td>\n",
       "      <td>0.909091</td>\n",
       "      <td>0.545455</td>\n",
       "      <td>0.363636</td>\n",
       "      <td>15.727273</td>\n",
       "      <td>14.181818</td>\n",
       "      <td>61.863827</td>\n",
       "      <td>3.352227</td>\n",
       "      <td>4.362193</td>\n",
       "    </tr>\n",
       "    <tr>\n",
       "      <th>8</th>\n",
       "      <td>18rQ/746SjA6nBx325UsyhfsDhu4tK01FXFxHWZjw20=</td>\n",
       "      <td>0</td>\n",
       "      <td>40.0</td>\n",
       "      <td>30.0</td>\n",
       "      <td>149.0</td>\n",
       "      <td>1.0</td>\n",
       "      <td>20170308.0</td>\n",
       "      <td>1.0</td>\n",
       "      <td>8.0</td>\n",
       "      <td>308.0</td>\n",
       "      <td>...</td>\n",
       "      <td>4148.047433</td>\n",
       "      <td>0.680000</td>\n",
       "      <td>0.240000</td>\n",
       "      <td>0.320000</td>\n",
       "      <td>0.240000</td>\n",
       "      <td>39.200000</td>\n",
       "      <td>38.840000</td>\n",
       "      <td>165.921897</td>\n",
       "      <td>4.078709</td>\n",
       "      <td>4.271934</td>\n",
       "    </tr>\n",
       "  </tbody>\n",
       "</table>\n",
       "<p>5 rows × 30 columns</p>\n",
       "</div>"
      ],
      "text/plain": [
       "                                           msno  is_churn  payment_method_id  \\\n",
       "1  aNmbC1GvFUxQyQUidCVmfbQ0YeCuwkPzEdQ0RwWyeZM=         0               34.0   \n",
       "2  rFC9eSG/tMuzpre6cwcMLZHEYM89xY02qcz7HL4//jc=         0               41.0   \n",
       "5  nu1jZ/flvSaXRg0U9Es+xmo2KlAXq/q+mhcWFStwm9w=         0               36.0   \n",
       "6  biDTtgK83fEWXJDaxzD1eh22dion/h3odeIbS7qJMmY=         0               37.0   \n",
       "8  18rQ/746SjA6nBx325UsyhfsDhu4tK01FXFxHWZjw20=         0               40.0   \n",
       "\n",
       "   payment_plan_days  plan_list_price  is_auto_renew  transaction_date  \\\n",
       "1               30.0            149.0            1.0        20170331.0   \n",
       "2               30.0             99.0            1.0        20170315.0   \n",
       "5               30.0            180.0            0.0        20170326.0   \n",
       "6               30.0            149.0            1.0        20170305.0   \n",
       "8               30.0            149.0            1.0        20170308.0   \n",
       "\n",
       "   trans_count  day_of_month  month_day  ...  total_minutes  mean_num_25  \\\n",
       "1          1.0          31.0      331.0  ...    8346.710667    17.741935   \n",
       "2          1.0          15.0      315.0  ...     396.904500     7.900000   \n",
       "5          1.0          26.0      326.0  ...    9544.094933     4.200000   \n",
       "6          1.0           5.0      305.0  ...     680.502100     0.909091   \n",
       "8          1.0           8.0      308.0  ...    4148.047433     0.680000   \n",
       "\n",
       "   mean_num_50  mean_num_75  mean_num_985  mean_num_100  mean_num_unq  \\\n",
       "1     5.677419     4.032258      4.225806     54.870968     73.322581   \n",
       "2     1.900000     0.100000      0.200000      8.400000     14.900000   \n",
       "5     1.366667     0.866667      1.000000     75.233333     68.900000   \n",
       "6     0.909091     0.545455      0.363636     15.727273     14.181818   \n",
       "8     0.240000     0.320000      0.240000     39.200000     38.840000   \n",
       "\n",
       "   mean_total_min  min_per_song  avg_min_per_unq  \n",
       "1      269.248731      3.110962         3.672112  \n",
       "2       39.690450      2.145430         2.663789  \n",
       "5      318.136498      3.848425         4.617366  \n",
       "6       61.863827      3.352227         4.362193  \n",
       "8      165.921897      4.078709         4.271934  \n",
       "\n",
       "[5 rows x 30 columns]"
      ]
     },
     "execution_count": 89,
     "metadata": {},
     "output_type": "execute_result"
    }
   ],
   "source": [
    "# merging test labels with transactions dataframe\n",
    "test = sample_submission_v2.merge(transactions_v2,how='left',on='msno')\n",
    "test.dropna(inplace=True)   # dropping datapoints that don't have any transactions\n",
    "\n",
    "# merging members data for test dataset users\n",
    "test = test.merge(members,how='left',on='msno')\n",
    "test.drop(columns=['bd'],axis=1,inplace=True)  # drop 'bd' (age) column\n",
    "\n",
    "#filling categorical fetaures like city,registered_via etc, with mode values i.e. most occured value for that feature\n",
    "fill_with_mode(test,categorical_columns)\n",
    "\n",
    "# merging test user's logs \n",
    "test = test.merge(user_logs, how='left',on='msno')\n",
    "test.dropna(inplace=True)   # dropping datapoints that dont have any logs\n",
    "\n",
    "# creating a new feature - min_per_song i.e. average minutes listened per song\n",
    "\n",
    "test['min_per_song'] = test['total_minutes']/(test['num_25']+test['num_50']+test['num_75']+test['num_985']+test['num_100'])\n",
    "\n",
    "# creating a new feature - avg_min_per_unq i.e. average minutes listened per unique song\n",
    "\n",
    "test['avg_min_per_unq'] = test['mean_total_min']/test['mean_num_unq']\n",
    "\n",
    "print(test.shape)\n",
    "test.head()"
   ]
  }
 ],
 "metadata": {
  "kernelspec": {
   "display_name": "Python 3",
   "language": "python",
   "name": "python3"
  },
  "language_info": {
   "codemirror_mode": {
    "name": "ipython",
    "version": 3
   },
   "file_extension": ".py",
   "mimetype": "text/x-python",
   "name": "python",
   "nbconvert_exporter": "python",
   "pygments_lexer": "ipython3",
   "version": "3.6.5"
  }
 },
 "nbformat": 4,
 "nbformat_minor": 2
}
